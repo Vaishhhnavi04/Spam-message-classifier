{
 "cells": [
  {
   "cell_type": "code",
   "execution_count": 3,
   "id": "c52fff30-42e8-4924-8a6f-7c59217013c5",
   "metadata": {},
   "outputs": [
    {
     "name": "stdout",
     "output_type": "stream",
     "text": [
      "Collecting numpy\n",
      "  Downloading numpy-1.25.1-cp311-cp311-win_amd64.whl (15.0 MB)\n",
      "                                              0.0/15.0 MB ? eta -:--:--\n",
      "                                              0.1/15.0 MB 1.5 MB/s eta 0:00:10\n",
      "                                              0.1/15.0 MB 1.4 MB/s eta 0:00:11\n",
      "                                              0.2/15.0 MB 1.7 MB/s eta 0:00:09\n",
      "     -                                        0.4/15.0 MB 2.3 MB/s eta 0:00:07\n",
      "     -                                        0.6/15.0 MB 2.4 MB/s eta 0:00:07\n",
      "     -                                        0.7/15.0 MB 2.6 MB/s eta 0:00:06\n",
      "     --                                       0.9/15.0 MB 2.8 MB/s eta 0:00:06\n",
      "     ---                                      1.1/15.0 MB 3.0 MB/s eta 0:00:05\n",
      "     ---                                      1.3/15.0 MB 3.0 MB/s eta 0:00:05\n",
      "     ---                                      1.5/15.0 MB 3.1 MB/s eta 0:00:05\n",
      "     ----                                     1.7/15.0 MB 3.2 MB/s eta 0:00:05\n",
      "     ----                                     1.9/15.0 MB 3.3 MB/s eta 0:00:04\n",
      "     -----                                    2.1/15.0 MB 3.4 MB/s eta 0:00:04\n",
      "     ------                                   2.3/15.0 MB 3.5 MB/s eta 0:00:04\n",
      "     ------                                   2.5/15.0 MB 3.6 MB/s eta 0:00:04\n",
      "     -------                                  2.8/15.0 MB 3.7 MB/s eta 0:00:04\n",
      "     -------                                  3.0/15.0 MB 3.7 MB/s eta 0:00:04\n",
      "     --------                                 3.2/15.0 MB 3.8 MB/s eta 0:00:04\n",
      "     ---------                                3.4/15.0 MB 3.8 MB/s eta 0:00:04\n",
      "     ---------                                3.6/15.0 MB 3.9 MB/s eta 0:00:03\n",
      "     ----------                               3.9/15.0 MB 3.9 MB/s eta 0:00:03\n",
      "     ----------                               4.1/15.0 MB 4.0 MB/s eta 0:00:03\n",
      "     -----------                              4.3/15.0 MB 4.0 MB/s eta 0:00:03\n",
      "     -----------                              4.5/15.0 MB 4.0 MB/s eta 0:00:03\n",
      "     ------------                             4.8/15.0 MB 4.0 MB/s eta 0:00:03\n",
      "     -------------                            4.9/15.0 MB 4.1 MB/s eta 0:00:03\n",
      "     -------------                            5.2/15.0 MB 4.1 MB/s eta 0:00:03\n",
      "     --------------                           5.5/15.0 MB 4.2 MB/s eta 0:00:03\n",
      "     ---------------                          5.7/15.0 MB 4.2 MB/s eta 0:00:03\n",
      "     ---------------                          5.9/15.0 MB 4.2 MB/s eta 0:00:03\n",
      "     ----------------                         6.1/15.0 MB 4.2 MB/s eta 0:00:03\n",
      "     ----------------                         6.3/15.0 MB 4.2 MB/s eta 0:00:03\n",
      "     -----------------                        6.5/15.0 MB 4.2 MB/s eta 0:00:03\n",
      "     -----------------                        6.7/15.0 MB 4.2 MB/s eta 0:00:02\n",
      "     ------------------                       6.9/15.0 MB 4.3 MB/s eta 0:00:02\n",
      "     ------------------                       7.1/15.0 MB 4.2 MB/s eta 0:00:02\n",
      "     -------------------                      7.4/15.0 MB 4.3 MB/s eta 0:00:02\n",
      "     --------------------                     7.5/15.0 MB 4.3 MB/s eta 0:00:02\n",
      "     --------------------                     7.7/15.0 MB 4.3 MB/s eta 0:00:02\n",
      "     ---------------------                    8.0/15.0 MB 4.3 MB/s eta 0:00:02\n",
      "     ---------------------                    8.2/15.0 MB 4.3 MB/s eta 0:00:02\n",
      "     ----------------------                   8.4/15.0 MB 4.3 MB/s eta 0:00:02\n",
      "     -----------------------                  8.7/15.0 MB 4.3 MB/s eta 0:00:02\n",
      "     -----------------------                  8.9/15.0 MB 4.3 MB/s eta 0:00:02\n",
      "     ------------------------                 9.1/15.0 MB 4.3 MB/s eta 0:00:02\n",
      "     ------------------------                 9.3/15.0 MB 4.3 MB/s eta 0:00:02\n",
      "     -------------------------                9.6/15.0 MB 4.4 MB/s eta 0:00:02\n",
      "     -------------------------                9.7/15.0 MB 4.4 MB/s eta 0:00:02\n",
      "     --------------------------               9.9/15.0 MB 4.4 MB/s eta 0:00:02\n",
      "     ---------------------------              10.2/15.0 MB 4.4 MB/s eta 0:00:02\n",
      "     ---------------------------              10.4/15.0 MB 4.5 MB/s eta 0:00:02\n",
      "     ----------------------------             10.6/15.0 MB 4.5 MB/s eta 0:00:01\n",
      "     ----------------------------             10.8/15.0 MB 4.6 MB/s eta 0:00:01\n",
      "     -----------------------------            11.1/15.0 MB 4.6 MB/s eta 0:00:01\n",
      "     ------------------------------           11.3/15.0 MB 4.6 MB/s eta 0:00:01\n",
      "     ------------------------------           11.6/15.0 MB 4.7 MB/s eta 0:00:01\n",
      "     -------------------------------          11.8/15.0 MB 4.7 MB/s eta 0:00:01\n",
      "     -------------------------------          12.0/15.0 MB 4.7 MB/s eta 0:00:01\n",
      "     --------------------------------         12.2/15.0 MB 4.7 MB/s eta 0:00:01\n",
      "     ---------------------------------        12.4/15.0 MB 4.7 MB/s eta 0:00:01\n",
      "     ---------------------------------        12.7/15.0 MB 4.7 MB/s eta 0:00:01\n",
      "     ----------------------------------       13.0/15.0 MB 4.7 MB/s eta 0:00:01\n",
      "     -----------------------------------      13.2/15.0 MB 4.7 MB/s eta 0:00:01\n",
      "     -----------------------------------      13.4/15.0 MB 4.8 MB/s eta 0:00:01\n",
      "     ------------------------------------     13.7/15.0 MB 4.8 MB/s eta 0:00:01\n",
      "     ------------------------------------     13.9/15.0 MB 4.8 MB/s eta 0:00:01\n",
      "     -------------------------------------    14.2/15.0 MB 4.8 MB/s eta 0:00:01\n",
      "     --------------------------------------   14.4/15.0 MB 4.8 MB/s eta 0:00:01\n",
      "     ---------------------------------------  14.7/15.0 MB 4.8 MB/s eta 0:00:01\n",
      "     ---------------------------------------  14.9/15.0 MB 4.9 MB/s eta 0:00:01\n",
      "     ---------------------------------------  15.0/15.0 MB 4.9 MB/s eta 0:00:01\n",
      "     ---------------------------------------  15.0/15.0 MB 4.9 MB/s eta 0:00:01\n",
      "     ---------------------------------------  15.0/15.0 MB 4.9 MB/s eta 0:00:01\n",
      "     ---------------------------------------  15.0/15.0 MB 4.9 MB/s eta 0:00:01\n",
      "     ---------------------------------------- 15.0/15.0 MB 4.5 MB/s eta 0:00:00\n",
      "Installing collected packages: numpy\n",
      "Successfully installed numpy-1.25.1\n"
     ]
    },
    {
     "name": "stderr",
     "output_type": "stream",
     "text": [
      "\n",
      "[notice] A new release of pip is available: 23.1.2 -> 23.2\n",
      "[notice] To update, run: C:\\Users\\SHRI\\AppData\\Local\\Programs\\Python\\Python311\\python.exe -m pip install --upgrade pip\n"
     ]
    }
   ],
   "source": [
    "!pip install numpy"
   ]
  },
  {
   "cell_type": "code",
   "execution_count": 4,
   "id": "8c67dc35-0d72-4422-8369-25b05fa40516",
   "metadata": {},
   "outputs": [
    {
     "name": "stdout",
     "output_type": "stream",
     "text": [
      "Collecting pandas\n",
      "  Downloading pandas-2.0.3-cp311-cp311-win_amd64.whl (10.6 MB)\n",
      "                                              0.0/10.6 MB ? eta -:--:--\n",
      "                                              0.1/10.6 MB 4.8 MB/s eta 0:00:03\n",
      "                                              0.2/10.6 MB 2.4 MB/s eta 0:00:05\n",
      "     -                                        0.4/10.6 MB 3.6 MB/s eta 0:00:03\n",
      "     --                                       0.6/10.6 MB 3.9 MB/s eta 0:00:03\n",
      "     ---                                      0.8/10.6 MB 3.6 MB/s eta 0:00:03\n",
      "     ---                                      1.0/10.6 MB 4.1 MB/s eta 0:00:03\n",
      "     ----                                     1.2/10.6 MB 4.0 MB/s eta 0:00:03\n",
      "     -----                                    1.4/10.6 MB 4.0 MB/s eta 0:00:03\n",
      "     ------                                   1.6/10.6 MB 4.1 MB/s eta 0:00:03\n",
      "     ------                                   1.8/10.6 MB 4.1 MB/s eta 0:00:03\n",
      "     -------                                  2.0/10.6 MB 4.1 MB/s eta 0:00:03\n",
      "     --------                                 2.2/10.6 MB 4.1 MB/s eta 0:00:03\n",
      "     --------                                 2.3/10.6 MB 4.0 MB/s eta 0:00:03\n",
      "     ---------                                2.6/10.6 MB 4.2 MB/s eta 0:00:02\n",
      "     ----------                               2.8/10.6 MB 4.2 MB/s eta 0:00:02\n",
      "     -----------                              3.0/10.6 MB 4.2 MB/s eta 0:00:02\n",
      "     -----------                              3.2/10.6 MB 4.1 MB/s eta 0:00:02\n",
      "     ------------                             3.3/10.6 MB 4.1 MB/s eta 0:00:02\n",
      "     -------------                            3.5/10.6 MB 4.0 MB/s eta 0:00:02\n",
      "     -------------                            3.6/10.6 MB 4.0 MB/s eta 0:00:02\n",
      "     --------------                           3.8/10.6 MB 3.9 MB/s eta 0:00:02\n",
      "     --------------                           3.9/10.6 MB 3.9 MB/s eta 0:00:02\n",
      "     ---------------                          4.1/10.6 MB 3.9 MB/s eta 0:00:02\n",
      "     ---------------                          4.2/10.6 MB 3.8 MB/s eta 0:00:02\n",
      "     ----------------                         4.3/10.6 MB 3.8 MB/s eta 0:00:02\n",
      "     ----------------                         4.5/10.6 MB 3.8 MB/s eta 0:00:02\n",
      "     -----------------                        4.6/10.6 MB 3.8 MB/s eta 0:00:02\n",
      "     -----------------                        4.8/10.6 MB 3.7 MB/s eta 0:00:02\n",
      "     ------------------                       4.9/10.6 MB 3.7 MB/s eta 0:00:02\n",
      "     -------------------                      5.0/10.6 MB 3.7 MB/s eta 0:00:02\n",
      "     -------------------                      5.3/10.6 MB 3.7 MB/s eta 0:00:02\n",
      "     --------------------                     5.5/10.6 MB 3.7 MB/s eta 0:00:02\n",
      "     ---------------------                    5.7/10.6 MB 3.8 MB/s eta 0:00:02\n",
      "     ----------------------                   6.0/10.6 MB 3.8 MB/s eta 0:00:02\n",
      "     -----------------------                  6.2/10.6 MB 3.9 MB/s eta 0:00:02\n",
      "     ------------------------                 6.5/10.6 MB 3.9 MB/s eta 0:00:02\n",
      "     -------------------------                6.7/10.6 MB 3.9 MB/s eta 0:00:02\n",
      "     --------------------------               6.9/10.6 MB 3.9 MB/s eta 0:00:01\n",
      "     --------------------------               7.1/10.6 MB 4.0 MB/s eta 0:00:01\n",
      "     ---------------------------              7.4/10.6 MB 4.0 MB/s eta 0:00:01\n",
      "     ----------------------------             7.6/10.6 MB 4.0 MB/s eta 0:00:01\n",
      "     ----------------------------             7.6/10.6 MB 3.9 MB/s eta 0:00:01\n",
      "     -----------------------------            7.9/10.6 MB 4.0 MB/s eta 0:00:01\n",
      "     ------------------------------           8.1/10.6 MB 4.0 MB/s eta 0:00:01\n",
      "     -------------------------------          8.4/10.6 MB 4.0 MB/s eta 0:00:01\n",
      "     --------------------------------         8.7/10.6 MB 4.0 MB/s eta 0:00:01\n",
      "     ---------------------------------        8.9/10.6 MB 4.1 MB/s eta 0:00:01\n",
      "     ----------------------------------       9.1/10.6 MB 4.1 MB/s eta 0:00:01\n",
      "     -----------------------------------      9.3/10.6 MB 4.1 MB/s eta 0:00:01\n",
      "     -----------------------------------      9.5/10.6 MB 4.1 MB/s eta 0:00:01\n",
      "     ------------------------------------     9.8/10.6 MB 4.1 MB/s eta 0:00:01\n",
      "     -------------------------------------    10.0/10.6 MB 4.1 MB/s eta 0:00:01\n",
      "     --------------------------------------   10.2/10.6 MB 4.2 MB/s eta 0:00:01\n",
      "     ---------------------------------------  10.4/10.6 MB 4.2 MB/s eta 0:00:01\n",
      "     ---------------------------------------  10.6/10.6 MB 4.2 MB/s eta 0:00:01\n",
      "     ---------------------------------------  10.6/10.6 MB 4.2 MB/s eta 0:00:01\n",
      "     ---------------------------------------  10.6/10.6 MB 4.2 MB/s eta 0:00:01\n",
      "     ---------------------------------------- 10.6/10.6 MB 4.0 MB/s eta 0:00:00\n",
      "Requirement already satisfied: python-dateutil>=2.8.2 in c:\\users\\shri\\appdata\\local\\programs\\python\\python311\\lib\\site-packages (from pandas) (2.8.2)\n",
      "Collecting pytz>=2020.1 (from pandas)\n",
      "  Downloading pytz-2023.3-py2.py3-none-any.whl (502 kB)\n",
      "                                              0.0/502.3 kB ? eta -:--:--\n",
      "     ---------                              122.9/502.3 kB 7.0 MB/s eta 0:00:01\n",
      "     -----------------                      225.3/502.3 kB 3.5 MB/s eta 0:00:01\n",
      "     ------------------------------------   481.3/502.3 kB 3.8 MB/s eta 0:00:01\n",
      "     -------------------------------------  501.8/502.3 kB 3.9 MB/s eta 0:00:01\n",
      "     -------------------------------------- 502.3/502.3 kB 2.9 MB/s eta 0:00:00\n",
      "Collecting tzdata>=2022.1 (from pandas)\n",
      "  Downloading tzdata-2023.3-py2.py3-none-any.whl (341 kB)\n",
      "                                              0.0/341.8 kB ? eta -:--:--\n",
      "     -------------------------              225.3/341.8 kB 4.6 MB/s eta 0:00:01\n",
      "     -------------------------------------- 341.8/341.8 kB 3.5 MB/s eta 0:00:00\n",
      "Requirement already satisfied: numpy>=1.21.0 in c:\\users\\shri\\appdata\\local\\programs\\python\\python311\\lib\\site-packages (from pandas) (1.25.1)\n",
      "Requirement already satisfied: six>=1.5 in c:\\users\\shri\\appdata\\local\\programs\\python\\python311\\lib\\site-packages (from python-dateutil>=2.8.2->pandas) (1.16.0)\n",
      "Installing collected packages: pytz, tzdata, pandas\n",
      "Successfully installed pandas-2.0.3 pytz-2023.3 tzdata-2023.3\n"
     ]
    },
    {
     "name": "stderr",
     "output_type": "stream",
     "text": [
      "\n",
      "[notice] A new release of pip is available: 23.1.2 -> 23.2\n",
      "[notice] To update, run: C:\\Users\\SHRI\\AppData\\Local\\Programs\\Python\\Python311\\python.exe -m pip install --upgrade pip\n"
     ]
    }
   ],
   "source": [
    "!pip install pandas"
   ]
  },
  {
   "cell_type": "code",
   "execution_count": 5,
   "id": "9f92b1ae-8de9-44fe-9d1a-70726d2759b8",
   "metadata": {},
   "outputs": [],
   "source": [
    "import numpy as np\n",
    "import pandas as pd"
   ]
  },
  {
   "cell_type": "code",
   "execution_count": 6,
   "id": "97345106-fd74-451a-ab94-bd7145745616",
   "metadata": {},
   "outputs": [
    {
     "ename": "UnicodeDecodeError",
     "evalue": "'utf-8' codec can't decode bytes in position 606-607: invalid continuation byte",
     "output_type": "error",
     "traceback": [
      "\u001b[1;31m---------------------------------------------------------------------------\u001b[0m",
      "\u001b[1;31mUnicodeDecodeError\u001b[0m                        Traceback (most recent call last)",
      "Cell \u001b[1;32mIn[6], line 1\u001b[0m\n\u001b[1;32m----> 1\u001b[0m df \u001b[38;5;241m=\u001b[39m \u001b[43mpd\u001b[49m\u001b[38;5;241;43m.\u001b[39;49m\u001b[43mread_csv\u001b[49m\u001b[43m(\u001b[49m\u001b[38;5;124;43m'\u001b[39;49m\u001b[38;5;124;43mspam.csv\u001b[39;49m\u001b[38;5;124;43m'\u001b[39;49m\u001b[43m)\u001b[49m\n",
      "File \u001b[1;32m~\\AppData\\Local\\Programs\\Python\\Python311\\Lib\\site-packages\\pandas\\io\\parsers\\readers.py:912\u001b[0m, in \u001b[0;36mread_csv\u001b[1;34m(filepath_or_buffer, sep, delimiter, header, names, index_col, usecols, dtype, engine, converters, true_values, false_values, skipinitialspace, skiprows, skipfooter, nrows, na_values, keep_default_na, na_filter, verbose, skip_blank_lines, parse_dates, infer_datetime_format, keep_date_col, date_parser, date_format, dayfirst, cache_dates, iterator, chunksize, compression, thousands, decimal, lineterminator, quotechar, quoting, doublequote, escapechar, comment, encoding, encoding_errors, dialect, on_bad_lines, delim_whitespace, low_memory, memory_map, float_precision, storage_options, dtype_backend)\u001b[0m\n\u001b[0;32m    899\u001b[0m kwds_defaults \u001b[38;5;241m=\u001b[39m _refine_defaults_read(\n\u001b[0;32m    900\u001b[0m     dialect,\n\u001b[0;32m    901\u001b[0m     delimiter,\n\u001b[1;32m   (...)\u001b[0m\n\u001b[0;32m    908\u001b[0m     dtype_backend\u001b[38;5;241m=\u001b[39mdtype_backend,\n\u001b[0;32m    909\u001b[0m )\n\u001b[0;32m    910\u001b[0m kwds\u001b[38;5;241m.\u001b[39mupdate(kwds_defaults)\n\u001b[1;32m--> 912\u001b[0m \u001b[38;5;28;01mreturn\u001b[39;00m \u001b[43m_read\u001b[49m\u001b[43m(\u001b[49m\u001b[43mfilepath_or_buffer\u001b[49m\u001b[43m,\u001b[49m\u001b[43m \u001b[49m\u001b[43mkwds\u001b[49m\u001b[43m)\u001b[49m\n",
      "File \u001b[1;32m~\\AppData\\Local\\Programs\\Python\\Python311\\Lib\\site-packages\\pandas\\io\\parsers\\readers.py:577\u001b[0m, in \u001b[0;36m_read\u001b[1;34m(filepath_or_buffer, kwds)\u001b[0m\n\u001b[0;32m    574\u001b[0m _validate_names(kwds\u001b[38;5;241m.\u001b[39mget(\u001b[38;5;124m\"\u001b[39m\u001b[38;5;124mnames\u001b[39m\u001b[38;5;124m\"\u001b[39m, \u001b[38;5;28;01mNone\u001b[39;00m))\n\u001b[0;32m    576\u001b[0m \u001b[38;5;66;03m# Create the parser.\u001b[39;00m\n\u001b[1;32m--> 577\u001b[0m parser \u001b[38;5;241m=\u001b[39m \u001b[43mTextFileReader\u001b[49m\u001b[43m(\u001b[49m\u001b[43mfilepath_or_buffer\u001b[49m\u001b[43m,\u001b[49m\u001b[43m \u001b[49m\u001b[38;5;241;43m*\u001b[39;49m\u001b[38;5;241;43m*\u001b[39;49m\u001b[43mkwds\u001b[49m\u001b[43m)\u001b[49m\n\u001b[0;32m    579\u001b[0m \u001b[38;5;28;01mif\u001b[39;00m chunksize \u001b[38;5;129;01mor\u001b[39;00m iterator:\n\u001b[0;32m    580\u001b[0m     \u001b[38;5;28;01mreturn\u001b[39;00m parser\n",
      "File \u001b[1;32m~\\AppData\\Local\\Programs\\Python\\Python311\\Lib\\site-packages\\pandas\\io\\parsers\\readers.py:1407\u001b[0m, in \u001b[0;36mTextFileReader.__init__\u001b[1;34m(self, f, engine, **kwds)\u001b[0m\n\u001b[0;32m   1404\u001b[0m     \u001b[38;5;28mself\u001b[39m\u001b[38;5;241m.\u001b[39moptions[\u001b[38;5;124m\"\u001b[39m\u001b[38;5;124mhas_index_names\u001b[39m\u001b[38;5;124m\"\u001b[39m] \u001b[38;5;241m=\u001b[39m kwds[\u001b[38;5;124m\"\u001b[39m\u001b[38;5;124mhas_index_names\u001b[39m\u001b[38;5;124m\"\u001b[39m]\n\u001b[0;32m   1406\u001b[0m \u001b[38;5;28mself\u001b[39m\u001b[38;5;241m.\u001b[39mhandles: IOHandles \u001b[38;5;241m|\u001b[39m \u001b[38;5;28;01mNone\u001b[39;00m \u001b[38;5;241m=\u001b[39m \u001b[38;5;28;01mNone\u001b[39;00m\n\u001b[1;32m-> 1407\u001b[0m \u001b[38;5;28mself\u001b[39m\u001b[38;5;241m.\u001b[39m_engine \u001b[38;5;241m=\u001b[39m \u001b[38;5;28;43mself\u001b[39;49m\u001b[38;5;241;43m.\u001b[39;49m\u001b[43m_make_engine\u001b[49m\u001b[43m(\u001b[49m\u001b[43mf\u001b[49m\u001b[43m,\u001b[49m\u001b[43m \u001b[49m\u001b[38;5;28;43mself\u001b[39;49m\u001b[38;5;241;43m.\u001b[39;49m\u001b[43mengine\u001b[49m\u001b[43m)\u001b[49m\n",
      "File \u001b[1;32m~\\AppData\\Local\\Programs\\Python\\Python311\\Lib\\site-packages\\pandas\\io\\parsers\\readers.py:1679\u001b[0m, in \u001b[0;36mTextFileReader._make_engine\u001b[1;34m(self, f, engine)\u001b[0m\n\u001b[0;32m   1676\u001b[0m     \u001b[38;5;28;01mraise\u001b[39;00m \u001b[38;5;167;01mValueError\u001b[39;00m(msg)\n\u001b[0;32m   1678\u001b[0m \u001b[38;5;28;01mtry\u001b[39;00m:\n\u001b[1;32m-> 1679\u001b[0m     \u001b[38;5;28;01mreturn\u001b[39;00m \u001b[43mmapping\u001b[49m\u001b[43m[\u001b[49m\u001b[43mengine\u001b[49m\u001b[43m]\u001b[49m\u001b[43m(\u001b[49m\u001b[43mf\u001b[49m\u001b[43m,\u001b[49m\u001b[43m \u001b[49m\u001b[38;5;241;43m*\u001b[39;49m\u001b[38;5;241;43m*\u001b[39;49m\u001b[38;5;28;43mself\u001b[39;49m\u001b[38;5;241;43m.\u001b[39;49m\u001b[43moptions\u001b[49m\u001b[43m)\u001b[49m\n\u001b[0;32m   1680\u001b[0m \u001b[38;5;28;01mexcept\u001b[39;00m \u001b[38;5;167;01mException\u001b[39;00m:\n\u001b[0;32m   1681\u001b[0m     \u001b[38;5;28;01mif\u001b[39;00m \u001b[38;5;28mself\u001b[39m\u001b[38;5;241m.\u001b[39mhandles \u001b[38;5;129;01mis\u001b[39;00m \u001b[38;5;129;01mnot\u001b[39;00m \u001b[38;5;28;01mNone\u001b[39;00m:\n",
      "File \u001b[1;32m~\\AppData\\Local\\Programs\\Python\\Python311\\Lib\\site-packages\\pandas\\io\\parsers\\c_parser_wrapper.py:93\u001b[0m, in \u001b[0;36mCParserWrapper.__init__\u001b[1;34m(self, src, **kwds)\u001b[0m\n\u001b[0;32m     90\u001b[0m \u001b[38;5;28;01mif\u001b[39;00m kwds[\u001b[38;5;124m\"\u001b[39m\u001b[38;5;124mdtype_backend\u001b[39m\u001b[38;5;124m\"\u001b[39m] \u001b[38;5;241m==\u001b[39m \u001b[38;5;124m\"\u001b[39m\u001b[38;5;124mpyarrow\u001b[39m\u001b[38;5;124m\"\u001b[39m:\n\u001b[0;32m     91\u001b[0m     \u001b[38;5;66;03m# Fail here loudly instead of in cython after reading\u001b[39;00m\n\u001b[0;32m     92\u001b[0m     import_optional_dependency(\u001b[38;5;124m\"\u001b[39m\u001b[38;5;124mpyarrow\u001b[39m\u001b[38;5;124m\"\u001b[39m)\n\u001b[1;32m---> 93\u001b[0m \u001b[38;5;28mself\u001b[39m\u001b[38;5;241m.\u001b[39m_reader \u001b[38;5;241m=\u001b[39m \u001b[43mparsers\u001b[49m\u001b[38;5;241;43m.\u001b[39;49m\u001b[43mTextReader\u001b[49m\u001b[43m(\u001b[49m\u001b[43msrc\u001b[49m\u001b[43m,\u001b[49m\u001b[43m \u001b[49m\u001b[38;5;241;43m*\u001b[39;49m\u001b[38;5;241;43m*\u001b[39;49m\u001b[43mkwds\u001b[49m\u001b[43m)\u001b[49m\n\u001b[0;32m     95\u001b[0m \u001b[38;5;28mself\u001b[39m\u001b[38;5;241m.\u001b[39munnamed_cols \u001b[38;5;241m=\u001b[39m \u001b[38;5;28mself\u001b[39m\u001b[38;5;241m.\u001b[39m_reader\u001b[38;5;241m.\u001b[39munnamed_cols\n\u001b[0;32m     97\u001b[0m \u001b[38;5;66;03m# error: Cannot determine type of 'names'\u001b[39;00m\n",
      "File \u001b[1;32m~\\AppData\\Local\\Programs\\Python\\Python311\\Lib\\site-packages\\pandas\\_libs\\parsers.pyx:550\u001b[0m, in \u001b[0;36mpandas._libs.parsers.TextReader.__cinit__\u001b[1;34m()\u001b[0m\n",
      "File \u001b[1;32m~\\AppData\\Local\\Programs\\Python\\Python311\\Lib\\site-packages\\pandas\\_libs\\parsers.pyx:639\u001b[0m, in \u001b[0;36mpandas._libs.parsers.TextReader._get_header\u001b[1;34m()\u001b[0m\n",
      "File \u001b[1;32m~\\AppData\\Local\\Programs\\Python\\Python311\\Lib\\site-packages\\pandas\\_libs\\parsers.pyx:850\u001b[0m, in \u001b[0;36mpandas._libs.parsers.TextReader._tokenize_rows\u001b[1;34m()\u001b[0m\n",
      "File \u001b[1;32m~\\AppData\\Local\\Programs\\Python\\Python311\\Lib\\site-packages\\pandas\\_libs\\parsers.pyx:861\u001b[0m, in \u001b[0;36mpandas._libs.parsers.TextReader._check_tokenize_status\u001b[1;34m()\u001b[0m\n",
      "File \u001b[1;32m~\\AppData\\Local\\Programs\\Python\\Python311\\Lib\\site-packages\\pandas\\_libs\\parsers.pyx:2021\u001b[0m, in \u001b[0;36mpandas._libs.parsers.raise_parser_error\u001b[1;34m()\u001b[0m\n",
      "\u001b[1;31mUnicodeDecodeError\u001b[0m: 'utf-8' codec can't decode bytes in position 606-607: invalid continuation byte"
     ]
    }
   ],
   "source": [
    "df = pd.read_csv('spam.csv')"
   ]
  },
  {
   "cell_type": "code",
   "execution_count": 7,
   "id": "cdfa1e97-ca04-4948-a834-0a271da813b5",
   "metadata": {},
   "outputs": [
    {
     "ename": "FileNotFoundError",
     "evalue": "[Errno 2] No such file or directory: 'file_name.csv'",
     "output_type": "error",
     "traceback": [
      "\u001b[1;31m---------------------------------------------------------------------------\u001b[0m",
      "\u001b[1;31mFileNotFoundError\u001b[0m                         Traceback (most recent call last)",
      "Cell \u001b[1;32mIn[7], line 1\u001b[0m\n\u001b[1;32m----> 1\u001b[0m df \u001b[38;5;241m=\u001b[39m \u001b[43mpd\u001b[49m\u001b[38;5;241;43m.\u001b[39;49m\u001b[43mread_csv\u001b[49m\u001b[43m(\u001b[49m\u001b[38;5;124;43m'\u001b[39;49m\u001b[38;5;124;43mfile_name.csv\u001b[39;49m\u001b[38;5;124;43m'\u001b[39;49m\u001b[43m,\u001b[49m\u001b[43m \u001b[49m\u001b[43mengine\u001b[49m\u001b[38;5;241;43m=\u001b[39;49m\u001b[38;5;124;43m'\u001b[39;49m\u001b[38;5;124;43mpython\u001b[39;49m\u001b[38;5;124;43m'\u001b[39;49m\u001b[43m)\u001b[49m\n",
      "File \u001b[1;32m~\\AppData\\Local\\Programs\\Python\\Python311\\Lib\\site-packages\\pandas\\io\\parsers\\readers.py:912\u001b[0m, in \u001b[0;36mread_csv\u001b[1;34m(filepath_or_buffer, sep, delimiter, header, names, index_col, usecols, dtype, engine, converters, true_values, false_values, skipinitialspace, skiprows, skipfooter, nrows, na_values, keep_default_na, na_filter, verbose, skip_blank_lines, parse_dates, infer_datetime_format, keep_date_col, date_parser, date_format, dayfirst, cache_dates, iterator, chunksize, compression, thousands, decimal, lineterminator, quotechar, quoting, doublequote, escapechar, comment, encoding, encoding_errors, dialect, on_bad_lines, delim_whitespace, low_memory, memory_map, float_precision, storage_options, dtype_backend)\u001b[0m\n\u001b[0;32m    899\u001b[0m kwds_defaults \u001b[38;5;241m=\u001b[39m _refine_defaults_read(\n\u001b[0;32m    900\u001b[0m     dialect,\n\u001b[0;32m    901\u001b[0m     delimiter,\n\u001b[1;32m   (...)\u001b[0m\n\u001b[0;32m    908\u001b[0m     dtype_backend\u001b[38;5;241m=\u001b[39mdtype_backend,\n\u001b[0;32m    909\u001b[0m )\n\u001b[0;32m    910\u001b[0m kwds\u001b[38;5;241m.\u001b[39mupdate(kwds_defaults)\n\u001b[1;32m--> 912\u001b[0m \u001b[38;5;28;01mreturn\u001b[39;00m \u001b[43m_read\u001b[49m\u001b[43m(\u001b[49m\u001b[43mfilepath_or_buffer\u001b[49m\u001b[43m,\u001b[49m\u001b[43m \u001b[49m\u001b[43mkwds\u001b[49m\u001b[43m)\u001b[49m\n",
      "File \u001b[1;32m~\\AppData\\Local\\Programs\\Python\\Python311\\Lib\\site-packages\\pandas\\io\\parsers\\readers.py:577\u001b[0m, in \u001b[0;36m_read\u001b[1;34m(filepath_or_buffer, kwds)\u001b[0m\n\u001b[0;32m    574\u001b[0m _validate_names(kwds\u001b[38;5;241m.\u001b[39mget(\u001b[38;5;124m\"\u001b[39m\u001b[38;5;124mnames\u001b[39m\u001b[38;5;124m\"\u001b[39m, \u001b[38;5;28;01mNone\u001b[39;00m))\n\u001b[0;32m    576\u001b[0m \u001b[38;5;66;03m# Create the parser.\u001b[39;00m\n\u001b[1;32m--> 577\u001b[0m parser \u001b[38;5;241m=\u001b[39m \u001b[43mTextFileReader\u001b[49m\u001b[43m(\u001b[49m\u001b[43mfilepath_or_buffer\u001b[49m\u001b[43m,\u001b[49m\u001b[43m \u001b[49m\u001b[38;5;241;43m*\u001b[39;49m\u001b[38;5;241;43m*\u001b[39;49m\u001b[43mkwds\u001b[49m\u001b[43m)\u001b[49m\n\u001b[0;32m    579\u001b[0m \u001b[38;5;28;01mif\u001b[39;00m chunksize \u001b[38;5;129;01mor\u001b[39;00m iterator:\n\u001b[0;32m    580\u001b[0m     \u001b[38;5;28;01mreturn\u001b[39;00m parser\n",
      "File \u001b[1;32m~\\AppData\\Local\\Programs\\Python\\Python311\\Lib\\site-packages\\pandas\\io\\parsers\\readers.py:1407\u001b[0m, in \u001b[0;36mTextFileReader.__init__\u001b[1;34m(self, f, engine, **kwds)\u001b[0m\n\u001b[0;32m   1404\u001b[0m     \u001b[38;5;28mself\u001b[39m\u001b[38;5;241m.\u001b[39moptions[\u001b[38;5;124m\"\u001b[39m\u001b[38;5;124mhas_index_names\u001b[39m\u001b[38;5;124m\"\u001b[39m] \u001b[38;5;241m=\u001b[39m kwds[\u001b[38;5;124m\"\u001b[39m\u001b[38;5;124mhas_index_names\u001b[39m\u001b[38;5;124m\"\u001b[39m]\n\u001b[0;32m   1406\u001b[0m \u001b[38;5;28mself\u001b[39m\u001b[38;5;241m.\u001b[39mhandles: IOHandles \u001b[38;5;241m|\u001b[39m \u001b[38;5;28;01mNone\u001b[39;00m \u001b[38;5;241m=\u001b[39m \u001b[38;5;28;01mNone\u001b[39;00m\n\u001b[1;32m-> 1407\u001b[0m \u001b[38;5;28mself\u001b[39m\u001b[38;5;241m.\u001b[39m_engine \u001b[38;5;241m=\u001b[39m \u001b[38;5;28;43mself\u001b[39;49m\u001b[38;5;241;43m.\u001b[39;49m\u001b[43m_make_engine\u001b[49m\u001b[43m(\u001b[49m\u001b[43mf\u001b[49m\u001b[43m,\u001b[49m\u001b[43m \u001b[49m\u001b[38;5;28;43mself\u001b[39;49m\u001b[38;5;241;43m.\u001b[39;49m\u001b[43mengine\u001b[49m\u001b[43m)\u001b[49m\n",
      "File \u001b[1;32m~\\AppData\\Local\\Programs\\Python\\Python311\\Lib\\site-packages\\pandas\\io\\parsers\\readers.py:1661\u001b[0m, in \u001b[0;36mTextFileReader._make_engine\u001b[1;34m(self, f, engine)\u001b[0m\n\u001b[0;32m   1659\u001b[0m     \u001b[38;5;28;01mif\u001b[39;00m \u001b[38;5;124m\"\u001b[39m\u001b[38;5;124mb\u001b[39m\u001b[38;5;124m\"\u001b[39m \u001b[38;5;129;01mnot\u001b[39;00m \u001b[38;5;129;01min\u001b[39;00m mode:\n\u001b[0;32m   1660\u001b[0m         mode \u001b[38;5;241m+\u001b[39m\u001b[38;5;241m=\u001b[39m \u001b[38;5;124m\"\u001b[39m\u001b[38;5;124mb\u001b[39m\u001b[38;5;124m\"\u001b[39m\n\u001b[1;32m-> 1661\u001b[0m \u001b[38;5;28mself\u001b[39m\u001b[38;5;241m.\u001b[39mhandles \u001b[38;5;241m=\u001b[39m \u001b[43mget_handle\u001b[49m\u001b[43m(\u001b[49m\n\u001b[0;32m   1662\u001b[0m \u001b[43m    \u001b[49m\u001b[43mf\u001b[49m\u001b[43m,\u001b[49m\n\u001b[0;32m   1663\u001b[0m \u001b[43m    \u001b[49m\u001b[43mmode\u001b[49m\u001b[43m,\u001b[49m\n\u001b[0;32m   1664\u001b[0m \u001b[43m    \u001b[49m\u001b[43mencoding\u001b[49m\u001b[38;5;241;43m=\u001b[39;49m\u001b[38;5;28;43mself\u001b[39;49m\u001b[38;5;241;43m.\u001b[39;49m\u001b[43moptions\u001b[49m\u001b[38;5;241;43m.\u001b[39;49m\u001b[43mget\u001b[49m\u001b[43m(\u001b[49m\u001b[38;5;124;43m\"\u001b[39;49m\u001b[38;5;124;43mencoding\u001b[39;49m\u001b[38;5;124;43m\"\u001b[39;49m\u001b[43m,\u001b[49m\u001b[43m \u001b[49m\u001b[38;5;28;43;01mNone\u001b[39;49;00m\u001b[43m)\u001b[49m\u001b[43m,\u001b[49m\n\u001b[0;32m   1665\u001b[0m \u001b[43m    \u001b[49m\u001b[43mcompression\u001b[49m\u001b[38;5;241;43m=\u001b[39;49m\u001b[38;5;28;43mself\u001b[39;49m\u001b[38;5;241;43m.\u001b[39;49m\u001b[43moptions\u001b[49m\u001b[38;5;241;43m.\u001b[39;49m\u001b[43mget\u001b[49m\u001b[43m(\u001b[49m\u001b[38;5;124;43m\"\u001b[39;49m\u001b[38;5;124;43mcompression\u001b[39;49m\u001b[38;5;124;43m\"\u001b[39;49m\u001b[43m,\u001b[49m\u001b[43m \u001b[49m\u001b[38;5;28;43;01mNone\u001b[39;49;00m\u001b[43m)\u001b[49m\u001b[43m,\u001b[49m\n\u001b[0;32m   1666\u001b[0m \u001b[43m    \u001b[49m\u001b[43mmemory_map\u001b[49m\u001b[38;5;241;43m=\u001b[39;49m\u001b[38;5;28;43mself\u001b[39;49m\u001b[38;5;241;43m.\u001b[39;49m\u001b[43moptions\u001b[49m\u001b[38;5;241;43m.\u001b[39;49m\u001b[43mget\u001b[49m\u001b[43m(\u001b[49m\u001b[38;5;124;43m\"\u001b[39;49m\u001b[38;5;124;43mmemory_map\u001b[39;49m\u001b[38;5;124;43m\"\u001b[39;49m\u001b[43m,\u001b[49m\u001b[43m \u001b[49m\u001b[38;5;28;43;01mFalse\u001b[39;49;00m\u001b[43m)\u001b[49m\u001b[43m,\u001b[49m\n\u001b[0;32m   1667\u001b[0m \u001b[43m    \u001b[49m\u001b[43mis_text\u001b[49m\u001b[38;5;241;43m=\u001b[39;49m\u001b[43mis_text\u001b[49m\u001b[43m,\u001b[49m\n\u001b[0;32m   1668\u001b[0m \u001b[43m    \u001b[49m\u001b[43merrors\u001b[49m\u001b[38;5;241;43m=\u001b[39;49m\u001b[38;5;28;43mself\u001b[39;49m\u001b[38;5;241;43m.\u001b[39;49m\u001b[43moptions\u001b[49m\u001b[38;5;241;43m.\u001b[39;49m\u001b[43mget\u001b[49m\u001b[43m(\u001b[49m\u001b[38;5;124;43m\"\u001b[39;49m\u001b[38;5;124;43mencoding_errors\u001b[39;49m\u001b[38;5;124;43m\"\u001b[39;49m\u001b[43m,\u001b[49m\u001b[43m \u001b[49m\u001b[38;5;124;43m\"\u001b[39;49m\u001b[38;5;124;43mstrict\u001b[39;49m\u001b[38;5;124;43m\"\u001b[39;49m\u001b[43m)\u001b[49m\u001b[43m,\u001b[49m\n\u001b[0;32m   1669\u001b[0m \u001b[43m    \u001b[49m\u001b[43mstorage_options\u001b[49m\u001b[38;5;241;43m=\u001b[39;49m\u001b[38;5;28;43mself\u001b[39;49m\u001b[38;5;241;43m.\u001b[39;49m\u001b[43moptions\u001b[49m\u001b[38;5;241;43m.\u001b[39;49m\u001b[43mget\u001b[49m\u001b[43m(\u001b[49m\u001b[38;5;124;43m\"\u001b[39;49m\u001b[38;5;124;43mstorage_options\u001b[39;49m\u001b[38;5;124;43m\"\u001b[39;49m\u001b[43m,\u001b[49m\u001b[43m \u001b[49m\u001b[38;5;28;43;01mNone\u001b[39;49;00m\u001b[43m)\u001b[49m\u001b[43m,\u001b[49m\n\u001b[0;32m   1670\u001b[0m \u001b[43m\u001b[49m\u001b[43m)\u001b[49m\n\u001b[0;32m   1671\u001b[0m \u001b[38;5;28;01massert\u001b[39;00m \u001b[38;5;28mself\u001b[39m\u001b[38;5;241m.\u001b[39mhandles \u001b[38;5;129;01mis\u001b[39;00m \u001b[38;5;129;01mnot\u001b[39;00m \u001b[38;5;28;01mNone\u001b[39;00m\n\u001b[0;32m   1672\u001b[0m f \u001b[38;5;241m=\u001b[39m \u001b[38;5;28mself\u001b[39m\u001b[38;5;241m.\u001b[39mhandles\u001b[38;5;241m.\u001b[39mhandle\n",
      "File \u001b[1;32m~\\AppData\\Local\\Programs\\Python\\Python311\\Lib\\site-packages\\pandas\\io\\common.py:859\u001b[0m, in \u001b[0;36mget_handle\u001b[1;34m(path_or_buf, mode, encoding, compression, memory_map, is_text, errors, storage_options)\u001b[0m\n\u001b[0;32m    854\u001b[0m \u001b[38;5;28;01melif\u001b[39;00m \u001b[38;5;28misinstance\u001b[39m(handle, \u001b[38;5;28mstr\u001b[39m):\n\u001b[0;32m    855\u001b[0m     \u001b[38;5;66;03m# Check whether the filename is to be opened in binary mode.\u001b[39;00m\n\u001b[0;32m    856\u001b[0m     \u001b[38;5;66;03m# Binary mode does not support 'encoding' and 'newline'.\u001b[39;00m\n\u001b[0;32m    857\u001b[0m     \u001b[38;5;28;01mif\u001b[39;00m ioargs\u001b[38;5;241m.\u001b[39mencoding \u001b[38;5;129;01mand\u001b[39;00m \u001b[38;5;124m\"\u001b[39m\u001b[38;5;124mb\u001b[39m\u001b[38;5;124m\"\u001b[39m \u001b[38;5;129;01mnot\u001b[39;00m \u001b[38;5;129;01min\u001b[39;00m ioargs\u001b[38;5;241m.\u001b[39mmode:\n\u001b[0;32m    858\u001b[0m         \u001b[38;5;66;03m# Encoding\u001b[39;00m\n\u001b[1;32m--> 859\u001b[0m         handle \u001b[38;5;241m=\u001b[39m \u001b[38;5;28;43mopen\u001b[39;49m\u001b[43m(\u001b[49m\n\u001b[0;32m    860\u001b[0m \u001b[43m            \u001b[49m\u001b[43mhandle\u001b[49m\u001b[43m,\u001b[49m\n\u001b[0;32m    861\u001b[0m \u001b[43m            \u001b[49m\u001b[43mioargs\u001b[49m\u001b[38;5;241;43m.\u001b[39;49m\u001b[43mmode\u001b[49m\u001b[43m,\u001b[49m\n\u001b[0;32m    862\u001b[0m \u001b[43m            \u001b[49m\u001b[43mencoding\u001b[49m\u001b[38;5;241;43m=\u001b[39;49m\u001b[43mioargs\u001b[49m\u001b[38;5;241;43m.\u001b[39;49m\u001b[43mencoding\u001b[49m\u001b[43m,\u001b[49m\n\u001b[0;32m    863\u001b[0m \u001b[43m            \u001b[49m\u001b[43merrors\u001b[49m\u001b[38;5;241;43m=\u001b[39;49m\u001b[43merrors\u001b[49m\u001b[43m,\u001b[49m\n\u001b[0;32m    864\u001b[0m \u001b[43m            \u001b[49m\u001b[43mnewline\u001b[49m\u001b[38;5;241;43m=\u001b[39;49m\u001b[38;5;124;43m\"\u001b[39;49m\u001b[38;5;124;43m\"\u001b[39;49m\u001b[43m,\u001b[49m\n\u001b[0;32m    865\u001b[0m \u001b[43m        \u001b[49m\u001b[43m)\u001b[49m\n\u001b[0;32m    866\u001b[0m     \u001b[38;5;28;01melse\u001b[39;00m:\n\u001b[0;32m    867\u001b[0m         \u001b[38;5;66;03m# Binary mode\u001b[39;00m\n\u001b[0;32m    868\u001b[0m         handle \u001b[38;5;241m=\u001b[39m \u001b[38;5;28mopen\u001b[39m(handle, ioargs\u001b[38;5;241m.\u001b[39mmode)\n",
      "\u001b[1;31mFileNotFoundError\u001b[0m: [Errno 2] No such file or directory: 'file_name.csv'"
     ]
    }
   ],
   "source": [
    "df = pd.read_csv('file_name.csv', engine='python')"
   ]
  },
  {
   "cell_type": "code",
   "execution_count": 8,
   "id": "2e4b565e-ca9f-444b-bacf-b21578228891",
   "metadata": {},
   "outputs": [
    {
     "ename": "UnicodeDecodeError",
     "evalue": "'utf-8' codec can't decode bytes in position 606-607: invalid continuation byte",
     "output_type": "error",
     "traceback": [
      "\u001b[1;31m---------------------------------------------------------------------------\u001b[0m",
      "\u001b[1;31mUnicodeDecodeError\u001b[0m                        Traceback (most recent call last)",
      "Cell \u001b[1;32mIn[8], line 1\u001b[0m\n\u001b[1;32m----> 1\u001b[0m df \u001b[38;5;241m=\u001b[39m \u001b[43mpd\u001b[49m\u001b[38;5;241;43m.\u001b[39;49m\u001b[43mread_csv\u001b[49m\u001b[43m(\u001b[49m\u001b[38;5;124;43m'\u001b[39;49m\u001b[38;5;124;43mspam.csv\u001b[39;49m\u001b[38;5;124;43m'\u001b[39;49m\u001b[43m,\u001b[49m\u001b[43m \u001b[49m\u001b[43mengine\u001b[49m\u001b[38;5;241;43m=\u001b[39;49m\u001b[38;5;124;43m'\u001b[39;49m\u001b[38;5;124;43mpython\u001b[39;49m\u001b[38;5;124;43m'\u001b[39;49m\u001b[43m)\u001b[49m\n",
      "File \u001b[1;32m~\\AppData\\Local\\Programs\\Python\\Python311\\Lib\\site-packages\\pandas\\io\\parsers\\readers.py:912\u001b[0m, in \u001b[0;36mread_csv\u001b[1;34m(filepath_or_buffer, sep, delimiter, header, names, index_col, usecols, dtype, engine, converters, true_values, false_values, skipinitialspace, skiprows, skipfooter, nrows, na_values, keep_default_na, na_filter, verbose, skip_blank_lines, parse_dates, infer_datetime_format, keep_date_col, date_parser, date_format, dayfirst, cache_dates, iterator, chunksize, compression, thousands, decimal, lineterminator, quotechar, quoting, doublequote, escapechar, comment, encoding, encoding_errors, dialect, on_bad_lines, delim_whitespace, low_memory, memory_map, float_precision, storage_options, dtype_backend)\u001b[0m\n\u001b[0;32m    899\u001b[0m kwds_defaults \u001b[38;5;241m=\u001b[39m _refine_defaults_read(\n\u001b[0;32m    900\u001b[0m     dialect,\n\u001b[0;32m    901\u001b[0m     delimiter,\n\u001b[1;32m   (...)\u001b[0m\n\u001b[0;32m    908\u001b[0m     dtype_backend\u001b[38;5;241m=\u001b[39mdtype_backend,\n\u001b[0;32m    909\u001b[0m )\n\u001b[0;32m    910\u001b[0m kwds\u001b[38;5;241m.\u001b[39mupdate(kwds_defaults)\n\u001b[1;32m--> 912\u001b[0m \u001b[38;5;28;01mreturn\u001b[39;00m \u001b[43m_read\u001b[49m\u001b[43m(\u001b[49m\u001b[43mfilepath_or_buffer\u001b[49m\u001b[43m,\u001b[49m\u001b[43m \u001b[49m\u001b[43mkwds\u001b[49m\u001b[43m)\u001b[49m\n",
      "File \u001b[1;32m~\\AppData\\Local\\Programs\\Python\\Python311\\Lib\\site-packages\\pandas\\io\\parsers\\readers.py:577\u001b[0m, in \u001b[0;36m_read\u001b[1;34m(filepath_or_buffer, kwds)\u001b[0m\n\u001b[0;32m    574\u001b[0m _validate_names(kwds\u001b[38;5;241m.\u001b[39mget(\u001b[38;5;124m\"\u001b[39m\u001b[38;5;124mnames\u001b[39m\u001b[38;5;124m\"\u001b[39m, \u001b[38;5;28;01mNone\u001b[39;00m))\n\u001b[0;32m    576\u001b[0m \u001b[38;5;66;03m# Create the parser.\u001b[39;00m\n\u001b[1;32m--> 577\u001b[0m parser \u001b[38;5;241m=\u001b[39m \u001b[43mTextFileReader\u001b[49m\u001b[43m(\u001b[49m\u001b[43mfilepath_or_buffer\u001b[49m\u001b[43m,\u001b[49m\u001b[43m \u001b[49m\u001b[38;5;241;43m*\u001b[39;49m\u001b[38;5;241;43m*\u001b[39;49m\u001b[43mkwds\u001b[49m\u001b[43m)\u001b[49m\n\u001b[0;32m    579\u001b[0m \u001b[38;5;28;01mif\u001b[39;00m chunksize \u001b[38;5;129;01mor\u001b[39;00m iterator:\n\u001b[0;32m    580\u001b[0m     \u001b[38;5;28;01mreturn\u001b[39;00m parser\n",
      "File \u001b[1;32m~\\AppData\\Local\\Programs\\Python\\Python311\\Lib\\site-packages\\pandas\\io\\parsers\\readers.py:1407\u001b[0m, in \u001b[0;36mTextFileReader.__init__\u001b[1;34m(self, f, engine, **kwds)\u001b[0m\n\u001b[0;32m   1404\u001b[0m     \u001b[38;5;28mself\u001b[39m\u001b[38;5;241m.\u001b[39moptions[\u001b[38;5;124m\"\u001b[39m\u001b[38;5;124mhas_index_names\u001b[39m\u001b[38;5;124m\"\u001b[39m] \u001b[38;5;241m=\u001b[39m kwds[\u001b[38;5;124m\"\u001b[39m\u001b[38;5;124mhas_index_names\u001b[39m\u001b[38;5;124m\"\u001b[39m]\n\u001b[0;32m   1406\u001b[0m \u001b[38;5;28mself\u001b[39m\u001b[38;5;241m.\u001b[39mhandles: IOHandles \u001b[38;5;241m|\u001b[39m \u001b[38;5;28;01mNone\u001b[39;00m \u001b[38;5;241m=\u001b[39m \u001b[38;5;28;01mNone\u001b[39;00m\n\u001b[1;32m-> 1407\u001b[0m \u001b[38;5;28mself\u001b[39m\u001b[38;5;241m.\u001b[39m_engine \u001b[38;5;241m=\u001b[39m \u001b[38;5;28;43mself\u001b[39;49m\u001b[38;5;241;43m.\u001b[39;49m\u001b[43m_make_engine\u001b[49m\u001b[43m(\u001b[49m\u001b[43mf\u001b[49m\u001b[43m,\u001b[49m\u001b[43m \u001b[49m\u001b[38;5;28;43mself\u001b[39;49m\u001b[38;5;241;43m.\u001b[39;49m\u001b[43mengine\u001b[49m\u001b[43m)\u001b[49m\n",
      "File \u001b[1;32m~\\AppData\\Local\\Programs\\Python\\Python311\\Lib\\site-packages\\pandas\\io\\parsers\\readers.py:1679\u001b[0m, in \u001b[0;36mTextFileReader._make_engine\u001b[1;34m(self, f, engine)\u001b[0m\n\u001b[0;32m   1676\u001b[0m     \u001b[38;5;28;01mraise\u001b[39;00m \u001b[38;5;167;01mValueError\u001b[39;00m(msg)\n\u001b[0;32m   1678\u001b[0m \u001b[38;5;28;01mtry\u001b[39;00m:\n\u001b[1;32m-> 1679\u001b[0m     \u001b[38;5;28;01mreturn\u001b[39;00m \u001b[43mmapping\u001b[49m\u001b[43m[\u001b[49m\u001b[43mengine\u001b[49m\u001b[43m]\u001b[49m\u001b[43m(\u001b[49m\u001b[43mf\u001b[49m\u001b[43m,\u001b[49m\u001b[43m \u001b[49m\u001b[38;5;241;43m*\u001b[39;49m\u001b[38;5;241;43m*\u001b[39;49m\u001b[38;5;28;43mself\u001b[39;49m\u001b[38;5;241;43m.\u001b[39;49m\u001b[43moptions\u001b[49m\u001b[43m)\u001b[49m\n\u001b[0;32m   1680\u001b[0m \u001b[38;5;28;01mexcept\u001b[39;00m \u001b[38;5;167;01mException\u001b[39;00m:\n\u001b[0;32m   1681\u001b[0m     \u001b[38;5;28;01mif\u001b[39;00m \u001b[38;5;28mself\u001b[39m\u001b[38;5;241m.\u001b[39mhandles \u001b[38;5;129;01mis\u001b[39;00m \u001b[38;5;129;01mnot\u001b[39;00m \u001b[38;5;28;01mNone\u001b[39;00m:\n",
      "File \u001b[1;32m~\\AppData\\Local\\Programs\\Python\\Python311\\Lib\\site-packages\\pandas\\io\\parsers\\python_parser.py:124\u001b[0m, in \u001b[0;36mPythonParser.__init__\u001b[1;34m(self, f, **kwds)\u001b[0m\n\u001b[0;32m    118\u001b[0m \u001b[38;5;28mself\u001b[39m\u001b[38;5;241m.\u001b[39m_col_indices: \u001b[38;5;28mlist\u001b[39m[\u001b[38;5;28mint\u001b[39m] \u001b[38;5;241m|\u001b[39m \u001b[38;5;28;01mNone\u001b[39;00m \u001b[38;5;241m=\u001b[39m \u001b[38;5;28;01mNone\u001b[39;00m\n\u001b[0;32m    119\u001b[0m columns: \u001b[38;5;28mlist\u001b[39m[\u001b[38;5;28mlist\u001b[39m[Scalar \u001b[38;5;241m|\u001b[39m \u001b[38;5;28;01mNone\u001b[39;00m]]\n\u001b[0;32m    120\u001b[0m (\n\u001b[0;32m    121\u001b[0m     columns,\n\u001b[0;32m    122\u001b[0m     \u001b[38;5;28mself\u001b[39m\u001b[38;5;241m.\u001b[39mnum_original_columns,\n\u001b[0;32m    123\u001b[0m     \u001b[38;5;28mself\u001b[39m\u001b[38;5;241m.\u001b[39munnamed_cols,\n\u001b[1;32m--> 124\u001b[0m ) \u001b[38;5;241m=\u001b[39m \u001b[38;5;28;43mself\u001b[39;49m\u001b[38;5;241;43m.\u001b[39;49m\u001b[43m_infer_columns\u001b[49m\u001b[43m(\u001b[49m\u001b[43m)\u001b[49m\n\u001b[0;32m    126\u001b[0m \u001b[38;5;66;03m# Now self.columns has the set of columns that we will process.\u001b[39;00m\n\u001b[0;32m    127\u001b[0m \u001b[38;5;66;03m# The original set is stored in self.original_columns.\u001b[39;00m\n\u001b[0;32m    128\u001b[0m \u001b[38;5;66;03m# error: Cannot determine type of 'index_names'\u001b[39;00m\n\u001b[0;32m    129\u001b[0m (\n\u001b[0;32m    130\u001b[0m     \u001b[38;5;28mself\u001b[39m\u001b[38;5;241m.\u001b[39mcolumns,\n\u001b[0;32m    131\u001b[0m     \u001b[38;5;28mself\u001b[39m\u001b[38;5;241m.\u001b[39mindex_names,\n\u001b[1;32m   (...)\u001b[0m\n\u001b[0;32m    136\u001b[0m     \u001b[38;5;28mself\u001b[39m\u001b[38;5;241m.\u001b[39mindex_names,  \u001b[38;5;66;03m# type: ignore[has-type]\u001b[39;00m\n\u001b[0;32m    137\u001b[0m )\n",
      "File \u001b[1;32m~\\AppData\\Local\\Programs\\Python\\Python311\\Lib\\site-packages\\pandas\\io\\parsers\\python_parser.py:397\u001b[0m, in \u001b[0;36mPythonParser._infer_columns\u001b[1;34m(self)\u001b[0m\n\u001b[0;32m    395\u001b[0m \u001b[38;5;28;01mfor\u001b[39;00m level, hr \u001b[38;5;129;01min\u001b[39;00m \u001b[38;5;28menumerate\u001b[39m(header):\n\u001b[0;32m    396\u001b[0m     \u001b[38;5;28;01mtry\u001b[39;00m:\n\u001b[1;32m--> 397\u001b[0m         line \u001b[38;5;241m=\u001b[39m \u001b[38;5;28;43mself\u001b[39;49m\u001b[38;5;241;43m.\u001b[39;49m\u001b[43m_buffered_line\u001b[49m\u001b[43m(\u001b[49m\u001b[43m)\u001b[49m\n\u001b[0;32m    399\u001b[0m         \u001b[38;5;28;01mwhile\u001b[39;00m \u001b[38;5;28mself\u001b[39m\u001b[38;5;241m.\u001b[39mline_pos \u001b[38;5;241m<\u001b[39m\u001b[38;5;241m=\u001b[39m hr:\n\u001b[0;32m    400\u001b[0m             line \u001b[38;5;241m=\u001b[39m \u001b[38;5;28mself\u001b[39m\u001b[38;5;241m.\u001b[39m_next_line()\n",
      "File \u001b[1;32m~\\AppData\\Local\\Programs\\Python\\Python311\\Lib\\site-packages\\pandas\\io\\parsers\\python_parser.py:630\u001b[0m, in \u001b[0;36mPythonParser._buffered_line\u001b[1;34m(self)\u001b[0m\n\u001b[0;32m    628\u001b[0m     \u001b[38;5;28;01mreturn\u001b[39;00m \u001b[38;5;28mself\u001b[39m\u001b[38;5;241m.\u001b[39mbuf[\u001b[38;5;241m0\u001b[39m]\n\u001b[0;32m    629\u001b[0m \u001b[38;5;28;01melse\u001b[39;00m:\n\u001b[1;32m--> 630\u001b[0m     \u001b[38;5;28;01mreturn\u001b[39;00m \u001b[38;5;28;43mself\u001b[39;49m\u001b[38;5;241;43m.\u001b[39;49m\u001b[43m_next_line\u001b[49m\u001b[43m(\u001b[49m\u001b[43m)\u001b[49m\n",
      "File \u001b[1;32m~\\AppData\\Local\\Programs\\Python\\Python311\\Lib\\site-packages\\pandas\\io\\parsers\\python_parser.py:731\u001b[0m, in \u001b[0;36mPythonParser._next_line\u001b[1;34m(self)\u001b[0m\n\u001b[0;32m    728\u001b[0m     \u001b[38;5;28mnext\u001b[39m(\u001b[38;5;28mself\u001b[39m\u001b[38;5;241m.\u001b[39mdata)\n\u001b[0;32m    730\u001b[0m \u001b[38;5;28;01mwhile\u001b[39;00m \u001b[38;5;28;01mTrue\u001b[39;00m:\n\u001b[1;32m--> 731\u001b[0m     orig_line \u001b[38;5;241m=\u001b[39m \u001b[38;5;28;43mself\u001b[39;49m\u001b[38;5;241;43m.\u001b[39;49m\u001b[43m_next_iter_line\u001b[49m\u001b[43m(\u001b[49m\u001b[43mrow_num\u001b[49m\u001b[38;5;241;43m=\u001b[39;49m\u001b[38;5;28;43mself\u001b[39;49m\u001b[38;5;241;43m.\u001b[39;49m\u001b[43mpos\u001b[49m\u001b[43m \u001b[49m\u001b[38;5;241;43m+\u001b[39;49m\u001b[43m \u001b[49m\u001b[38;5;241;43m1\u001b[39;49m\u001b[43m)\u001b[49m\n\u001b[0;32m    732\u001b[0m     \u001b[38;5;28mself\u001b[39m\u001b[38;5;241m.\u001b[39mpos \u001b[38;5;241m+\u001b[39m\u001b[38;5;241m=\u001b[39m \u001b[38;5;241m1\u001b[39m\n\u001b[0;32m    734\u001b[0m     \u001b[38;5;28;01mif\u001b[39;00m orig_line \u001b[38;5;129;01mis\u001b[39;00m \u001b[38;5;129;01mnot\u001b[39;00m \u001b[38;5;28;01mNone\u001b[39;00m:\n",
      "File \u001b[1;32m~\\AppData\\Local\\Programs\\Python\\Python311\\Lib\\site-packages\\pandas\\io\\parsers\\python_parser.py:795\u001b[0m, in \u001b[0;36mPythonParser._next_iter_line\u001b[1;34m(self, row_num)\u001b[0m\n\u001b[0;32m    792\u001b[0m \u001b[38;5;28;01mtry\u001b[39;00m:\n\u001b[0;32m    793\u001b[0m     \u001b[38;5;66;03m# assert for mypy, data is Iterator[str] or None, would error in next\u001b[39;00m\n\u001b[0;32m    794\u001b[0m     \u001b[38;5;28;01massert\u001b[39;00m \u001b[38;5;28mself\u001b[39m\u001b[38;5;241m.\u001b[39mdata \u001b[38;5;129;01mis\u001b[39;00m \u001b[38;5;129;01mnot\u001b[39;00m \u001b[38;5;28;01mNone\u001b[39;00m\n\u001b[1;32m--> 795\u001b[0m     line \u001b[38;5;241m=\u001b[39m \u001b[38;5;28;43mnext\u001b[39;49m\u001b[43m(\u001b[49m\u001b[38;5;28;43mself\u001b[39;49m\u001b[38;5;241;43m.\u001b[39;49m\u001b[43mdata\u001b[49m\u001b[43m)\u001b[49m\n\u001b[0;32m    796\u001b[0m     \u001b[38;5;66;03m# for mypy\u001b[39;00m\n\u001b[0;32m    797\u001b[0m     \u001b[38;5;28;01massert\u001b[39;00m \u001b[38;5;28misinstance\u001b[39m(line, \u001b[38;5;28mlist\u001b[39m)\n",
      "File \u001b[1;32m<frozen codecs>:322\u001b[0m, in \u001b[0;36mdecode\u001b[1;34m(self, input, final)\u001b[0m\n",
      "\u001b[1;31mUnicodeDecodeError\u001b[0m: 'utf-8' codec can't decode bytes in position 606-607: invalid continuation byte"
     ]
    }
   ],
   "source": [
    "df = pd.read_csv('spam.csv', engine='python')\n",
    "\n"
   ]
  },
  {
   "cell_type": "code",
   "execution_count": 9,
   "id": "354c0d72-faa9-45ad-81ca-30e18748c27c",
   "metadata": {},
   "outputs": [
    {
     "ename": "UnicodeDecodeError",
     "evalue": "'utf-8' codec can't decode bytes in position 135-136: invalid continuation byte",
     "output_type": "error",
     "traceback": [
      "\u001b[1;31m---------------------------------------------------------------------------\u001b[0m",
      "\u001b[1;31mUnicodeDecodeError\u001b[0m                        Traceback (most recent call last)",
      "File \u001b[1;32m~\\AppData\\Local\\Programs\\Python\\Python311\\Lib\\site-packages\\pandas\\_libs\\parsers.pyx:1090\u001b[0m, in \u001b[0;36mpandas._libs.parsers.TextReader._convert_tokens\u001b[1;34m()\u001b[0m\n",
      "File \u001b[1;32m~\\AppData\\Local\\Programs\\Python\\Python311\\Lib\\site-packages\\pandas\\_libs\\parsers.pyx:1242\u001b[0m, in \u001b[0;36mpandas._libs.parsers.TextReader._convert_with_dtype\u001b[1;34m()\u001b[0m\n",
      "File \u001b[1;32m~\\AppData\\Local\\Programs\\Python\\Python311\\Lib\\site-packages\\pandas\\_libs\\parsers.pyx:1255\u001b[0m, in \u001b[0;36mpandas._libs.parsers.TextReader._string_convert\u001b[1;34m()\u001b[0m\n",
      "File \u001b[1;32m~\\AppData\\Local\\Programs\\Python\\Python311\\Lib\\site-packages\\pandas\\_libs\\parsers.pyx:1503\u001b[0m, in \u001b[0;36mpandas._libs.parsers._string_box_utf8\u001b[1;34m()\u001b[0m\n",
      "\u001b[1;31mUnicodeDecodeError\u001b[0m: 'utf-8' codec can't decode bytes in position 135-136: invalid continuation byte",
      "\nDuring handling of the above exception, another exception occurred:\n",
      "\u001b[1;31mUnicodeDecodeError\u001b[0m                        Traceback (most recent call last)",
      "Cell \u001b[1;32mIn[9], line 1\u001b[0m\n\u001b[1;32m----> 1\u001b[0m data \u001b[38;5;241m=\u001b[39m \u001b[43mpd\u001b[49m\u001b[38;5;241;43m.\u001b[39;49m\u001b[43mread_csv\u001b[49m\u001b[43m(\u001b[49m\u001b[38;5;124;43m'\u001b[39;49m\u001b[38;5;124;43mspam.csv\u001b[39;49m\u001b[38;5;124;43m'\u001b[39;49m\u001b[43m,\u001b[49m\u001b[43m \u001b[49m\u001b[43mencoding\u001b[49m\u001b[38;5;241;43m=\u001b[39;49m\u001b[38;5;124;43m'\u001b[39;49m\u001b[38;5;124;43mutf-8\u001b[39;49m\u001b[38;5;124;43m'\u001b[39;49m\u001b[43m)\u001b[49m\n",
      "File \u001b[1;32m~\\AppData\\Local\\Programs\\Python\\Python311\\Lib\\site-packages\\pandas\\io\\parsers\\readers.py:912\u001b[0m, in \u001b[0;36mread_csv\u001b[1;34m(filepath_or_buffer, sep, delimiter, header, names, index_col, usecols, dtype, engine, converters, true_values, false_values, skipinitialspace, skiprows, skipfooter, nrows, na_values, keep_default_na, na_filter, verbose, skip_blank_lines, parse_dates, infer_datetime_format, keep_date_col, date_parser, date_format, dayfirst, cache_dates, iterator, chunksize, compression, thousands, decimal, lineterminator, quotechar, quoting, doublequote, escapechar, comment, encoding, encoding_errors, dialect, on_bad_lines, delim_whitespace, low_memory, memory_map, float_precision, storage_options, dtype_backend)\u001b[0m\n\u001b[0;32m    899\u001b[0m kwds_defaults \u001b[38;5;241m=\u001b[39m _refine_defaults_read(\n\u001b[0;32m    900\u001b[0m     dialect,\n\u001b[0;32m    901\u001b[0m     delimiter,\n\u001b[1;32m   (...)\u001b[0m\n\u001b[0;32m    908\u001b[0m     dtype_backend\u001b[38;5;241m=\u001b[39mdtype_backend,\n\u001b[0;32m    909\u001b[0m )\n\u001b[0;32m    910\u001b[0m kwds\u001b[38;5;241m.\u001b[39mupdate(kwds_defaults)\n\u001b[1;32m--> 912\u001b[0m \u001b[38;5;28;01mreturn\u001b[39;00m \u001b[43m_read\u001b[49m\u001b[43m(\u001b[49m\u001b[43mfilepath_or_buffer\u001b[49m\u001b[43m,\u001b[49m\u001b[43m \u001b[49m\u001b[43mkwds\u001b[49m\u001b[43m)\u001b[49m\n",
      "File \u001b[1;32m~\\AppData\\Local\\Programs\\Python\\Python311\\Lib\\site-packages\\pandas\\io\\parsers\\readers.py:583\u001b[0m, in \u001b[0;36m_read\u001b[1;34m(filepath_or_buffer, kwds)\u001b[0m\n\u001b[0;32m    580\u001b[0m     \u001b[38;5;28;01mreturn\u001b[39;00m parser\n\u001b[0;32m    582\u001b[0m \u001b[38;5;28;01mwith\u001b[39;00m parser:\n\u001b[1;32m--> 583\u001b[0m     \u001b[38;5;28;01mreturn\u001b[39;00m \u001b[43mparser\u001b[49m\u001b[38;5;241;43m.\u001b[39;49m\u001b[43mread\u001b[49m\u001b[43m(\u001b[49m\u001b[43mnrows\u001b[49m\u001b[43m)\u001b[49m\n",
      "File \u001b[1;32m~\\AppData\\Local\\Programs\\Python\\Python311\\Lib\\site-packages\\pandas\\io\\parsers\\readers.py:1704\u001b[0m, in \u001b[0;36mTextFileReader.read\u001b[1;34m(self, nrows)\u001b[0m\n\u001b[0;32m   1697\u001b[0m nrows \u001b[38;5;241m=\u001b[39m validate_integer(\u001b[38;5;124m\"\u001b[39m\u001b[38;5;124mnrows\u001b[39m\u001b[38;5;124m\"\u001b[39m, nrows)\n\u001b[0;32m   1698\u001b[0m \u001b[38;5;28;01mtry\u001b[39;00m:\n\u001b[0;32m   1699\u001b[0m     \u001b[38;5;66;03m# error: \"ParserBase\" has no attribute \"read\"\u001b[39;00m\n\u001b[0;32m   1700\u001b[0m     (\n\u001b[0;32m   1701\u001b[0m         index,\n\u001b[0;32m   1702\u001b[0m         columns,\n\u001b[0;32m   1703\u001b[0m         col_dict,\n\u001b[1;32m-> 1704\u001b[0m     ) \u001b[38;5;241m=\u001b[39m \u001b[38;5;28;43mself\u001b[39;49m\u001b[38;5;241;43m.\u001b[39;49m\u001b[43m_engine\u001b[49m\u001b[38;5;241;43m.\u001b[39;49m\u001b[43mread\u001b[49m\u001b[43m(\u001b[49m\u001b[43m  \u001b[49m\u001b[38;5;66;43;03m# type: ignore[attr-defined]\u001b[39;49;00m\n\u001b[0;32m   1705\u001b[0m \u001b[43m        \u001b[49m\u001b[43mnrows\u001b[49m\n\u001b[0;32m   1706\u001b[0m \u001b[43m    \u001b[49m\u001b[43m)\u001b[49m\n\u001b[0;32m   1707\u001b[0m \u001b[38;5;28;01mexcept\u001b[39;00m \u001b[38;5;167;01mException\u001b[39;00m:\n\u001b[0;32m   1708\u001b[0m     \u001b[38;5;28mself\u001b[39m\u001b[38;5;241m.\u001b[39mclose()\n",
      "File \u001b[1;32m~\\AppData\\Local\\Programs\\Python\\Python311\\Lib\\site-packages\\pandas\\io\\parsers\\c_parser_wrapper.py:234\u001b[0m, in \u001b[0;36mCParserWrapper.read\u001b[1;34m(self, nrows)\u001b[0m\n\u001b[0;32m    232\u001b[0m \u001b[38;5;28;01mtry\u001b[39;00m:\n\u001b[0;32m    233\u001b[0m     \u001b[38;5;28;01mif\u001b[39;00m \u001b[38;5;28mself\u001b[39m\u001b[38;5;241m.\u001b[39mlow_memory:\n\u001b[1;32m--> 234\u001b[0m         chunks \u001b[38;5;241m=\u001b[39m \u001b[38;5;28;43mself\u001b[39;49m\u001b[38;5;241;43m.\u001b[39;49m\u001b[43m_reader\u001b[49m\u001b[38;5;241;43m.\u001b[39;49m\u001b[43mread_low_memory\u001b[49m\u001b[43m(\u001b[49m\u001b[43mnrows\u001b[49m\u001b[43m)\u001b[49m\n\u001b[0;32m    235\u001b[0m         \u001b[38;5;66;03m# destructive to chunks\u001b[39;00m\n\u001b[0;32m    236\u001b[0m         data \u001b[38;5;241m=\u001b[39m _concatenate_chunks(chunks)\n",
      "File \u001b[1;32m~\\AppData\\Local\\Programs\\Python\\Python311\\Lib\\site-packages\\pandas\\_libs\\parsers.pyx:814\u001b[0m, in \u001b[0;36mpandas._libs.parsers.TextReader.read_low_memory\u001b[1;34m()\u001b[0m\n",
      "File \u001b[1;32m~\\AppData\\Local\\Programs\\Python\\Python311\\Lib\\site-packages\\pandas\\_libs\\parsers.pyx:891\u001b[0m, in \u001b[0;36mpandas._libs.parsers.TextReader._read_rows\u001b[1;34m()\u001b[0m\n",
      "File \u001b[1;32m~\\AppData\\Local\\Programs\\Python\\Python311\\Lib\\site-packages\\pandas\\_libs\\parsers.pyx:1036\u001b[0m, in \u001b[0;36mpandas._libs.parsers.TextReader._convert_column_data\u001b[1;34m()\u001b[0m\n",
      "File \u001b[1;32m~\\AppData\\Local\\Programs\\Python\\Python311\\Lib\\site-packages\\pandas\\_libs\\parsers.pyx:1097\u001b[0m, in \u001b[0;36mpandas._libs.parsers.TextReader._convert_tokens\u001b[1;34m()\u001b[0m\n",
      "File \u001b[1;32m~\\AppData\\Local\\Programs\\Python\\Python311\\Lib\\site-packages\\pandas\\_libs\\parsers.pyx:1242\u001b[0m, in \u001b[0;36mpandas._libs.parsers.TextReader._convert_with_dtype\u001b[1;34m()\u001b[0m\n",
      "File \u001b[1;32m~\\AppData\\Local\\Programs\\Python\\Python311\\Lib\\site-packages\\pandas\\_libs\\parsers.pyx:1255\u001b[0m, in \u001b[0;36mpandas._libs.parsers.TextReader._string_convert\u001b[1;34m()\u001b[0m\n",
      "File \u001b[1;32m~\\AppData\\Local\\Programs\\Python\\Python311\\Lib\\site-packages\\pandas\\_libs\\parsers.pyx:1503\u001b[0m, in \u001b[0;36mpandas._libs.parsers._string_box_utf8\u001b[1;34m()\u001b[0m\n",
      "\u001b[1;31mUnicodeDecodeError\u001b[0m: 'utf-8' codec can't decode bytes in position 135-136: invalid continuation byte"
     ]
    }
   ],
   "source": [
    "data = pd.read_csv('spam.csv', encoding='utf-8')\n"
   ]
  },
  {
   "cell_type": "code",
   "execution_count": 10,
   "id": "2ef08bbf-58a7-4366-8c8d-b4a5729873d4",
   "metadata": {},
   "outputs": [],
   "source": [
    "df = pd.read_csv('spam.csv', encoding='utf-8')"
   ]
  },
  {
   "cell_type": "code",
   "execution_count": 11,
   "id": "74611a0d-55db-4f98-9e45-fe4958d9a8a6",
   "metadata": {},
   "outputs": [
    {
     "data": {
      "text/html": [
       "<div>\n",
       "<style scoped>\n",
       "    .dataframe tbody tr th:only-of-type {\n",
       "        vertical-align: middle;\n",
       "    }\n",
       "\n",
       "    .dataframe tbody tr th {\n",
       "        vertical-align: top;\n",
       "    }\n",
       "\n",
       "    .dataframe thead th {\n",
       "        text-align: right;\n",
       "    }\n",
       "</style>\n",
       "<table border=\"1\" class=\"dataframe\">\n",
       "  <thead>\n",
       "    <tr style=\"text-align: right;\">\n",
       "      <th></th>\n",
       "      <th>v1</th>\n",
       "      <th>v2</th>\n",
       "      <th>Unnamed: 2</th>\n",
       "      <th>Unnamed: 3</th>\n",
       "      <th>Unnamed: 4</th>\n",
       "    </tr>\n",
       "  </thead>\n",
       "  <tbody>\n",
       "    <tr>\n",
       "      <th>5190</th>\n",
       "      <td>spam</td>\n",
       "      <td>Our records indicate u maybe entitled to 5000 ...</td>\n",
       "      <td>NaN</td>\n",
       "      <td>NaN</td>\n",
       "      <td>NaN</td>\n",
       "    </tr>\n",
       "    <tr>\n",
       "      <th>2862</th>\n",
       "      <td>ham</td>\n",
       "      <td>Ok that would b lovely, if u r sure. Think abo...</td>\n",
       "      <td>NaN</td>\n",
       "      <td>NaN</td>\n",
       "      <td>NaN</td>\n",
       "    </tr>\n",
       "    <tr>\n",
       "      <th>454</th>\n",
       "      <td>spam</td>\n",
       "      <td>Loan for any purpose å£500 - å£75,000. Homeown...</td>\n",
       "      <td>NaN</td>\n",
       "      <td>NaN</td>\n",
       "      <td>NaN</td>\n",
       "    </tr>\n",
       "    <tr>\n",
       "      <th>2025</th>\n",
       "      <td>ham</td>\n",
       "      <td>Yes obviously, but you are the eggs-pert and t...</td>\n",
       "      <td>NaN</td>\n",
       "      <td>NaN</td>\n",
       "      <td>NaN</td>\n",
       "    </tr>\n",
       "    <tr>\n",
       "      <th>4815</th>\n",
       "      <td>ham</td>\n",
       "      <td>Anything is valuable in only 2 situations: Fir...</td>\n",
       "      <td>NaN</td>\n",
       "      <td>NaN</td>\n",
       "      <td>NaN</td>\n",
       "    </tr>\n",
       "  </tbody>\n",
       "</table>\n",
       "</div>"
      ],
      "text/plain": [
       "        v1                                                 v2 Unnamed: 2  \\\n",
       "5190  spam  Our records indicate u maybe entitled to 5000 ...        NaN   \n",
       "2862   ham  Ok that would b lovely, if u r sure. Think abo...        NaN   \n",
       "454   spam  Loan for any purpose å£500 - å£75,000. Homeown...        NaN   \n",
       "2025   ham  Yes obviously, but you are the eggs-pert and t...        NaN   \n",
       "4815   ham  Anything is valuable in only 2 situations: Fir...        NaN   \n",
       "\n",
       "     Unnamed: 3 Unnamed: 4  \n",
       "5190        NaN        NaN  \n",
       "2862        NaN        NaN  \n",
       "454         NaN        NaN  \n",
       "2025        NaN        NaN  \n",
       "4815        NaN        NaN  "
      ]
     },
     "execution_count": 11,
     "metadata": {},
     "output_type": "execute_result"
    }
   ],
   "source": [
    "df.sample(5)"
   ]
  },
  {
   "cell_type": "code",
   "execution_count": 12,
   "id": "802f9c05-583b-45a8-8ab3-b32dd4720b40",
   "metadata": {},
   "outputs": [
    {
     "data": {
      "text/plain": [
       "(5572, 5)"
      ]
     },
     "execution_count": 12,
     "metadata": {},
     "output_type": "execute_result"
    }
   ],
   "source": [
    "df.shape"
   ]
  },
  {
   "cell_type": "markdown",
   "id": "d5075412-3143-4787-9eaa-bca81a77f08c",
   "metadata": {},
   "source": [
    "## 1. Data cleaning"
   ]
  },
  {
   "cell_type": "code",
   "execution_count": 13,
   "id": "200f8ab8-9b90-4886-aebe-c5c27792e79a",
   "metadata": {},
   "outputs": [
    {
     "name": "stdout",
     "output_type": "stream",
     "text": [
      "<class 'pandas.core.frame.DataFrame'>\n",
      "RangeIndex: 5572 entries, 0 to 5571\n",
      "Data columns (total 5 columns):\n",
      " #   Column      Non-Null Count  Dtype \n",
      "---  ------      --------------  ----- \n",
      " 0   v1          5572 non-null   object\n",
      " 1   v2          5572 non-null   object\n",
      " 2   Unnamed: 2  50 non-null     object\n",
      " 3   Unnamed: 3  12 non-null     object\n",
      " 4   Unnamed: 4  6 non-null      object\n",
      "dtypes: object(5)\n",
      "memory usage: 217.8+ KB\n"
     ]
    }
   ],
   "source": [
    "df.info()"
   ]
  },
  {
   "cell_type": "code",
   "execution_count": 14,
   "id": "9ec50d17-d48f-4389-bb7d-f99840f9f1b5",
   "metadata": {},
   "outputs": [],
   "source": [
    "df.drop(columns=['Unnamed: 2','Unnamed: 3','Unnamed: 4'],inplace=True)"
   ]
  },
  {
   "cell_type": "code",
   "execution_count": 15,
   "id": "e3044c15-2ee5-428a-b714-23c93f62ccb9",
   "metadata": {},
   "outputs": [
    {
     "data": {
      "text/html": [
       "<div>\n",
       "<style scoped>\n",
       "    .dataframe tbody tr th:only-of-type {\n",
       "        vertical-align: middle;\n",
       "    }\n",
       "\n",
       "    .dataframe tbody tr th {\n",
       "        vertical-align: top;\n",
       "    }\n",
       "\n",
       "    .dataframe thead th {\n",
       "        text-align: right;\n",
       "    }\n",
       "</style>\n",
       "<table border=\"1\" class=\"dataframe\">\n",
       "  <thead>\n",
       "    <tr style=\"text-align: right;\">\n",
       "      <th></th>\n",
       "      <th>v1</th>\n",
       "      <th>v2</th>\n",
       "    </tr>\n",
       "  </thead>\n",
       "  <tbody>\n",
       "    <tr>\n",
       "      <th>964</th>\n",
       "      <td>ham</td>\n",
       "      <td>Are you this much buzy</td>\n",
       "    </tr>\n",
       "    <tr>\n",
       "      <th>3459</th>\n",
       "      <td>ham</td>\n",
       "      <td>I am back. Bit long cos of accident on a30. Ha...</td>\n",
       "    </tr>\n",
       "    <tr>\n",
       "      <th>840</th>\n",
       "      <td>ham</td>\n",
       "      <td>I luv u soo much u donåÕt understand how speci...</td>\n",
       "    </tr>\n",
       "    <tr>\n",
       "      <th>3159</th>\n",
       "      <td>ham</td>\n",
       "      <td>How much did ur hdd casing cost.</td>\n",
       "    </tr>\n",
       "    <tr>\n",
       "      <th>707</th>\n",
       "      <td>ham</td>\n",
       "      <td>Quite late lar... Ard 12 anyway i wun b drivin...</td>\n",
       "    </tr>\n",
       "  </tbody>\n",
       "</table>\n",
       "</div>"
      ],
      "text/plain": [
       "       v1                                                 v2\n",
       "964   ham                             Are you this much buzy\n",
       "3459  ham  I am back. Bit long cos of accident on a30. Ha...\n",
       "840   ham  I luv u soo much u donåÕt understand how speci...\n",
       "3159  ham                   How much did ur hdd casing cost.\n",
       "707   ham  Quite late lar... Ard 12 anyway i wun b drivin..."
      ]
     },
     "execution_count": 15,
     "metadata": {},
     "output_type": "execute_result"
    }
   ],
   "source": [
    "df.sample(5)"
   ]
  },
  {
   "cell_type": "code",
   "execution_count": 16,
   "id": "66c574f2-eb74-485d-89ef-c780a3967cd7",
   "metadata": {},
   "outputs": [
    {
     "data": {
      "text/html": [
       "<div>\n",
       "<style scoped>\n",
       "    .dataframe tbody tr th:only-of-type {\n",
       "        vertical-align: middle;\n",
       "    }\n",
       "\n",
       "    .dataframe tbody tr th {\n",
       "        vertical-align: top;\n",
       "    }\n",
       "\n",
       "    .dataframe thead th {\n",
       "        text-align: right;\n",
       "    }\n",
       "</style>\n",
       "<table border=\"1\" class=\"dataframe\">\n",
       "  <thead>\n",
       "    <tr style=\"text-align: right;\">\n",
       "      <th></th>\n",
       "      <th>target</th>\n",
       "      <th>text</th>\n",
       "    </tr>\n",
       "  </thead>\n",
       "  <tbody>\n",
       "    <tr>\n",
       "      <th>968</th>\n",
       "      <td>ham</td>\n",
       "      <td>Are you willing to go for aptitude class.</td>\n",
       "    </tr>\n",
       "    <tr>\n",
       "      <th>3642</th>\n",
       "      <td>ham</td>\n",
       "      <td>Sorry, left phone upstairs. OK, might be hecti...</td>\n",
       "    </tr>\n",
       "    <tr>\n",
       "      <th>3339</th>\n",
       "      <td>ham</td>\n",
       "      <td>Like I made him throw up when we were smoking ...</td>\n",
       "    </tr>\n",
       "    <tr>\n",
       "      <th>412</th>\n",
       "      <td>ham</td>\n",
       "      <td>Okies... I'll go yan jiu too... We can skip ar...</td>\n",
       "    </tr>\n",
       "    <tr>\n",
       "      <th>3281</th>\n",
       "      <td>ham</td>\n",
       "      <td>Hey you around? I've got enough for a half + t...</td>\n",
       "    </tr>\n",
       "  </tbody>\n",
       "</table>\n",
       "</div>"
      ],
      "text/plain": [
       "     target                                               text\n",
       "968     ham          Are you willing to go for aptitude class.\n",
       "3642    ham  Sorry, left phone upstairs. OK, might be hecti...\n",
       "3339    ham  Like I made him throw up when we were smoking ...\n",
       "412     ham  Okies... I'll go yan jiu too... We can skip ar...\n",
       "3281    ham  Hey you around? I've got enough for a half + t..."
      ]
     },
     "execution_count": 16,
     "metadata": {},
     "output_type": "execute_result"
    }
   ],
   "source": [
    "# renaming the cols\n",
    "df.rename(columns={'v1':'target','v2':'text'},inplace=True)\n",
    "df.sample(5)"
   ]
  },
  {
   "cell_type": "code",
   "execution_count": 17,
   "id": "b94efd75-5077-4958-8a58-742b67072b3d",
   "metadata": {},
   "outputs": [
    {
     "ename": "ModuleNotFoundError",
     "evalue": "No module named 'sklearn'",
     "output_type": "error",
     "traceback": [
      "\u001b[1;31m---------------------------------------------------------------------------\u001b[0m",
      "\u001b[1;31mModuleNotFoundError\u001b[0m                       Traceback (most recent call last)",
      "Cell \u001b[1;32mIn[17], line 1\u001b[0m\n\u001b[1;32m----> 1\u001b[0m \u001b[38;5;28;01mfrom\u001b[39;00m \u001b[38;5;21;01msklearn\u001b[39;00m\u001b[38;5;21;01m.\u001b[39;00m\u001b[38;5;21;01mpreprocessing\u001b[39;00m \u001b[38;5;28;01mimport\u001b[39;00m LabelEncoder\n\u001b[0;32m      2\u001b[0m encoder \u001b[38;5;241m=\u001b[39m LabelEncoder()\n",
      "\u001b[1;31mModuleNotFoundError\u001b[0m: No module named 'sklearn'"
     ]
    }
   ],
   "source": [
    "from sklearn.preprocessing import LabelEncoder\n",
    "encoder = LabelEncoder()"
   ]
  },
  {
   "cell_type": "code",
   "execution_count": 18,
   "id": "5109fcba-0d80-40d0-81e2-9135f25e4f66",
   "metadata": {},
   "outputs": [
    {
     "name": "stdout",
     "output_type": "stream",
     "text": [
      "Collecting sklearn\n",
      "  Downloading sklearn-0.0.post7.tar.gz (3.6 kB)\n",
      "  Installing build dependencies: started\n",
      "  Installing build dependencies: finished with status 'done'\n",
      "  Getting requirements to build wheel: started\n",
      "  Getting requirements to build wheel: finished with status 'done'\n",
      "  Preparing metadata (pyproject.toml): started\n",
      "  Preparing metadata (pyproject.toml): finished with status 'done'\n",
      "Building wheels for collected packages: sklearn\n",
      "  Building wheel for sklearn (pyproject.toml): started\n",
      "  Building wheel for sklearn (pyproject.toml): finished with status 'done'\n",
      "  Created wheel for sklearn: filename=sklearn-0.0.post7-py3-none-any.whl size=2971 sha256=f99a8e93de2eb62707b6fcc62a4c771fe0270813a9ef13aa4f40b7e66314454a\n",
      "  Stored in directory: c:\\users\\shri\\appdata\\local\\pip\\cache\\wheels\\08\\17\\db\\46486df299847133f69165c029fe388fac45781eb5d436c569\n",
      "Successfully built sklearn\n",
      "Installing collected packages: sklearn\n",
      "Successfully installed sklearn-0.0.post7\n"
     ]
    },
    {
     "name": "stderr",
     "output_type": "stream",
     "text": [
      "\n",
      "[notice] A new release of pip is available: 23.1.2 -> 23.2\n",
      "[notice] To update, run: C:\\Users\\SHRI\\AppData\\Local\\Programs\\Python\\Python311\\python.exe -m pip install --upgrade pip\n"
     ]
    }
   ],
   "source": [
    "!pip install sklearn"
   ]
  },
  {
   "cell_type": "code",
   "execution_count": 19,
   "id": "57254747-6f6c-4394-ae94-b458ddbc7c75",
   "metadata": {
    "scrolled": true
   },
   "outputs": [
    {
     "ename": "ModuleNotFoundError",
     "evalue": "No module named 'sklearn'",
     "output_type": "error",
     "traceback": [
      "\u001b[1;31m---------------------------------------------------------------------------\u001b[0m",
      "\u001b[1;31mModuleNotFoundError\u001b[0m                       Traceback (most recent call last)",
      "Cell \u001b[1;32mIn[19], line 1\u001b[0m\n\u001b[1;32m----> 1\u001b[0m \u001b[38;5;28;01mfrom\u001b[39;00m \u001b[38;5;21;01msklearn\u001b[39;00m\u001b[38;5;21;01m.\u001b[39;00m\u001b[38;5;21;01mpreprocessing\u001b[39;00m \u001b[38;5;28;01mimport\u001b[39;00m LabelEncoder\n\u001b[0;32m      2\u001b[0m encoder \u001b[38;5;241m=\u001b[39m LabelEncoder()\n",
      "\u001b[1;31mModuleNotFoundError\u001b[0m: No module named 'sklearn'"
     ]
    }
   ],
   "source": [
    "from sklearn.preprocessing import LabelEncoder\n",
    "encoder = LabelEncoder()"
   ]
  },
  {
   "cell_type": "code",
   "execution_count": 20,
   "id": "49ab890c-f6ee-437e-97d5-c922989bb81f",
   "metadata": {},
   "outputs": [
    {
     "name": "stdout",
     "output_type": "stream",
     "text": [
      "Collecting scikit-learn\n",
      "  Downloading scikit_learn-1.3.0-cp311-cp311-win_amd64.whl (9.2 MB)\n",
      "                                              0.0/9.2 MB ? eta -:--:--\n",
      "                                              0.0/9.2 MB 1.9 MB/s eta 0:00:05\n",
      "                                              0.1/9.2 MB 1.1 MB/s eta 0:00:09\n",
      "                                              0.2/9.2 MB 1.1 MB/s eta 0:00:08\n",
      "     -                                        0.2/9.2 MB 1.3 MB/s eta 0:00:07\n",
      "     -                                        0.4/9.2 MB 1.6 MB/s eta 0:00:06\n",
      "     ---                                      0.7/9.2 MB 2.4 MB/s eta 0:00:04\n",
      "     ----                                     1.0/9.2 MB 2.9 MB/s eta 0:00:03\n",
      "     -----                                    1.3/9.2 MB 3.3 MB/s eta 0:00:03\n",
      "     ------                                   1.6/9.2 MB 3.7 MB/s eta 0:00:03\n",
      "     --------                                 1.9/9.2 MB 3.9 MB/s eta 0:00:02\n",
      "     ---------                                2.1/9.2 MB 4.1 MB/s eta 0:00:02\n",
      "     ----------                               2.5/9.2 MB 4.4 MB/s eta 0:00:02\n",
      "     ------------                             2.8/9.2 MB 4.5 MB/s eta 0:00:02\n",
      "     ------------                             2.9/9.2 MB 4.6 MB/s eta 0:00:02\n",
      "     ------------                             2.9/9.2 MB 4.6 MB/s eta 0:00:02\n",
      "     ------------                             2.9/9.2 MB 4.6 MB/s eta 0:00:02\n",
      "     ------------                             2.9/9.2 MB 4.6 MB/s eta 0:00:02\n",
      "     ------------                             2.9/9.2 MB 4.6 MB/s eta 0:00:02\n",
      "     --------------                           3.3/9.2 MB 3.7 MB/s eta 0:00:02\n",
      "     --------------                           3.3/9.2 MB 3.7 MB/s eta 0:00:02\n",
      "     ---------------                          3.6/9.2 MB 3.7 MB/s eta 0:00:02\n",
      "     -----------------                        3.9/9.2 MB 3.9 MB/s eta 0:00:02\n",
      "     -----------------                        3.9/9.2 MB 3.9 MB/s eta 0:00:02\n",
      "     -----------------                        4.1/9.2 MB 3.8 MB/s eta 0:00:02\n",
      "     ---------------------                    5.0/9.2 MB 4.3 MB/s eta 0:00:01\n",
      "     ---------------------                    5.0/9.2 MB 4.3 MB/s eta 0:00:01\n",
      "     ---------------------                    5.0/9.2 MB 4.3 MB/s eta 0:00:01\n",
      "     ---------------------                    5.0/9.2 MB 4.3 MB/s eta 0:00:01\n",
      "     ----------------------                   5.3/9.2 MB 4.0 MB/s eta 0:00:01\n",
      "     -----------------------------            6.7/9.2 MB 4.8 MB/s eta 0:00:01\n",
      "     ------------------------------           7.0/9.2 MB 4.8 MB/s eta 0:00:01\n",
      "     -------------------------------          7.3/9.2 MB 4.9 MB/s eta 0:00:01\n",
      "     --------------------------------         7.5/9.2 MB 4.9 MB/s eta 0:00:01\n",
      "     ----------------------------------       7.8/9.2 MB 4.9 MB/s eta 0:00:01\n",
      "     ----------------------------------       7.9/9.2 MB 4.8 MB/s eta 0:00:01\n",
      "     -----------------------------------      8.2/9.2 MB 4.9 MB/s eta 0:00:01\n",
      "     ------------------------------------     8.3/9.2 MB 4.8 MB/s eta 0:00:01\n",
      "     -------------------------------------    8.6/9.2 MB 4.8 MB/s eta 0:00:01\n",
      "     --------------------------------------   8.8/9.2 MB 4.8 MB/s eta 0:00:01\n",
      "     ---------------------------------------  9.1/9.2 MB 4.9 MB/s eta 0:00:01\n",
      "     ---------------------------------------  9.2/9.2 MB 4.9 MB/s eta 0:00:01\n",
      "     ---------------------------------------  9.2/9.2 MB 4.9 MB/s eta 0:00:01\n",
      "     ---------------------------------------- 9.2/9.2 MB 4.6 MB/s eta 0:00:00\n",
      "Requirement already satisfied: numpy>=1.17.3 in c:\\users\\shri\\appdata\\local\\programs\\python\\python311\\lib\\site-packages (from scikit-learn) (1.25.1)\n",
      "Collecting scipy>=1.5.0 (from scikit-learn)\n",
      "  Downloading scipy-1.11.1-cp311-cp311-win_amd64.whl (44.0 MB)\n",
      "                                              0.0/44.0 MB ? eta -:--:--\n",
      "                                              0.3/44.0 MB 7.0 MB/s eta 0:00:07\n",
      "                                              0.6/44.0 MB 6.3 MB/s eta 0:00:07\n",
      "                                              0.9/44.0 MB 6.2 MB/s eta 0:00:07\n",
      "                                              1.1/44.0 MB 6.3 MB/s eta 0:00:07\n",
      "     -                                        1.2/44.0 MB 5.2 MB/s eta 0:00:09\n",
      "     -                                        1.6/44.0 MB 5.5 MB/s eta 0:00:08\n",
      "     -                                        1.8/44.0 MB 5.4 MB/s eta 0:00:08\n",
      "     -                                        2.1/44.0 MB 5.7 MB/s eta 0:00:08\n",
      "     --                                       2.4/44.0 MB 5.7 MB/s eta 0:00:08\n",
      "     --                                       2.7/44.0 MB 5.7 MB/s eta 0:00:08\n",
      "     --                                       3.0/44.0 MB 5.7 MB/s eta 0:00:08\n",
      "     --                                       3.3/44.0 MB 5.8 MB/s eta 0:00:08\n",
      "     ---                                      3.6/44.0 MB 5.8 MB/s eta 0:00:07\n",
      "     ---                                      4.0/44.0 MB 5.9 MB/s eta 0:00:07\n",
      "     ---                                      4.3/44.0 MB 5.9 MB/s eta 0:00:07\n",
      "     ----                                     4.5/44.0 MB 5.9 MB/s eta 0:00:07\n",
      "     ----                                     4.8/44.0 MB 5.9 MB/s eta 0:00:07\n",
      "     ----                                     5.1/44.0 MB 5.9 MB/s eta 0:00:07\n",
      "     ----                                     5.4/44.0 MB 5.9 MB/s eta 0:00:07\n",
      "     -----                                    5.7/44.0 MB 6.0 MB/s eta 0:00:07\n",
      "     -----                                    6.0/44.0 MB 6.0 MB/s eta 0:00:07\n",
      "     -----                                    6.3/44.0 MB 6.0 MB/s eta 0:00:07\n",
      "     ------                                   6.6/44.0 MB 6.0 MB/s eta 0:00:07\n",
      "     ------                                   6.9/44.0 MB 6.0 MB/s eta 0:00:07\n",
      "     ------                                   7.2/44.0 MB 6.1 MB/s eta 0:00:07\n",
      "     ------                                   7.5/44.0 MB 6.1 MB/s eta 0:00:07\n",
      "     -------                                  7.9/44.0 MB 6.1 MB/s eta 0:00:06\n",
      "     -------                                  8.1/44.0 MB 6.1 MB/s eta 0:00:06\n",
      "     -------                                  8.4/44.0 MB 6.1 MB/s eta 0:00:06\n",
      "     -------                                  8.7/44.0 MB 6.1 MB/s eta 0:00:06\n",
      "     --------                                 9.0/44.0 MB 6.1 MB/s eta 0:00:06\n",
      "     --------                                 9.3/44.0 MB 6.1 MB/s eta 0:00:06\n",
      "     --------                                 9.6/44.0 MB 6.2 MB/s eta 0:00:06\n",
      "     ---------                                10.0/44.0 MB 6.1 MB/s eta 0:00:06\n",
      "     ---------                                10.3/44.0 MB 6.1 MB/s eta 0:00:06\n",
      "     ---------                                10.4/44.0 MB 6.2 MB/s eta 0:00:06\n",
      "     ---------                                10.7/44.0 MB 6.0 MB/s eta 0:00:06\n",
      "     ---------                                11.0/44.0 MB 6.1 MB/s eta 0:00:06\n",
      "     ----------                               11.3/44.0 MB 6.1 MB/s eta 0:00:06\n",
      "     ----------                               11.6/44.0 MB 6.2 MB/s eta 0:00:06\n",
      "     ----------                               11.9/44.0 MB 6.2 MB/s eta 0:00:06\n",
      "     -----------                              12.2/44.0 MB 6.2 MB/s eta 0:00:06\n",
      "     -----------                              12.2/44.0 MB 6.2 MB/s eta 0:00:06\n",
      "     -----------                              12.2/44.0 MB 6.2 MB/s eta 0:00:06\n",
      "     -----------                              12.2/44.0 MB 6.2 MB/s eta 0:00:06\n",
      "     -----------                              12.2/44.0 MB 6.2 MB/s eta 0:00:06\n",
      "     -----------                              12.7/44.0 MB 5.8 MB/s eta 0:00:06\n",
      "     ------------                             13.4/44.0 MB 5.9 MB/s eta 0:00:06\n",
      "     ------------                             13.9/44.0 MB 6.0 MB/s eta 0:00:06\n",
      "     ------------                             14.1/44.0 MB 6.0 MB/s eta 0:00:06\n",
      "     -------------                            14.5/44.0 MB 6.0 MB/s eta 0:00:05\n",
      "     -------------                            14.8/44.0 MB 6.0 MB/s eta 0:00:05\n",
      "     -------------                            15.1/44.0 MB 6.1 MB/s eta 0:00:05\n",
      "     -------------                            15.3/44.0 MB 6.0 MB/s eta 0:00:05\n",
      "     --------------                           15.7/44.0 MB 6.0 MB/s eta 0:00:05\n",
      "     --------------                           15.8/44.0 MB 6.0 MB/s eta 0:00:05\n",
      "     --------------                           16.0/44.0 MB 5.9 MB/s eta 0:00:05\n",
      "     --------------                           16.3/44.0 MB 5.8 MB/s eta 0:00:05\n",
      "     ---------------                          16.6/44.0 MB 5.8 MB/s eta 0:00:05\n",
      "     ---------------                          16.9/44.0 MB 5.8 MB/s eta 0:00:05\n",
      "     ---------------                          17.2/44.0 MB 5.8 MB/s eta 0:00:05\n",
      "     ---------------                          17.5/44.0 MB 5.8 MB/s eta 0:00:05\n",
      "     ----------------                         17.7/44.0 MB 5.8 MB/s eta 0:00:05\n",
      "     ----------------                         18.1/44.0 MB 5.8 MB/s eta 0:00:05\n",
      "     ----------------                         18.3/44.0 MB 5.7 MB/s eta 0:00:05\n",
      "     ----------------                         18.6/44.0 MB 5.8 MB/s eta 0:00:05\n",
      "     -----------------                        18.9/44.0 MB 5.8 MB/s eta 0:00:05\n",
      "     -----------------                        19.2/44.0 MB 5.8 MB/s eta 0:00:05\n",
      "     -----------------                        19.4/44.0 MB 5.7 MB/s eta 0:00:05\n",
      "     -----------------                        19.8/44.0 MB 5.8 MB/s eta 0:00:05\n",
      "     ------------------                       20.0/44.0 MB 5.7 MB/s eta 0:00:05\n",
      "     ------------------                       20.4/44.0 MB 5.8 MB/s eta 0:00:05\n",
      "     ------------------                       20.7/44.0 MB 5.9 MB/s eta 0:00:04\n",
      "     -------------------                      21.0/44.0 MB 5.8 MB/s eta 0:00:04\n",
      "     -------------------                      21.3/44.0 MB 5.8 MB/s eta 0:00:04\n",
      "     -------------------                      21.6/44.0 MB 5.8 MB/s eta 0:00:04\n",
      "     -------------------                      21.7/44.0 MB 5.7 MB/s eta 0:00:04\n",
      "     -------------------                      21.9/44.0 MB 5.7 MB/s eta 0:00:04\n",
      "     --------------------                     22.3/44.0 MB 5.7 MB/s eta 0:00:04\n",
      "     --------------------                     22.5/44.0 MB 6.4 MB/s eta 0:00:04\n",
      "     --------------------                     22.9/44.0 MB 6.2 MB/s eta 0:00:04\n",
      "     ---------------------                    23.1/44.0 MB 6.4 MB/s eta 0:00:04\n",
      "     ---------------------                    23.3/44.0 MB 6.2 MB/s eta 0:00:04\n",
      "     ---------------------                    23.7/44.0 MB 6.0 MB/s eta 0:00:04\n",
      "     ---------------------                    24.0/44.0 MB 6.0 MB/s eta 0:00:04\n",
      "     ---------------------                    24.0/44.0 MB 6.0 MB/s eta 0:00:04\n",
      "     ---------------------                    24.0/44.0 MB 6.0 MB/s eta 0:00:04\n",
      "     ---------------------                    24.0/44.0 MB 6.0 MB/s eta 0:00:04\n",
      "     ---------------------                    24.0/44.0 MB 6.0 MB/s eta 0:00:04\n",
      "     ---------------------                    24.0/44.0 MB 6.0 MB/s eta 0:00:04\n",
      "     -----------------------                  25.3/44.0 MB 5.7 MB/s eta 0:00:04\n",
      "     -----------------------                  25.7/44.0 MB 5.7 MB/s eta 0:00:04\n",
      "     -----------------------                  25.9/44.0 MB 5.7 MB/s eta 0:00:04\n",
      "     -----------------------                  26.3/44.0 MB 5.9 MB/s eta 0:00:03\n",
      "     ------------------------                 26.5/44.0 MB 5.9 MB/s eta 0:00:03\n",
      "     ------------------------                 26.8/44.0 MB 5.8 MB/s eta 0:00:03\n",
      "     ------------------------                 27.1/44.0 MB 5.8 MB/s eta 0:00:03\n",
      "     ------------------------                 27.2/44.0 MB 5.7 MB/s eta 0:00:03\n",
      "     ------------------------                 27.4/44.0 MB 5.7 MB/s eta 0:00:03\n",
      "     -------------------------                27.7/44.0 MB 5.8 MB/s eta 0:00:03\n",
      "     -------------------------                28.0/44.0 MB 5.8 MB/s eta 0:00:03\n",
      "     -------------------------                28.3/44.0 MB 5.8 MB/s eta 0:00:03\n",
      "     -------------------------                28.5/44.0 MB 5.8 MB/s eta 0:00:03\n",
      "     --------------------------               28.7/44.0 MB 5.7 MB/s eta 0:00:03\n",
      "     --------------------------               29.1/44.0 MB 5.7 MB/s eta 0:00:03\n",
      "     --------------------------               29.3/44.0 MB 5.7 MB/s eta 0:00:03\n",
      "     --------------------------               29.6/44.0 MB 5.7 MB/s eta 0:00:03\n",
      "     ---------------------------              29.8/44.0 MB 5.6 MB/s eta 0:00:03\n",
      "     ---------------------------              30.1/44.0 MB 5.7 MB/s eta 0:00:03\n",
      "     ---------------------------              30.4/44.0 MB 5.6 MB/s eta 0:00:03\n",
      "     ---------------------------              30.7/44.0 MB 5.6 MB/s eta 0:00:03\n",
      "     ----------------------------             31.0/44.0 MB 5.7 MB/s eta 0:00:03\n",
      "     ----------------------------             31.3/44.0 MB 5.6 MB/s eta 0:00:03\n",
      "     ----------------------------             31.7/44.0 MB 5.7 MB/s eta 0:00:03\n",
      "     -----------------------------            31.9/44.0 MB 5.8 MB/s eta 0:00:03\n",
      "     -----------------------------            32.2/44.0 MB 5.8 MB/s eta 0:00:03\n",
      "     -----------------------------            32.5/44.0 MB 5.7 MB/s eta 0:00:03\n",
      "     -----------------------------            32.8/44.0 MB 5.8 MB/s eta 0:00:02\n",
      "     -----------------------------            32.9/44.0 MB 5.8 MB/s eta 0:00:02\n",
      "     ------------------------------           33.0/44.0 MB 5.6 MB/s eta 0:00:02\n",
      "     ------------------------------           33.0/44.0 MB 5.6 MB/s eta 0:00:02\n",
      "     ------------------------------           33.0/44.0 MB 5.6 MB/s eta 0:00:02\n",
      "     ------------------------------           33.0/44.0 MB 5.6 MB/s eta 0:00:02\n",
      "     ------------------------------           33.0/44.0 MB 5.6 MB/s eta 0:00:02\n",
      "     -------------------------------          34.5/44.0 MB 6.4 MB/s eta 0:00:02\n",
      "     -------------------------------          34.5/44.0 MB 6.3 MB/s eta 0:00:02\n",
      "     -------------------------------          34.5/44.0 MB 6.3 MB/s eta 0:00:02\n",
      "     -------------------------------          34.8/44.0 MB 5.8 MB/s eta 0:00:02\n",
      "     -------------------------------          35.1/44.0 MB 5.7 MB/s eta 0:00:02\n",
      "     --------------------------------         35.4/44.0 MB 5.5 MB/s eta 0:00:02\n",
      "     --------------------------------         35.5/44.0 MB 5.5 MB/s eta 0:00:02\n",
      "     --------------------------------         35.6/44.0 MB 5.4 MB/s eta 0:00:02\n",
      "     --------------------------------         35.8/44.0 MB 5.3 MB/s eta 0:00:02\n",
      "     --------------------------------         36.1/44.0 MB 5.3 MB/s eta 0:00:02\n",
      "     ---------------------------------        36.5/44.0 MB 5.3 MB/s eta 0:00:02\n",
      "     ---------------------------------        36.9/44.0 MB 5.4 MB/s eta 0:00:02\n",
      "     ---------------------------------        37.1/44.0 MB 5.3 MB/s eta 0:00:02\n",
      "     ----------------------------------       37.4/44.0 MB 5.5 MB/s eta 0:00:02\n",
      "     ----------------------------------       37.6/44.0 MB 5.4 MB/s eta 0:00:02\n",
      "     ----------------------------------       37.9/44.0 MB 5.5 MB/s eta 0:00:02\n",
      "     ----------------------------------       38.2/44.0 MB 5.4 MB/s eta 0:00:02\n",
      "     -----------------------------------      38.5/44.0 MB 5.4 MB/s eta 0:00:02\n",
      "     -----------------------------------      38.7/44.0 MB 5.4 MB/s eta 0:00:01\n",
      "     -----------------------------------      39.0/44.0 MB 5.5 MB/s eta 0:00:01\n",
      "     -----------------------------------      39.2/44.0 MB 5.4 MB/s eta 0:00:01\n",
      "     ------------------------------------     39.6/44.0 MB 5.5 MB/s eta 0:00:01\n",
      "     ------------------------------------     39.8/44.0 MB 5.4 MB/s eta 0:00:01\n",
      "     ------------------------------------     40.1/44.0 MB 5.5 MB/s eta 0:00:01\n",
      "     ------------------------------------     40.4/44.0 MB 5.5 MB/s eta 0:00:01\n",
      "     ------------------------------------     40.6/44.0 MB 5.4 MB/s eta 0:00:01\n",
      "     -------------------------------------    41.0/44.0 MB 5.5 MB/s eta 0:00:01\n",
      "     -------------------------------------    41.3/44.0 MB 5.5 MB/s eta 0:00:01\n",
      "     -------------------------------------    41.4/44.0 MB 5.4 MB/s eta 0:00:01\n",
      "     -------------------------------------    41.6/44.0 MB 5.3 MB/s eta 0:00:01\n",
      "     --------------------------------------   41.9/44.0 MB 5.3 MB/s eta 0:00:01\n",
      "     --------------------------------------   42.2/44.0 MB 5.3 MB/s eta 0:00:01\n",
      "     --------------------------------------   42.5/44.0 MB 5.3 MB/s eta 0:00:01\n",
      "     --------------------------------------   42.7/44.0 MB 5.3 MB/s eta 0:00:01\n",
      "     ---------------------------------------  43.0/44.0 MB 5.3 MB/s eta 0:00:01\n",
      "     ---------------------------------------  43.4/44.0 MB 6.1 MB/s eta 0:00:01\n",
      "     ---------------------------------------  43.7/44.0 MB 6.0 MB/s eta 0:00:01\n",
      "     ---------------------------------------  43.9/44.0 MB 5.8 MB/s eta 0:00:01\n",
      "     ---------------------------------------  44.0/44.0 MB 5.7 MB/s eta 0:00:01\n",
      "     ---------------------------------------  44.0/44.0 MB 5.7 MB/s eta 0:00:01\n",
      "     ---------------------------------------  44.0/44.0 MB 5.7 MB/s eta 0:00:01\n",
      "     ---------------------------------------  44.0/44.0 MB 5.7 MB/s eta 0:00:01\n",
      "     ---------------------------------------  44.0/44.0 MB 5.7 MB/s eta 0:00:01\n",
      "     ---------------------------------------  44.0/44.0 MB 5.7 MB/s eta 0:00:01\n",
      "     ---------------------------------------  44.0/44.0 MB 5.7 MB/s eta 0:00:01\n",
      "     ---------------------------------------  44.0/44.0 MB 5.7 MB/s eta 0:00:01\n",
      "     ---------------------------------------- 44.0/44.0 MB 4.7 MB/s eta 0:00:00\n",
      "Collecting joblib>=1.1.1 (from scikit-learn)\n",
      "  Downloading joblib-1.3.1-py3-none-any.whl (301 kB)\n",
      "                                              0.0/302.0 kB ? eta -:--:--\n",
      "     --------------------------------       256.0/302.0 kB 7.9 MB/s eta 0:00:01\n",
      "     -------------------------------------  297.0/302.0 kB 6.1 MB/s eta 0:00:01\n",
      "     -------------------------------------- 302.0/302.0 kB 3.1 MB/s eta 0:00:00\n",
      "Collecting threadpoolctl>=2.0.0 (from scikit-learn)\n",
      "  Downloading threadpoolctl-3.2.0-py3-none-any.whl (15 kB)\n",
      "Installing collected packages: threadpoolctl, scipy, joblib, scikit-learn\n",
      "Successfully installed joblib-1.3.1 scikit-learn-1.3.0 scipy-1.11.1 threadpoolctl-3.2.0\n",
      "Note: you may need to restart the kernel to use updated packages.\n"
     ]
    },
    {
     "name": "stderr",
     "output_type": "stream",
     "text": [
      "\n",
      "[notice] A new release of pip is available: 23.1.2 -> 23.2\n",
      "[notice] To update, run: C:\\Users\\SHRI\\AppData\\Local\\Programs\\Python\\Python311\\python.exe -m pip install --upgrade pip\n"
     ]
    }
   ],
   "source": [
    "pip install scikit-learn"
   ]
  },
  {
   "cell_type": "code",
   "execution_count": 21,
   "id": "19bf9b3b-76f7-4d0e-bd56-fc1ee8044d80",
   "metadata": {},
   "outputs": [],
   "source": [
    "from sklearn.preprocessing import LabelEncoder\n",
    "encoder = LabelEncoder()"
   ]
  },
  {
   "cell_type": "code",
   "execution_count": 22,
   "id": "2d980cab-906b-4a8c-9516-221c3d2f6fa1",
   "metadata": {},
   "outputs": [],
   "source": [
    "df['target'] = encoder.fit_transform(df['target'])"
   ]
  },
  {
   "cell_type": "code",
   "execution_count": 23,
   "id": "0ec42097-c7bd-40d5-a518-0d74e45e6f66",
   "metadata": {},
   "outputs": [
    {
     "data": {
      "text/html": [
       "<div>\n",
       "<style scoped>\n",
       "    .dataframe tbody tr th:only-of-type {\n",
       "        vertical-align: middle;\n",
       "    }\n",
       "\n",
       "    .dataframe tbody tr th {\n",
       "        vertical-align: top;\n",
       "    }\n",
       "\n",
       "    .dataframe thead th {\n",
       "        text-align: right;\n",
       "    }\n",
       "</style>\n",
       "<table border=\"1\" class=\"dataframe\">\n",
       "  <thead>\n",
       "    <tr style=\"text-align: right;\">\n",
       "      <th></th>\n",
       "      <th>target</th>\n",
       "      <th>text</th>\n",
       "    </tr>\n",
       "  </thead>\n",
       "  <tbody>\n",
       "    <tr>\n",
       "      <th>0</th>\n",
       "      <td>0</td>\n",
       "      <td>Go until jurong point, crazy.. Available only ...</td>\n",
       "    </tr>\n",
       "    <tr>\n",
       "      <th>1</th>\n",
       "      <td>0</td>\n",
       "      <td>Ok lar... Joking wif u oni...</td>\n",
       "    </tr>\n",
       "    <tr>\n",
       "      <th>2</th>\n",
       "      <td>1</td>\n",
       "      <td>Free entry in 2 a wkly comp to win FA Cup fina...</td>\n",
       "    </tr>\n",
       "    <tr>\n",
       "      <th>3</th>\n",
       "      <td>0</td>\n",
       "      <td>U dun say so early hor... U c already then say...</td>\n",
       "    </tr>\n",
       "    <tr>\n",
       "      <th>4</th>\n",
       "      <td>0</td>\n",
       "      <td>Nah I don't think he goes to usf, he lives aro...</td>\n",
       "    </tr>\n",
       "  </tbody>\n",
       "</table>\n",
       "</div>"
      ],
      "text/plain": [
       "   target                                               text\n",
       "0       0  Go until jurong point, crazy.. Available only ...\n",
       "1       0                      Ok lar... Joking wif u oni...\n",
       "2       1  Free entry in 2 a wkly comp to win FA Cup fina...\n",
       "3       0  U dun say so early hor... U c already then say...\n",
       "4       0  Nah I don't think he goes to usf, he lives aro..."
      ]
     },
     "execution_count": 23,
     "metadata": {},
     "output_type": "execute_result"
    }
   ],
   "source": [
    "df.head()"
   ]
  },
  {
   "cell_type": "code",
   "execution_count": 24,
   "id": "3002a2c7-ce86-472d-9886-6d151eb1754c",
   "metadata": {},
   "outputs": [
    {
     "data": {
      "text/plain": [
       "target    0\n",
       "text      0\n",
       "dtype: int64"
      ]
     },
     "execution_count": 24,
     "metadata": {},
     "output_type": "execute_result"
    }
   ],
   "source": [
    "# checking for missing values\n",
    "df.isnull().sum()"
   ]
  },
  {
   "cell_type": "code",
   "execution_count": 25,
   "id": "77848ab5-b61e-415b-9297-300fe6b48276",
   "metadata": {},
   "outputs": [
    {
     "data": {
      "text/plain": [
       "403"
      ]
     },
     "execution_count": 25,
     "metadata": {},
     "output_type": "execute_result"
    }
   ],
   "source": [
    "# check for duplicates\n",
    "df.duplicated().sum()"
   ]
  },
  {
   "cell_type": "code",
   "execution_count": 26,
   "id": "1c07a9b6-2062-4004-a01b-e329d79be33c",
   "metadata": {},
   "outputs": [],
   "source": [
    "# remove them\n",
    "df = df.drop_duplicates(keep='first')"
   ]
  },
  {
   "cell_type": "code",
   "execution_count": 27,
   "id": "47fef1ca-80b5-4845-882d-5b33ccdc6b47",
   "metadata": {},
   "outputs": [
    {
     "data": {
      "text/plain": [
       "0"
      ]
     },
     "execution_count": 27,
     "metadata": {},
     "output_type": "execute_result"
    }
   ],
   "source": [
    "df.duplicated().sum()"
   ]
  },
  {
   "cell_type": "code",
   "execution_count": 28,
   "id": "aa4a9423-0275-4b75-96b7-2ef4c1e34c72",
   "metadata": {},
   "outputs": [
    {
     "data": {
      "text/plain": [
       "(5169, 2)"
      ]
     },
     "execution_count": 28,
     "metadata": {},
     "output_type": "execute_result"
    }
   ],
   "source": [
    "df.shape"
   ]
  },
  {
   "cell_type": "code",
   "execution_count": 29,
   "id": "4d220a10-2682-41ea-8327-6ebda0c72209",
   "metadata": {},
   "outputs": [
    {
     "data": {
      "text/plain": [
       "target\n",
       "0    4516\n",
       "1     653\n",
       "Name: count, dtype: int64"
      ]
     },
     "execution_count": 29,
     "metadata": {},
     "output_type": "execute_result"
    }
   ],
   "source": [
    "#understanding amount of spam and reg msg records in the dataset\n",
    "df['target'].value_counts()"
   ]
  },
  {
   "cell_type": "code",
   "execution_count": 32,
   "id": "238649cc-cf1d-4e2c-947b-5800d8d4b536",
   "metadata": {
    "scrolled": true
   },
   "outputs": [
    {
     "name": "stdout",
     "output_type": "stream",
     "text": [
      "Collecting matplotlib\n",
      "  Downloading matplotlib-3.7.2-cp311-cp311-win_amd64.whl (7.5 MB)\n",
      "                                              0.0/7.5 MB ? eta -:--:--\n",
      "                                              0.1/7.5 MB 1.5 MB/s eta 0:00:05\n",
      "                                              0.1/7.5 MB 1.4 MB/s eta 0:00:06\n",
      "     -                                        0.2/7.5 MB 1.3 MB/s eta 0:00:06\n",
      "     --                                       0.4/7.5 MB 2.1 MB/s eta 0:00:04\n",
      "     ---                                      0.6/7.5 MB 2.5 MB/s eta 0:00:03\n",
      "     ----                                     0.8/7.5 MB 3.0 MB/s eta 0:00:03\n",
      "     -----                                    1.1/7.5 MB 3.2 MB/s eta 0:00:03\n",
      "     -------                                  1.3/7.5 MB 3.5 MB/s eta 0:00:02\n",
      "     -------                                  1.4/7.5 MB 3.7 MB/s eta 0:00:02\n",
      "     --------                                 1.6/7.5 MB 3.5 MB/s eta 0:00:02\n",
      "     ---------                                1.9/7.5 MB 3.6 MB/s eta 0:00:02\n",
      "     -----------                              2.1/7.5 MB 3.7 MB/s eta 0:00:02\n",
      "     ------------                             2.4/7.5 MB 3.9 MB/s eta 0:00:02\n",
      "     -------------                            2.6/7.5 MB 3.9 MB/s eta 0:00:02\n",
      "     ---------------                          2.9/7.5 MB 4.1 MB/s eta 0:00:02\n",
      "     ---------------                          2.9/7.5 MB 4.1 MB/s eta 0:00:02\n",
      "     ----------------                         3.1/7.5 MB 3.9 MB/s eta 0:00:02\n",
      "     -----------------                        3.3/7.5 MB 4.0 MB/s eta 0:00:02\n",
      "     -------------------                      3.6/7.5 MB 4.0 MB/s eta 0:00:01\n",
      "     -------------------                      3.6/7.5 MB 3.9 MB/s eta 0:00:01\n",
      "     --------------------                     3.8/7.5 MB 3.8 MB/s eta 0:00:01\n",
      "     ---------------------                    4.0/7.5 MB 3.9 MB/s eta 0:00:01\n",
      "     ----------------------                   4.2/7.5 MB 3.9 MB/s eta 0:00:01\n",
      "     -----------------------                  4.5/7.5 MB 4.0 MB/s eta 0:00:01\n",
      "     ------------------------                 4.7/7.5 MB 4.0 MB/s eta 0:00:01\n",
      "     --------------------------               5.0/7.5 MB 4.1 MB/s eta 0:00:01\n",
      "     ---------------------------              5.2/7.5 MB 4.1 MB/s eta 0:00:01\n",
      "     ----------------------------             5.4/7.5 MB 4.1 MB/s eta 0:00:01\n",
      "     ----------------------------             5.4/7.5 MB 4.1 MB/s eta 0:00:01\n",
      "     ------------------------------           5.6/7.5 MB 4.0 MB/s eta 0:00:01\n",
      "     -------------------------------          5.9/7.5 MB 4.0 MB/s eta 0:00:01\n",
      "     --------------------------------         6.1/7.5 MB 4.1 MB/s eta 0:00:01\n",
      "     --------------------------------         6.1/7.5 MB 4.0 MB/s eta 0:00:01\n",
      "     ---------------------------------        6.3/7.5 MB 4.0 MB/s eta 0:00:01\n",
      "     -----------------------------------      6.6/7.5 MB 4.0 MB/s eta 0:00:01\n",
      "     ------------------------------------     6.8/7.5 MB 4.0 MB/s eta 0:00:01\n",
      "     -------------------------------------    7.0/7.5 MB 4.1 MB/s eta 0:00:01\n",
      "     --------------------------------------   7.3/7.5 MB 4.1 MB/s eta 0:00:01\n",
      "     ---------------------------------------  7.5/7.5 MB 4.1 MB/s eta 0:00:01\n",
      "     ---------------------------------------  7.5/7.5 MB 4.1 MB/s eta 0:00:01\n",
      "     ---------------------------------------- 7.5/7.5 MB 3.9 MB/s eta 0:00:00\n",
      "Collecting contourpy>=1.0.1 (from matplotlib)\n",
      "  Downloading contourpy-1.1.0-cp311-cp311-win_amd64.whl (470 kB)\n",
      "                                              0.0/470.9 kB ? eta -:--:--\n",
      "     ---------------------                  266.2/470.9 kB 5.6 MB/s eta 0:00:01\n",
      "     -------------------------------------  460.8/470.9 kB 5.8 MB/s eta 0:00:01\n",
      "     -------------------------------------- 470.9/470.9 kB 5.0 MB/s eta 0:00:00\n",
      "Collecting cycler>=0.10 (from matplotlib)\n",
      "  Downloading cycler-0.11.0-py3-none-any.whl (6.4 kB)\n",
      "Collecting fonttools>=4.22.0 (from matplotlib)\n",
      "  Downloading fonttools-4.41.0-cp311-cp311-win_amd64.whl (2.0 MB)\n",
      "                                              0.0/2.0 MB ? eta -:--:--\n",
      "     -----                                    0.3/2.0 MB 7.7 MB/s eta 0:00:01\n",
      "     ---------                                0.4/2.0 MB 5.5 MB/s eta 0:00:01\n",
      "     -------------                            0.6/2.0 MB 4.5 MB/s eta 0:00:01\n",
      "     -------------                            0.7/2.0 MB 3.8 MB/s eta 0:00:01\n",
      "     -----------------                        0.9/2.0 MB 3.9 MB/s eta 0:00:01\n",
      "     ----------------------                   1.1/2.0 MB 3.8 MB/s eta 0:00:01\n",
      "     ---------------------------              1.4/2.0 MB 4.1 MB/s eta 0:00:01\n",
      "     -------------------------------          1.6/2.0 MB 4.1 MB/s eta 0:00:01\n",
      "     ----------------------------------       1.7/2.0 MB 4.0 MB/s eta 0:00:01\n",
      "     ---------------------------------------  1.9/2.0 MB 4.3 MB/s eta 0:00:01\n",
      "     ---------------------------------------  1.9/2.0 MB 4.3 MB/s eta 0:00:01\n",
      "     ---------------------------------------  1.9/2.0 MB 4.3 MB/s eta 0:00:01\n",
      "     ---------------------------------------- 2.0/2.0 MB 3.3 MB/s eta 0:00:00\n",
      "Collecting kiwisolver>=1.0.1 (from matplotlib)\n",
      "  Downloading kiwisolver-1.4.4-cp311-cp311-win_amd64.whl (55 kB)\n",
      "                                              0.0/55.4 kB ? eta -:--:--\n",
      "     ---------------------------------------- 55.4/55.4 kB 1.5 MB/s eta 0:00:00\n",
      "Requirement already satisfied: numpy>=1.20 in c:\\users\\shri\\appdata\\local\\programs\\python\\python311\\lib\\site-packages (from matplotlib) (1.25.1)\n",
      "Requirement already satisfied: packaging>=20.0 in c:\\users\\shri\\appdata\\local\\programs\\python\\python311\\lib\\site-packages (from matplotlib) (23.1)\n",
      "Collecting pillow>=6.2.0 (from matplotlib)\n",
      "  Downloading Pillow-10.0.0-cp311-cp311-win_amd64.whl (2.5 MB)\n",
      "                                              0.0/2.5 MB ? eta -:--:--\n",
      "     -----                                    0.3/2.5 MB 6.8 MB/s eta 0:00:01\n",
      "     ---------                                0.6/2.5 MB 6.5 MB/s eta 0:00:01\n",
      "     -------------                            0.8/2.5 MB 6.0 MB/s eta 0:00:01\n",
      "     -------------------                      1.2/2.5 MB 6.4 MB/s eta 0:00:01\n",
      "     -----------------------                  1.5/2.5 MB 6.2 MB/s eta 0:00:01\n",
      "     ---------------------------              1.8/2.5 MB 6.2 MB/s eta 0:00:01\n",
      "     ---------------------------------        2.1/2.5 MB 6.3 MB/s eta 0:00:01\n",
      "     ------------------------------------     2.3/2.5 MB 6.1 MB/s eta 0:00:01\n",
      "     ------------------------------------     2.3/2.5 MB 6.1 MB/s eta 0:00:01\n",
      "     ---------------------------------------  2.5/2.5 MB 5.3 MB/s eta 0:00:01\n",
      "     ---------------------------------------- 2.5/2.5 MB 4.9 MB/s eta 0:00:00\n",
      "Collecting pyparsing<3.1,>=2.3.1 (from matplotlib)\n",
      "  Downloading pyparsing-3.0.9-py3-none-any.whl (98 kB)\n",
      "                                              0.0/98.3 kB ? eta -:--:--\n",
      "     ---------------------------------        81.9/98.3 kB 4.5 MB/s eta 0:00:01\n",
      "     -------------------------------------    92.2/98.3 kB 1.7 MB/s eta 0:00:01\n",
      "     -------------------------------------- 98.3/98.3 kB 937.2 kB/s eta 0:00:00\n",
      "Requirement already satisfied: python-dateutil>=2.7 in c:\\users\\shri\\appdata\\local\\programs\\python\\python311\\lib\\site-packages (from matplotlib) (2.8.2)\n",
      "Requirement already satisfied: six>=1.5 in c:\\users\\shri\\appdata\\local\\programs\\python\\python311\\lib\\site-packages (from python-dateutil>=2.7->matplotlib) (1.16.0)\n",
      "Installing collected packages: pyparsing, pillow, kiwisolver, fonttools, cycler, contourpy, matplotlib\n",
      "Successfully installed contourpy-1.1.0 cycler-0.11.0 fonttools-4.41.0 kiwisolver-1.4.4 matplotlib-3.7.2 pillow-10.0.0 pyparsing-3.0.9\n"
     ]
    },
    {
     "name": "stderr",
     "output_type": "stream",
     "text": [
      "\n",
      "[notice] A new release of pip is available: 23.1.2 -> 23.2\n",
      "[notice] To update, run: C:\\Users\\SHRI\\AppData\\Local\\Programs\\Python\\Python311\\python.exe -m pip install --upgrade pip\n"
     ]
    }
   ],
   "source": [
    "!pip install matplotlib"
   ]
  },
  {
   "cell_type": "code",
   "execution_count": 33,
   "id": "ed0ce7b5-8f7c-43bd-93aa-deb0567576aa",
   "metadata": {},
   "outputs": [],
   "source": [
    "import matplotlib.pyplot as plt"
   ]
  },
  {
   "cell_type": "code",
   "execution_count": 37,
   "id": "e30601f5-be6f-45a7-b3dc-ad467693e294",
   "metadata": {},
   "outputs": [
    {
     "ename": "TypeError",
     "evalue": "pie() got an unexpected keyword argument 'lables'",
     "output_type": "error",
     "traceback": [
      "\u001b[1;31m---------------------------------------------------------------------------\u001b[0m",
      "\u001b[1;31mTypeError\u001b[0m                                 Traceback (most recent call last)",
      "Cell \u001b[1;32mIn[37], line 1\u001b[0m\n\u001b[1;32m----> 1\u001b[0m \u001b[43mplt\u001b[49m\u001b[38;5;241;43m.\u001b[39;49m\u001b[43mpie\u001b[49m\u001b[43m(\u001b[49m\u001b[43mdf\u001b[49m\u001b[43m[\u001b[49m\u001b[38;5;124;43m'\u001b[39;49m\u001b[38;5;124;43mtarget\u001b[39;49m\u001b[38;5;124;43m'\u001b[39;49m\u001b[43m]\u001b[49m\u001b[38;5;241;43m.\u001b[39;49m\u001b[43mvalue_counts\u001b[49m\u001b[43m(\u001b[49m\u001b[43m)\u001b[49m\u001b[43m,\u001b[49m\u001b[43m \u001b[49m\u001b[43mlables\u001b[49m\u001b[38;5;241;43m=\u001b[39;49m\u001b[43m[\u001b[49m\u001b[38;5;124;43m'\u001b[39;49m\u001b[38;5;124;43mham\u001b[39;49m\u001b[38;5;124;43m'\u001b[39;49m\u001b[43m,\u001b[49m\u001b[38;5;124;43m'\u001b[39;49m\u001b[38;5;124;43mspam\u001b[39;49m\u001b[38;5;124;43m'\u001b[39;49m\u001b[43m]\u001b[49m\u001b[43m)\u001b[49m\n\u001b[0;32m      2\u001b[0m plt\u001b[38;5;241m.\u001b[39mshow()\n",
      "\u001b[1;31mTypeError\u001b[0m: pie() got an unexpected keyword argument 'lables'"
     ]
    }
   ],
   "source": [
    "plt.pie(df['target'].value_counts(), lables=['ham','spam'])\n",
    "plt.show()"
   ]
  },
  {
   "cell_type": "code",
   "execution_count": 38,
   "id": "099e6d32-00bb-4af4-a2d2-75a222ea9415",
   "metadata": {},
   "outputs": [
    {
     "data": {
      "image/png": "[encoded data removed]",
      "text/plain": [
       "<Figure size 640x480 with 1 Axes>"
      ]
     },
     "metadata": {},
     "output_type": "display_data"
    }
   ],
   "source": [
    "plt.pie(df['target'].value_counts(), labels=['ham','spam'],autopct=\"%0.2f\")\n",
    "plt.show()"
   ]
  },
  {
   "cell_type": "code",
   "execution_count": 39,
   "id": "ee51dc9a-1f0c-4012-abf2-aeb76669ca75",
   "metadata": {},
   "outputs": [],
   "source": [
    "# 88% not spam"
   ]
  },
  {
   "cell_type": "code",
   "execution_count": 40,
   "id": "fab2856e-f227-4241-a2bf-9cb8345467f4",
   "metadata": {},
   "outputs": [
    {
     "name": "stdout",
     "output_type": "stream",
     "text": [
      "Collecting nltk\n",
      "  Downloading nltk-3.8.1-py3-none-any.whl (1.5 MB)\n",
      "                                              0.0/1.5 MB ? eta -:--:--\n",
      "     --                                       0.1/1.5 MB 2.6 MB/s eta 0:00:01\n",
      "     ------                                   0.3/1.5 MB 3.2 MB/s eta 0:00:01\n",
      "     ------------                             0.5/1.5 MB 3.8 MB/s eta 0:00:01\n",
      "     -----------------                        0.7/1.5 MB 3.9 MB/s eta 0:00:01\n",
      "     -----------------------                  0.9/1.5 MB 4.3 MB/s eta 0:00:01\n",
      "     ---------------------------              1.0/1.5 MB 3.8 MB/s eta 0:00:01\n",
      "     ----------------------------------       1.3/1.5 MB 4.1 MB/s eta 0:00:01\n",
      "     ---------------------------------------  1.5/1.5 MB 4.3 MB/s eta 0:00:01\n",
      "     ---------------------------------------  1.5/1.5 MB 4.3 MB/s eta 0:00:01\n",
      "     ---------------------------------------- 1.5/1.5 MB 3.4 MB/s eta 0:00:00\n",
      "Collecting click (from nltk)\n",
      "  Downloading click-8.1.6-py3-none-any.whl (97 kB)\n",
      "                                              0.0/97.9 kB ? eta -:--:--\n",
      "     -------------------------------------    92.2/97.9 kB ? eta -:--:--\n",
      "     -------------------------------------    92.2/97.9 kB ? eta -:--:--\n",
      "     -------------------------------------- 97.9/97.9 kB 701.4 kB/s eta 0:00:00\n",
      "Requirement already satisfied: joblib in c:\\users\\shri\\appdata\\local\\programs\\python\\python311\\lib\\site-packages (from nltk) (1.3.1)\n",
      "Collecting regex>=2021.8.3 (from nltk)\n",
      "  Downloading regex-2023.6.3-cp311-cp311-win_amd64.whl (268 kB)\n",
      "                                              0.0/268.0 kB ? eta -:--:--\n",
      "     ---------------------------------------  266.2/268.0 kB ? eta -:--:--\n",
      "     -------------------------------------- 268.0/268.0 kB 4.2 MB/s eta 0:00:00\n",
      "Collecting tqdm (from nltk)\n",
      "  Downloading tqdm-4.65.0-py3-none-any.whl (77 kB)\n",
      "                                              0.0/77.1 kB ? eta -:--:--\n",
      "     -------------------------------------    71.7/77.1 kB ? eta -:--:--\n",
      "     ---------------------------------------- 77.1/77.1 kB 1.4 MB/s eta 0:00:00\n",
      "Requirement already satisfied: colorama in c:\\users\\shri\\appdata\\local\\programs\\python\\python311\\lib\\site-packages (from click->nltk) (0.4.6)\n",
      "Installing collected packages: tqdm, regex, click, nltk\n",
      "Successfully installed click-8.1.6 nltk-3.8.1 regex-2023.6.3 tqdm-4.65.0\n"
     ]
    },
    {
     "name": "stderr",
     "output_type": "stream",
     "text": [
      "\n",
      "[notice] A new release of pip is available: 23.1.2 -> 23.2\n",
      "[notice] To update, run: C:\\Users\\SHRI\\AppData\\Local\\Programs\\Python\\Python311\\python.exe -m pip install --upgrade pip\n"
     ]
    }
   ],
   "source": [
    "!pip install nltk"
   ]
  },
  {
   "cell_type": "code",
   "execution_count": 41,
   "id": "e20b6e59-b85e-423f-b036-8ea87012252b",
   "metadata": {},
   "outputs": [
    {
     "name": "stderr",
     "output_type": "stream",
     "text": [
      "[nltk_data] Downloading package punkt to\n",
      "[nltk_data]     C:\\Users\\SHRI\\AppData\\Roaming\\nltk_data...\n",
      "[nltk_data]   Unzipping tokenizers\\punkt.zip.\n"
     ]
    },
    {
     "data": {
      "text/plain": [
       "True"
      ]
     },
     "execution_count": 41,
     "metadata": {},
     "output_type": "execute_result"
    }
   ],
   "source": [
    "import nltk\n",
    "nltk.download('punkt')"
   ]
  },
  {
   "cell_type": "code",
   "execution_count": 42,
   "id": "2a7ef4eb-9492-43d1-8553-594812b30564",
   "metadata": {},
   "outputs": [
    {
     "data": {
      "text/plain": [
       "0       111\n",
       "1        29\n",
       "2       155\n",
       "3        49\n",
       "4        61\n",
       "       ... \n",
       "5567    161\n",
       "5568     37\n",
       "5569     57\n",
       "5570    125\n",
       "5571     26\n",
       "Name: text, Length: 5169, dtype: int64"
      ]
     },
     "execution_count": 42,
     "metadata": {},
     "output_type": "execute_result"
    }
   ],
   "source": [
    "df['text'].apply(len)"
   ]
  },
  {
   "cell_type": "code",
   "execution_count": 43,
   "id": "967b01c8-89ae-4391-b5e8-7c2556a865d1",
   "metadata": {},
   "outputs": [],
   "source": [
    "df['num_characters'] = df['text'].apply(len)"
   ]
  },
  {
   "cell_type": "code",
   "execution_count": 44,
   "id": "d9b316f5-a329-4b00-a7f7-372208af7794",
   "metadata": {},
   "outputs": [
    {
     "data": {
      "text/html": [
       "<div>\n",
       "<style scoped>\n",
       "    .dataframe tbody tr th:only-of-type {\n",
       "        vertical-align: middle;\n",
       "    }\n",
       "\n",
       "    .dataframe tbody tr th {\n",
       "        vertical-align: top;\n",
       "    }\n",
       "\n",
       "    .dataframe thead th {\n",
       "        text-align: right;\n",
       "    }\n",
       "</style>\n",
       "<table border=\"1\" class=\"dataframe\">\n",
       "  <thead>\n",
       "    <tr style=\"text-align: right;\">\n",
       "      <th></th>\n",
       "      <th>target</th>\n",
       "      <th>text</th>\n",
       "      <th>num_characters</th>\n",
       "    </tr>\n",
       "  </thead>\n",
       "  <tbody>\n",
       "    <tr>\n",
       "      <th>0</th>\n",
       "      <td>0</td>\n",
       "      <td>Go until jurong point, crazy.. Available only ...</td>\n",
       "      <td>111</td>\n",
       "    </tr>\n",
       "    <tr>\n",
       "      <th>1</th>\n",
       "      <td>0</td>\n",
       "      <td>Ok lar... Joking wif u oni...</td>\n",
       "      <td>29</td>\n",
       "    </tr>\n",
       "    <tr>\n",
       "      <th>2</th>\n",
       "      <td>1</td>\n",
       "      <td>Free entry in 2 a wkly comp to win FA Cup fina...</td>\n",
       "      <td>155</td>\n",
       "    </tr>\n",
       "    <tr>\n",
       "      <th>3</th>\n",
       "      <td>0</td>\n",
       "      <td>U dun say so early hor... U c already then say...</td>\n",
       "      <td>49</td>\n",
       "    </tr>\n",
       "    <tr>\n",
       "      <th>4</th>\n",
       "      <td>0</td>\n",
       "      <td>Nah I don't think he goes to usf, he lives aro...</td>\n",
       "      <td>61</td>\n",
       "    </tr>\n",
       "  </tbody>\n",
       "</table>\n",
       "</div>"
      ],
      "text/plain": [
       "   target                                               text  num_characters\n",
       "0       0  Go until jurong point, crazy.. Available only ...             111\n",
       "1       0                      Ok lar... Joking wif u oni...              29\n",
       "2       1  Free entry in 2 a wkly comp to win FA Cup fina...             155\n",
       "3       0  U dun say so early hor... U c already then say...              49\n",
       "4       0  Nah I don't think he goes to usf, he lives aro...              61"
      ]
     },
     "execution_count": 44,
     "metadata": {},
     "output_type": "execute_result"
    }
   ],
   "source": [
    "df.head()\n"
   ]
  },
  {
   "cell_type": "code",
   "execution_count": 45,
   "id": "325a4384-fa5b-4194-bccf-7dd5c7cccc5d",
   "metadata": {},
   "outputs": [],
   "source": [
    "# list of each text w of words\n",
    "df['num_words'] = df['text'].apply(lambda x:len(nltk.word_tokenize(x)))"
   ]
  },
  {
   "cell_type": "code",
   "execution_count": 46,
   "id": "e094613f-f953-4411-8eaf-c8b826d1b52b",
   "metadata": {},
   "outputs": [
    {
     "data": {
      "text/html": [
       "<div>\n",
       "<style scoped>\n",
       "    .dataframe tbody tr th:only-of-type {\n",
       "        vertical-align: middle;\n",
       "    }\n",
       "\n",
       "    .dataframe tbody tr th {\n",
       "        vertical-align: top;\n",
       "    }\n",
       "\n",
       "    .dataframe thead th {\n",
       "        text-align: right;\n",
       "    }\n",
       "</style>\n",
       "<table border=\"1\" class=\"dataframe\">\n",
       "  <thead>\n",
       "    <tr style=\"text-align: right;\">\n",
       "      <th></th>\n",
       "      <th>target</th>\n",
       "      <th>text</th>\n",
       "      <th>num_characters</th>\n",
       "      <th>num_words</th>\n",
       "    </tr>\n",
       "  </thead>\n",
       "  <tbody>\n",
       "    <tr>\n",
       "      <th>0</th>\n",
       "      <td>0</td>\n",
       "      <td>Go until jurong point, crazy.. Available only ...</td>\n",
       "      <td>111</td>\n",
       "      <td>24</td>\n",
       "    </tr>\n",
       "    <tr>\n",
       "      <th>1</th>\n",
       "      <td>0</td>\n",
       "      <td>Ok lar... Joking wif u oni...</td>\n",
       "      <td>29</td>\n",
       "      <td>8</td>\n",
       "    </tr>\n",
       "    <tr>\n",
       "      <th>2</th>\n",
       "      <td>1</td>\n",
       "      <td>Free entry in 2 a wkly comp to win FA Cup fina...</td>\n",
       "      <td>155</td>\n",
       "      <td>37</td>\n",
       "    </tr>\n",
       "    <tr>\n",
       "      <th>3</th>\n",
       "      <td>0</td>\n",
       "      <td>U dun say so early hor... U c already then say...</td>\n",
       "      <td>49</td>\n",
       "      <td>13</td>\n",
       "    </tr>\n",
       "    <tr>\n",
       "      <th>4</th>\n",
       "      <td>0</td>\n",
       "      <td>Nah I don't think he goes to usf, he lives aro...</td>\n",
       "      <td>61</td>\n",
       "      <td>15</td>\n",
       "    </tr>\n",
       "  </tbody>\n",
       "</table>\n",
       "</div>"
      ],
      "text/plain": [
       "   target                                               text  num_characters  \\\n",
       "0       0  Go until jurong point, crazy.. Available only ...             111   \n",
       "1       0                      Ok lar... Joking wif u oni...              29   \n",
       "2       1  Free entry in 2 a wkly comp to win FA Cup fina...             155   \n",
       "3       0  U dun say so early hor... U c already then say...              49   \n",
       "4       0  Nah I don't think he goes to usf, he lives aro...              61   \n",
       "\n",
       "   num_words  \n",
       "0         24  \n",
       "1          8  \n",
       "2         37  \n",
       "3         13  \n",
       "4         15  "
      ]
     },
     "execution_count": 46,
     "metadata": {},
     "output_type": "execute_result"
    }
   ],
   "source": [
    "df.head()"
   ]
  },
  {
   "cell_type": "code",
   "execution_count": 47,
   "id": "c8f03f6d-76ef-4379-8a35-4e0d906a55e8",
   "metadata": {},
   "outputs": [],
   "source": [
    "#sentences in each\n",
    "df['num_sentences'] = df['text'].apply(lambda x:len(nltk.sent_tokenize(x)))"
   ]
  },
  {
   "cell_type": "code",
   "execution_count": 48,
   "id": "3ae3637d-9402-41d0-8b2e-24d178bbaaf2",
   "metadata": {},
   "outputs": [
    {
     "data": {
      "text/html": [
       "<div>\n",
       "<style scoped>\n",
       "    .dataframe tbody tr th:only-of-type {\n",
       "        vertical-align: middle;\n",
       "    }\n",
       "\n",
       "    .dataframe tbody tr th {\n",
       "        vertical-align: top;\n",
       "    }\n",
       "\n",
       "    .dataframe thead th {\n",
       "        text-align: right;\n",
       "    }\n",
       "</style>\n",
       "<table border=\"1\" class=\"dataframe\">\n",
       "  <thead>\n",
       "    <tr style=\"text-align: right;\">\n",
       "      <th></th>\n",
       "      <th>target</th>\n",
       "      <th>text</th>\n",
       "      <th>num_characters</th>\n",
       "      <th>num_words</th>\n",
       "      <th>num_sentences</th>\n",
       "    </tr>\n",
       "  </thead>\n",
       "  <tbody>\n",
       "    <tr>\n",
       "      <th>0</th>\n",
       "      <td>0</td>\n",
       "      <td>Go until jurong point, crazy.. Available only ...</td>\n",
       "      <td>111</td>\n",
       "      <td>24</td>\n",
       "      <td>2</td>\n",
       "    </tr>\n",
       "    <tr>\n",
       "      <th>1</th>\n",
       "      <td>0</td>\n",
       "      <td>Ok lar... Joking wif u oni...</td>\n",
       "      <td>29</td>\n",
       "      <td>8</td>\n",
       "      <td>2</td>\n",
       "    </tr>\n",
       "    <tr>\n",
       "      <th>2</th>\n",
       "      <td>1</td>\n",
       "      <td>Free entry in 2 a wkly comp to win FA Cup fina...</td>\n",
       "      <td>155</td>\n",
       "      <td>37</td>\n",
       "      <td>2</td>\n",
       "    </tr>\n",
       "    <tr>\n",
       "      <th>3</th>\n",
       "      <td>0</td>\n",
       "      <td>U dun say so early hor... U c already then say...</td>\n",
       "      <td>49</td>\n",
       "      <td>13</td>\n",
       "      <td>1</td>\n",
       "    </tr>\n",
       "    <tr>\n",
       "      <th>4</th>\n",
       "      <td>0</td>\n",
       "      <td>Nah I don't think he goes to usf, he lives aro...</td>\n",
       "      <td>61</td>\n",
       "      <td>15</td>\n",
       "      <td>1</td>\n",
       "    </tr>\n",
       "  </tbody>\n",
       "</table>\n",
       "</div>"
      ],
      "text/plain": [
       "   target                                               text  num_characters  \\\n",
       "0       0  Go until jurong point, crazy.. Available only ...             111   \n",
       "1       0                      Ok lar... Joking wif u oni...              29   \n",
       "2       1  Free entry in 2 a wkly comp to win FA Cup fina...             155   \n",
       "3       0  U dun say so early hor... U c already then say...              49   \n",
       "4       0  Nah I don't think he goes to usf, he lives aro...              61   \n",
       "\n",
       "   num_words  num_sentences  \n",
       "0         24              2  \n",
       "1          8              2  \n",
       "2         37              2  \n",
       "3         13              1  \n",
       "4         15              1  "
      ]
     },
     "execution_count": 48,
     "metadata": {},
     "output_type": "execute_result"
    }
   ],
   "source": [
    "df.head()"
   ]
  },
  {
   "cell_type": "code",
   "execution_count": 49,
   "id": "257b1d4a-006a-41b0-b637-f1313264b55d",
   "metadata": {},
   "outputs": [
    {
     "data": {
      "text/html": [
       "<div>\n",
       "<style scoped>\n",
       "    .dataframe tbody tr th:only-of-type {\n",
       "        vertical-align: middle;\n",
       "    }\n",
       "\n",
       "    .dataframe tbody tr th {\n",
       "        vertical-align: top;\n",
       "    }\n",
       "\n",
       "    .dataframe thead th {\n",
       "        text-align: right;\n",
       "    }\n",
       "</style>\n",
       "<table border=\"1\" class=\"dataframe\">\n",
       "  <thead>\n",
       "    <tr style=\"text-align: right;\">\n",
       "      <th></th>\n",
       "      <th>num_characters</th>\n",
       "      <th>num_words</th>\n",
       "      <th>num_sentences</th>\n",
       "    </tr>\n",
       "  </thead>\n",
       "  <tbody>\n",
       "    <tr>\n",
       "      <th>count</th>\n",
       "      <td>5169.000000</td>\n",
       "      <td>5169.000000</td>\n",
       "      <td>5169.000000</td>\n",
       "    </tr>\n",
       "    <tr>\n",
       "      <th>mean</th>\n",
       "      <td>78.978332</td>\n",
       "      <td>18.455794</td>\n",
       "      <td>1.965564</td>\n",
       "    </tr>\n",
       "    <tr>\n",
       "      <th>std</th>\n",
       "      <td>58.236795</td>\n",
       "      <td>13.324758</td>\n",
       "      <td>1.448541</td>\n",
       "    </tr>\n",
       "    <tr>\n",
       "      <th>min</th>\n",
       "      <td>2.000000</td>\n",
       "      <td>1.000000</td>\n",
       "      <td>1.000000</td>\n",
       "    </tr>\n",
       "    <tr>\n",
       "      <th>25%</th>\n",
       "      <td>36.000000</td>\n",
       "      <td>9.000000</td>\n",
       "      <td>1.000000</td>\n",
       "    </tr>\n",
       "    <tr>\n",
       "      <th>50%</th>\n",
       "      <td>60.000000</td>\n",
       "      <td>15.000000</td>\n",
       "      <td>1.000000</td>\n",
       "    </tr>\n",
       "    <tr>\n",
       "      <th>75%</th>\n",
       "      <td>117.000000</td>\n",
       "      <td>26.000000</td>\n",
       "      <td>2.000000</td>\n",
       "    </tr>\n",
       "    <tr>\n",
       "      <th>max</th>\n",
       "      <td>910.000000</td>\n",
       "      <td>220.000000</td>\n",
       "      <td>38.000000</td>\n",
       "    </tr>\n",
       "  </tbody>\n",
       "</table>\n",
       "</div>"
      ],
      "text/plain": [
       "       num_characters    num_words  num_sentences\n",
       "count     5169.000000  5169.000000    5169.000000\n",
       "mean        78.978332    18.455794       1.965564\n",
       "std         58.236795    13.324758       1.448541\n",
       "min          2.000000     1.000000       1.000000\n",
       "25%         36.000000     9.000000       1.000000\n",
       "50%         60.000000    15.000000       1.000000\n",
       "75%        117.000000    26.000000       2.000000\n",
       "max        910.000000   220.000000      38.000000"
      ]
     },
     "execution_count": 49,
     "metadata": {},
     "output_type": "execute_result"
    }
   ],
   "source": [
    "df[['num_characters','num_words','num_sentences']].describe()"
   ]
  },
  {
   "cell_type": "code",
   "execution_count": 50,
   "id": "4454fc3c-7a21-4cc5-a96c-23d263535f4d",
   "metadata": {},
   "outputs": [],
   "source": [
    "#overall analysis of text"
   ]
  },
  {
   "cell_type": "code",
   "execution_count": 52,
   "id": "f2432907-4201-423c-aee1-459131c11892",
   "metadata": {},
   "outputs": [
    {
     "data": {
      "text/html": [
       "<div>\n",
       "<style scoped>\n",
       "    .dataframe tbody tr th:only-of-type {\n",
       "        vertical-align: middle;\n",
       "    }\n",
       "\n",
       "    .dataframe tbody tr th {\n",
       "        vertical-align: top;\n",
       "    }\n",
       "\n",
       "    .dataframe thead th {\n",
       "        text-align: right;\n",
       "    }\n",
       "</style>\n",
       "<table border=\"1\" class=\"dataframe\">\n",
       "  <thead>\n",
       "    <tr style=\"text-align: right;\">\n",
       "      <th></th>\n",
       "      <th>num_characters</th>\n",
       "      <th>num_words</th>\n",
       "      <th>num_sentences</th>\n",
       "    </tr>\n",
       "  </thead>\n",
       "  <tbody>\n",
       "    <tr>\n",
       "      <th>count</th>\n",
       "      <td>4516.000000</td>\n",
       "      <td>4516.000000</td>\n",
       "      <td>4516.000000</td>\n",
       "    </tr>\n",
       "    <tr>\n",
       "      <th>mean</th>\n",
       "      <td>70.459699</td>\n",
       "      <td>17.123782</td>\n",
       "      <td>1.820195</td>\n",
       "    </tr>\n",
       "    <tr>\n",
       "      <th>std</th>\n",
       "      <td>56.358868</td>\n",
       "      <td>13.493970</td>\n",
       "      <td>1.383657</td>\n",
       "    </tr>\n",
       "    <tr>\n",
       "      <th>min</th>\n",
       "      <td>2.000000</td>\n",
       "      <td>1.000000</td>\n",
       "      <td>1.000000</td>\n",
       "    </tr>\n",
       "    <tr>\n",
       "      <th>25%</th>\n",
       "      <td>34.000000</td>\n",
       "      <td>8.000000</td>\n",
       "      <td>1.000000</td>\n",
       "    </tr>\n",
       "    <tr>\n",
       "      <th>50%</th>\n",
       "      <td>52.000000</td>\n",
       "      <td>13.000000</td>\n",
       "      <td>1.000000</td>\n",
       "    </tr>\n",
       "    <tr>\n",
       "      <th>75%</th>\n",
       "      <td>90.000000</td>\n",
       "      <td>22.000000</td>\n",
       "      <td>2.000000</td>\n",
       "    </tr>\n",
       "    <tr>\n",
       "      <th>max</th>\n",
       "      <td>910.000000</td>\n",
       "      <td>220.000000</td>\n",
       "      <td>38.000000</td>\n",
       "    </tr>\n",
       "  </tbody>\n",
       "</table>\n",
       "</div>"
      ],
      "text/plain": [
       "       num_characters    num_words  num_sentences\n",
       "count     4516.000000  4516.000000    4516.000000\n",
       "mean        70.459699    17.123782       1.820195\n",
       "std         56.358868    13.493970       1.383657\n",
       "min          2.000000     1.000000       1.000000\n",
       "25%         34.000000     8.000000       1.000000\n",
       "50%         52.000000    13.000000       1.000000\n",
       "75%         90.000000    22.000000       2.000000\n",
       "max        910.000000   220.000000      38.000000"
      ]
     },
     "execution_count": 52,
     "metadata": {},
     "output_type": "execute_result"
    }
   ],
   "source": [
    "#regular messages desc\n",
    "df[df['target']==0][['num_characters','num_words','num_sentences']].describe()"
   ]
  },
  {
   "cell_type": "code",
   "execution_count": 54,
   "id": "c4d661fa-95dc-4d0c-9e23-dc3f69dddf5f",
   "metadata": {},
   "outputs": [
    {
     "data": {
      "text/html": [
       "<div>\n",
       "<style scoped>\n",
       "    .dataframe tbody tr th:only-of-type {\n",
       "        vertical-align: middle;\n",
       "    }\n",
       "\n",
       "    .dataframe tbody tr th {\n",
       "        vertical-align: top;\n",
       "    }\n",
       "\n",
       "    .dataframe thead th {\n",
       "        text-align: right;\n",
       "    }\n",
       "</style>\n",
       "<table border=\"1\" class=\"dataframe\">\n",
       "  <thead>\n",
       "    <tr style=\"text-align: right;\">\n",
       "      <th></th>\n",
       "      <th>num_characters</th>\n",
       "      <th>num_words</th>\n",
       "      <th>num_sentences</th>\n",
       "    </tr>\n",
       "  </thead>\n",
       "  <tbody>\n",
       "    <tr>\n",
       "      <th>count</th>\n",
       "      <td>653.000000</td>\n",
       "      <td>653.000000</td>\n",
       "      <td>653.000000</td>\n",
       "    </tr>\n",
       "    <tr>\n",
       "      <th>mean</th>\n",
       "      <td>137.891271</td>\n",
       "      <td>27.667688</td>\n",
       "      <td>2.970904</td>\n",
       "    </tr>\n",
       "    <tr>\n",
       "      <th>std</th>\n",
       "      <td>30.137753</td>\n",
       "      <td>7.008418</td>\n",
       "      <td>1.488425</td>\n",
       "    </tr>\n",
       "    <tr>\n",
       "      <th>min</th>\n",
       "      <td>13.000000</td>\n",
       "      <td>2.000000</td>\n",
       "      <td>1.000000</td>\n",
       "    </tr>\n",
       "    <tr>\n",
       "      <th>25%</th>\n",
       "      <td>132.000000</td>\n",
       "      <td>25.000000</td>\n",
       "      <td>2.000000</td>\n",
       "    </tr>\n",
       "    <tr>\n",
       "      <th>50%</th>\n",
       "      <td>149.000000</td>\n",
       "      <td>29.000000</td>\n",
       "      <td>3.000000</td>\n",
       "    </tr>\n",
       "    <tr>\n",
       "      <th>75%</th>\n",
       "      <td>157.000000</td>\n",
       "      <td>32.000000</td>\n",
       "      <td>4.000000</td>\n",
       "    </tr>\n",
       "    <tr>\n",
       "      <th>max</th>\n",
       "      <td>224.000000</td>\n",
       "      <td>46.000000</td>\n",
       "      <td>9.000000</td>\n",
       "    </tr>\n",
       "  </tbody>\n",
       "</table>\n",
       "</div>"
      ],
      "text/plain": [
       "       num_characters   num_words  num_sentences\n",
       "count      653.000000  653.000000     653.000000\n",
       "mean       137.891271   27.667688       2.970904\n",
       "std         30.137753    7.008418       1.488425\n",
       "min         13.000000    2.000000       1.000000\n",
       "25%        132.000000   25.000000       2.000000\n",
       "50%        149.000000   29.000000       3.000000\n",
       "75%        157.000000   32.000000       4.000000\n",
       "max        224.000000   46.000000       9.000000"
      ]
     },
     "execution_count": 54,
     "metadata": {},
     "output_type": "execute_result"
    }
   ],
   "source": [
    "#spam msg desc\n",
    "df[df['target']==1][['num_characters','num_words','num_sentences']].describe()"
   ]
  },
  {
   "cell_type": "code",
   "execution_count": 55,
   "id": "283478dc-529c-4acf-84d1-768fe164c984",
   "metadata": {},
   "outputs": [
    {
     "name": "stdout",
     "output_type": "stream",
     "text": [
      "Collecting seaborn\n",
      "  Downloading seaborn-0.12.2-py3-none-any.whl (293 kB)\n",
      "                                              0.0/293.3 kB ? eta -:--:--\n",
      "     ----------                              81.9/293.3 kB 2.2 MB/s eta 0:00:01\n",
      "     --------------------------             204.8/293.3 kB 2.5 MB/s eta 0:00:01\n",
      "     -------------------------------------  286.7/293.3 kB 2.9 MB/s eta 0:00:01\n",
      "     -------------------------------------- 293.3/293.3 kB 1.6 MB/s eta 0:00:00\n",
      "Requirement already satisfied: numpy!=1.24.0,>=1.17 in c:\\users\\shri\\appdata\\local\\programs\\python\\python311\\lib\\site-packages (from seaborn) (1.25.1)\n",
      "Requirement already satisfied: pandas>=0.25 in c:\\users\\shri\\appdata\\local\\programs\\python\\python311\\lib\\site-packages (from seaborn) (2.0.3)\n",
      "Requirement already satisfied: matplotlib!=3.6.1,>=3.1 in c:\\users\\shri\\appdata\\local\\programs\\python\\python311\\lib\\site-packages (from seaborn) (3.7.2)\n",
      "Requirement already satisfied: contourpy>=1.0.1 in c:\\users\\shri\\appdata\\local\\programs\\python\\python311\\lib\\site-packages (from matplotlib!=3.6.1,>=3.1->seaborn) (1.1.0)\n",
      "Requirement already satisfied: cycler>=0.10 in c:\\users\\shri\\appdata\\local\\programs\\python\\python311\\lib\\site-packages (from matplotlib!=3.6.1,>=3.1->seaborn) (0.11.0)\n",
      "Requirement already satisfied: fonttools>=4.22.0 in c:\\users\\shri\\appdata\\local\\programs\\python\\python311\\lib\\site-packages (from matplotlib!=3.6.1,>=3.1->seaborn) (4.41.0)\n",
      "Requirement already satisfied: kiwisolver>=1.0.1 in c:\\users\\shri\\appdata\\local\\programs\\python\\python311\\lib\\site-packages (from matplotlib!=3.6.1,>=3.1->seaborn) (1.4.4)\n",
      "Requirement already satisfied: packaging>=20.0 in c:\\users\\shri\\appdata\\local\\programs\\python\\python311\\lib\\site-packages (from matplotlib!=3.6.1,>=3.1->seaborn) (23.1)\n",
      "Requirement already satisfied: pillow>=6.2.0 in c:\\users\\shri\\appdata\\local\\programs\\python\\python311\\lib\\site-packages (from matplotlib!=3.6.1,>=3.1->seaborn) (10.0.0)\n",
      "Requirement already satisfied: pyparsing<3.1,>=2.3.1 in c:\\users\\shri\\appdata\\local\\programs\\python\\python311\\lib\\site-packages (from matplotlib!=3.6.1,>=3.1->seaborn) (3.0.9)\n",
      "Requirement already satisfied: python-dateutil>=2.7 in c:\\users\\shri\\appdata\\local\\programs\\python\\python311\\lib\\site-packages (from matplotlib!=3.6.1,>=3.1->seaborn) (2.8.2)\n",
      "Requirement already satisfied: pytz>=2020.1 in c:\\users\\shri\\appdata\\local\\programs\\python\\python311\\lib\\site-packages (from pandas>=0.25->seaborn) (2023.3)\n",
      "Requirement already satisfied: tzdata>=2022.1 in c:\\users\\shri\\appdata\\local\\programs\\python\\python311\\lib\\site-packages (from pandas>=0.25->seaborn) (2023.3)\n",
      "Requirement already satisfied: six>=1.5 in c:\\users\\shri\\appdata\\local\\programs\\python\\python311\\lib\\site-packages (from python-dateutil>=2.7->matplotlib!=3.6.1,>=3.1->seaborn) (1.16.0)\n",
      "Installing collected packages: seaborn\n",
      "Successfully installed seaborn-0.12.2\n"
     ]
    },
    {
     "name": "stderr",
     "output_type": "stream",
     "text": [
      "\n",
      "[notice] A new release of pip is available: 23.1.2 -> 23.2\n",
      "[notice] To update, run: C:\\Users\\SHRI\\AppData\\Local\\Programs\\Python\\Python311\\python.exe -m pip install --upgrade pip\n"
     ]
    }
   ],
   "source": [
    "!pip install seaborn"
   ]
  },
  {
   "cell_type": "code",
   "execution_count": 56,
   "id": "b7a2c51e-f35c-41e7-bcf5-6ae4671b8d9c",
   "metadata": {},
   "outputs": [],
   "source": [
    "import seaborn as sns"
   ]
  },
  {
   "cell_type": "code",
   "execution_count": 57,
   "id": "5c83e04f-73d1-44d8-afbf-d427fcb0419e",
   "metadata": {},
   "outputs": [
    {
     "data": {
      "text/plain": [
       "<Axes: xlabel='num_characters', ylabel='Count'>"
      ]
     },
     "execution_count": 57,
     "metadata": {},
     "output_type": "execute_result"
    },
    {
     "data": {
      "image/png": "[encoded data removed]",
      "text/plain": [
       "<Figure size 640x480 with 1 Axes>"
      ]
     },
     "metadata": {},
     "output_type": "display_data"
    }
   ],
   "source": [
    "sns.histplot(df[df['target'] == 0]['num_characters'])\n",
    "sns.histplot(df[df['target'] == 1]['num_characters'],color='red')"
   ]
  },
  {
   "cell_type": "code",
   "execution_count": 58,
   "id": "b9e83f2b-9739-4acc-ad92-b9830922444d",
   "metadata": {
    "scrolled": true
   },
   "outputs": [
    {
     "name": "stderr",
     "output_type": "stream",
     "text": [
      "C:\\Users\\SHRI\\AppData\\Local\\Programs\\Python\\Python311\\Lib\\site-packages\\seaborn\\axisgrid.py:118: UserWarning: The figure layout has changed to tight\n",
      "  self._figure.tight_layout(*args, **kwargs)\n"
     ]
    },
    {
     "data": {
      "text/plain": [
       "<seaborn.axisgrid.PairGrid at 0x20d74253010>"
      ]
     },
     "execution_count": 58,
     "metadata": {},
     "output_type": "execute_result"
    },
    {
     "data": {
      "image/png": "[encoded data removed]",
      "text/plain": [
       "<Figure size 808.875x750 with 12 Axes>"
      ]
     },
     "metadata": {},
     "output_type": "display_data"
    }
   ],
   "source": [
    "sns.pairplot(df,hue='target')"
   ]
  },
  {
   "cell_type": "code",
   "execution_count": 61,
   "id": "60ea7f4b-a112-4f12-bf12-1471714217b9",
   "metadata": {
    "scrolled": true
   },
   "outputs": [
    {
     "ename": "ValueError",
     "evalue": "could not convert string to float: 'Go until jurong point, crazy.. Available only in bugis n great world la e buffet... Cine there got amore wat...'",
     "output_type": "error",
     "traceback": [
      "\u001b[1;31m---------------------------------------------------------------------------\u001b[0m",
      "\u001b[1;31mValueError\u001b[0m                                Traceback (most recent call last)",
      "Cell \u001b[1;32mIn[61], line 1\u001b[0m\n\u001b[1;32m----> 1\u001b[0m \u001b[43mdf\u001b[49m\u001b[38;5;241;43m.\u001b[39;49m\u001b[43mcorr\u001b[49m\u001b[43m(\u001b[49m\u001b[43m)\u001b[49m\n",
      "File \u001b[1;32m~\\AppData\\Local\\Programs\\Python\\Python311\\Lib\\site-packages\\pandas\\core\\frame.py:10054\u001b[0m, in \u001b[0;36mDataFrame.corr\u001b[1;34m(self, method, min_periods, numeric_only)\u001b[0m\n\u001b[0;32m  10052\u001b[0m cols \u001b[38;5;241m=\u001b[39m data\u001b[38;5;241m.\u001b[39mcolumns\n\u001b[0;32m  10053\u001b[0m idx \u001b[38;5;241m=\u001b[39m cols\u001b[38;5;241m.\u001b[39mcopy()\n\u001b[1;32m> 10054\u001b[0m mat \u001b[38;5;241m=\u001b[39m \u001b[43mdata\u001b[49m\u001b[38;5;241;43m.\u001b[39;49m\u001b[43mto_numpy\u001b[49m\u001b[43m(\u001b[49m\u001b[43mdtype\u001b[49m\u001b[38;5;241;43m=\u001b[39;49m\u001b[38;5;28;43mfloat\u001b[39;49m\u001b[43m,\u001b[49m\u001b[43m \u001b[49m\u001b[43mna_value\u001b[49m\u001b[38;5;241;43m=\u001b[39;49m\u001b[43mnp\u001b[49m\u001b[38;5;241;43m.\u001b[39;49m\u001b[43mnan\u001b[49m\u001b[43m,\u001b[49m\u001b[43m \u001b[49m\u001b[43mcopy\u001b[49m\u001b[38;5;241;43m=\u001b[39;49m\u001b[38;5;28;43;01mFalse\u001b[39;49;00m\u001b[43m)\u001b[49m\n\u001b[0;32m  10056\u001b[0m \u001b[38;5;28;01mif\u001b[39;00m method \u001b[38;5;241m==\u001b[39m \u001b[38;5;124m\"\u001b[39m\u001b[38;5;124mpearson\u001b[39m\u001b[38;5;124m\"\u001b[39m:\n\u001b[0;32m  10057\u001b[0m     correl \u001b[38;5;241m=\u001b[39m libalgos\u001b[38;5;241m.\u001b[39mnancorr(mat, minp\u001b[38;5;241m=\u001b[39mmin_periods)\n",
      "File \u001b[1;32m~\\AppData\\Local\\Programs\\Python\\Python311\\Lib\\site-packages\\pandas\\core\\frame.py:1838\u001b[0m, in \u001b[0;36mDataFrame.to_numpy\u001b[1;34m(self, dtype, copy, na_value)\u001b[0m\n\u001b[0;32m   1836\u001b[0m \u001b[38;5;28;01mif\u001b[39;00m dtype \u001b[38;5;129;01mis\u001b[39;00m \u001b[38;5;129;01mnot\u001b[39;00m \u001b[38;5;28;01mNone\u001b[39;00m:\n\u001b[0;32m   1837\u001b[0m     dtype \u001b[38;5;241m=\u001b[39m np\u001b[38;5;241m.\u001b[39mdtype(dtype)\n\u001b[1;32m-> 1838\u001b[0m result \u001b[38;5;241m=\u001b[39m \u001b[38;5;28;43mself\u001b[39;49m\u001b[38;5;241;43m.\u001b[39;49m\u001b[43m_mgr\u001b[49m\u001b[38;5;241;43m.\u001b[39;49m\u001b[43mas_array\u001b[49m\u001b[43m(\u001b[49m\u001b[43mdtype\u001b[49m\u001b[38;5;241;43m=\u001b[39;49m\u001b[43mdtype\u001b[49m\u001b[43m,\u001b[49m\u001b[43m \u001b[49m\u001b[43mcopy\u001b[49m\u001b[38;5;241;43m=\u001b[39;49m\u001b[43mcopy\u001b[49m\u001b[43m,\u001b[49m\u001b[43m \u001b[49m\u001b[43mna_value\u001b[49m\u001b[38;5;241;43m=\u001b[39;49m\u001b[43mna_value\u001b[49m\u001b[43m)\u001b[49m\n\u001b[0;32m   1839\u001b[0m \u001b[38;5;28;01mif\u001b[39;00m result\u001b[38;5;241m.\u001b[39mdtype \u001b[38;5;129;01mis\u001b[39;00m \u001b[38;5;129;01mnot\u001b[39;00m dtype:\n\u001b[0;32m   1840\u001b[0m     result \u001b[38;5;241m=\u001b[39m np\u001b[38;5;241m.\u001b[39marray(result, dtype\u001b[38;5;241m=\u001b[39mdtype, copy\u001b[38;5;241m=\u001b[39m\u001b[38;5;28;01mFalse\u001b[39;00m)\n",
      "File \u001b[1;32m~\\AppData\\Local\\Programs\\Python\\Python311\\Lib\\site-packages\\pandas\\core\\internals\\managers.py:1732\u001b[0m, in \u001b[0;36mBlockManager.as_array\u001b[1;34m(self, dtype, copy, na_value)\u001b[0m\n\u001b[0;32m   1730\u001b[0m         arr\u001b[38;5;241m.\u001b[39mflags\u001b[38;5;241m.\u001b[39mwriteable \u001b[38;5;241m=\u001b[39m \u001b[38;5;28;01mFalse\u001b[39;00m\n\u001b[0;32m   1731\u001b[0m \u001b[38;5;28;01melse\u001b[39;00m:\n\u001b[1;32m-> 1732\u001b[0m     arr \u001b[38;5;241m=\u001b[39m \u001b[38;5;28;43mself\u001b[39;49m\u001b[38;5;241;43m.\u001b[39;49m\u001b[43m_interleave\u001b[49m\u001b[43m(\u001b[49m\u001b[43mdtype\u001b[49m\u001b[38;5;241;43m=\u001b[39;49m\u001b[43mdtype\u001b[49m\u001b[43m,\u001b[49m\u001b[43m \u001b[49m\u001b[43mna_value\u001b[49m\u001b[38;5;241;43m=\u001b[39;49m\u001b[43mna_value\u001b[49m\u001b[43m)\u001b[49m\n\u001b[0;32m   1733\u001b[0m     \u001b[38;5;66;03m# The underlying data was copied within _interleave, so no need\u001b[39;00m\n\u001b[0;32m   1734\u001b[0m     \u001b[38;5;66;03m# to further copy if copy=True or setting na_value\u001b[39;00m\n\u001b[0;32m   1736\u001b[0m \u001b[38;5;28;01mif\u001b[39;00m na_value \u001b[38;5;129;01mis\u001b[39;00m \u001b[38;5;129;01mnot\u001b[39;00m lib\u001b[38;5;241m.\u001b[39mno_default:\n",
      "File \u001b[1;32m~\\AppData\\Local\\Programs\\Python\\Python311\\Lib\\site-packages\\pandas\\core\\internals\\managers.py:1794\u001b[0m, in \u001b[0;36mBlockManager._interleave\u001b[1;34m(self, dtype, na_value)\u001b[0m\n\u001b[0;32m   1792\u001b[0m     \u001b[38;5;28;01melse\u001b[39;00m:\n\u001b[0;32m   1793\u001b[0m         arr \u001b[38;5;241m=\u001b[39m blk\u001b[38;5;241m.\u001b[39mget_values(dtype)\n\u001b[1;32m-> 1794\u001b[0m     \u001b[43mresult\u001b[49m\u001b[43m[\u001b[49m\u001b[43mrl\u001b[49m\u001b[38;5;241;43m.\u001b[39;49m\u001b[43mindexer\u001b[49m\u001b[43m]\u001b[49m \u001b[38;5;241m=\u001b[39m arr\n\u001b[0;32m   1795\u001b[0m     itemmask[rl\u001b[38;5;241m.\u001b[39mindexer] \u001b[38;5;241m=\u001b[39m \u001b[38;5;241m1\u001b[39m\n\u001b[0;32m   1797\u001b[0m \u001b[38;5;28;01mif\u001b[39;00m \u001b[38;5;129;01mnot\u001b[39;00m itemmask\u001b[38;5;241m.\u001b[39mall():\n",
      "\u001b[1;31mValueError\u001b[0m: could not convert string to float: 'Go until jurong point, crazy.. Available only in bugis n great world la e buffet... Cine there got amore wat...'"
     ]
    }
   ],
   "source": [
    "df.corr()"
   ]
  },
  {
   "cell_type": "code",
   "execution_count": 63,
   "id": "b9407169-b347-41b4-ae97-6bf222a481a7",
   "metadata": {},
   "outputs": [
    {
     "name": "stdout",
     "output_type": "stream",
     "text": [
      "<class 'pandas.core.frame.DataFrame'>\n",
      "Index: 5169 entries, 0 to 5571\n",
      "Data columns (total 5 columns):\n",
      " #   Column          Non-Null Count  Dtype \n",
      "---  ------          --------------  ----- \n",
      " 0   target          5169 non-null   int32 \n",
      " 1   text            5169 non-null   object\n",
      " 2   num_characters  5169 non-null   int64 \n",
      " 3   num_words       5169 non-null   int64 \n",
      " 4   num_sentences   5169 non-null   int64 \n",
      "dtypes: int32(1), int64(3), object(1)\n",
      "memory usage: 222.1+ KB\n"
     ]
    }
   ],
   "source": [
    "df.info()"
   ]
  },
  {
   "cell_type": "code",
   "execution_count": 65,
   "id": "e3d02817-e4ba-4416-8ae8-d5490c2b790f",
   "metadata": {},
   "outputs": [
    {
     "data": {
      "text/html": [
       "<div>\n",
       "<style scoped>\n",
       "    .dataframe tbody tr th:only-of-type {\n",
       "        vertical-align: middle;\n",
       "    }\n",
       "\n",
       "    .dataframe tbody tr th {\n",
       "        vertical-align: top;\n",
       "    }\n",
       "\n",
       "    .dataframe thead th {\n",
       "        text-align: right;\n",
       "    }\n",
       "</style>\n",
       "<table border=\"1\" class=\"dataframe\">\n",
       "  <thead>\n",
       "    <tr style=\"text-align: right;\">\n",
       "      <th></th>\n",
       "      <th>target</th>\n",
       "      <th>num_characters</th>\n",
       "      <th>num_words</th>\n",
       "      <th>num_sentences</th>\n",
       "    </tr>\n",
       "  </thead>\n",
       "  <tbody>\n",
       "    <tr>\n",
       "      <th>target</th>\n",
       "      <td>1.000000</td>\n",
       "      <td>0.384711</td>\n",
       "      <td>0.262912</td>\n",
       "      <td>0.263939</td>\n",
       "    </tr>\n",
       "    <tr>\n",
       "      <th>num_characters</th>\n",
       "      <td>0.384711</td>\n",
       "      <td>1.000000</td>\n",
       "      <td>0.965763</td>\n",
       "      <td>0.624141</td>\n",
       "    </tr>\n",
       "    <tr>\n",
       "      <th>num_words</th>\n",
       "      <td>0.262912</td>\n",
       "      <td>0.965763</td>\n",
       "      <td>1.000000</td>\n",
       "      <td>0.679971</td>\n",
       "    </tr>\n",
       "    <tr>\n",
       "      <th>num_sentences</th>\n",
       "      <td>0.263939</td>\n",
       "      <td>0.624141</td>\n",
       "      <td>0.679971</td>\n",
       "      <td>1.000000</td>\n",
       "    </tr>\n",
       "  </tbody>\n",
       "</table>\n",
       "</div>"
      ],
      "text/plain": [
       "                  target  num_characters  num_words  num_sentences\n",
       "target          1.000000        0.384711   0.262912       0.263939\n",
       "num_characters  0.384711        1.000000   0.965763       0.624141\n",
       "num_words       0.262912        0.965763   1.000000       0.679971\n",
       "num_sentences   0.263939        0.624141   0.679971       1.000000"
      ]
     },
     "execution_count": 65,
     "metadata": {},
     "output_type": "execute_result"
    }
   ],
   "source": [
    "subset_df = df[['target', 'num_characters', 'num_words', 'num_sentences']]\n",
    "subset_df.corr()"
   ]
  },
  {
   "cell_type": "code",
   "execution_count": 66,
   "id": "d54e3f24-0d9f-4774-8f6f-715d196b3220",
   "metadata": {},
   "outputs": [
    {
     "data": {
      "text/plain": [
       "<Axes: >"
      ]
     },
     "execution_count": 66,
     "metadata": {},
     "output_type": "execute_result"
    },
    {
     "data": {
      "image/png": "[encoded data removed]",
      "text/plain": [
       "<Figure size 640x480 with 2 Axes>"
      ]
     },
     "metadata": {},
     "output_type": "display_data"
    }
   ],
   "source": [
    "sns.heatmap(subset_df.corr(),annot=True)"
   ]
  },
  {
   "cell_type": "code",
   "execution_count": 67,
   "id": "b42f6fbc-13c5-4809-b0f7-5769377d56c5",
   "metadata": {},
   "outputs": [],
   "source": [
    "def transform_text(text):\n",
    "    text = text.lower()\n",
    "    text = nltk.word_tokenize(text)\n",
    "    \n",
    "    y = []\n",
    "    for i in text:\n",
    "        if i.isalnum():\n",
    "            y.append(i)\n",
    "    \n",
    "    text = y[:]\n",
    "    y.clear()\n",
    "    \n",
    "    for i in text:\n",
    "        if i not in stopwords.words('english') and i not in string.punctuation:\n",
    "            y.append(i)\n",
    "            \n",
    "    text = y[:]\n",
    "    y.clear()\n",
    "    \n",
    "    for i in text:\n",
    "        y.append(ps.stem(i))\n",
    "    \n",
    "            \n",
    "    return \" \".join(y)"
   ]
  },
  {
   "cell_type": "code",
   "execution_count": 68,
   "id": "652bb1fc-babc-479d-8767-e65ef58e6f77",
   "metadata": {},
   "outputs": [
    {
     "ename": "NameError",
     "evalue": "name 'stopwords' is not defined",
     "output_type": "error",
     "traceback": [
      "\u001b[1;31m---------------------------------------------------------------------------\u001b[0m",
      "\u001b[1;31mNameError\u001b[0m                                 Traceback (most recent call last)",
      "Cell \u001b[1;32mIn[68], line 1\u001b[0m\n\u001b[1;32m----> 1\u001b[0m \u001b[43mtransform_text\u001b[49m\u001b[43m(\u001b[49m\u001b[38;5;124;43m\"\u001b[39;49m\u001b[38;5;124;43mhow did you do the exam?. i found the paper to be pretty easy.\u001b[39;49m\u001b[38;5;124;43m\"\u001b[39;49m\u001b[43m)\u001b[49m\n",
      "Cell \u001b[1;32mIn[67], line 14\u001b[0m, in \u001b[0;36mtransform_text\u001b[1;34m(text)\u001b[0m\n\u001b[0;32m     11\u001b[0m y\u001b[38;5;241m.\u001b[39mclear()\n\u001b[0;32m     13\u001b[0m \u001b[38;5;28;01mfor\u001b[39;00m i \u001b[38;5;129;01min\u001b[39;00m text:\n\u001b[1;32m---> 14\u001b[0m     \u001b[38;5;28;01mif\u001b[39;00m i \u001b[38;5;129;01mnot\u001b[39;00m \u001b[38;5;129;01min\u001b[39;00m \u001b[43mstopwords\u001b[49m\u001b[38;5;241m.\u001b[39mwords(\u001b[38;5;124m'\u001b[39m\u001b[38;5;124menglish\u001b[39m\u001b[38;5;124m'\u001b[39m) \u001b[38;5;129;01mand\u001b[39;00m i \u001b[38;5;129;01mnot\u001b[39;00m \u001b[38;5;129;01min\u001b[39;00m string\u001b[38;5;241m.\u001b[39mpunctuation:\n\u001b[0;32m     15\u001b[0m         y\u001b[38;5;241m.\u001b[39mappend(i)\n\u001b[0;32m     17\u001b[0m text \u001b[38;5;241m=\u001b[39m y[:]\n",
      "\u001b[1;31mNameError\u001b[0m: name 'stopwords' is not defined"
     ]
    }
   ],
   "source": [
    "transform_text(\"how did you do the exam?. i found the paper to be pretty easy.\")"
   ]
  },
  {
   "cell_type": "code",
   "execution_count": 69,
   "id": "c80efb1d-96cd-47f3-bb4f-bc42923fffeb",
   "metadata": {},
   "outputs": [],
   "source": [
    "from nltk.corpus import stopwords "
   ]
  },
  {
   "cell_type": "code",
   "execution_count": 71,
   "id": "a450df14-299a-4f66-a558-557f1a644224",
   "metadata": {},
   "outputs": [
    {
     "name": "stderr",
     "output_type": "stream",
     "text": [
      "[nltk_data] Downloading package stopwords to\n",
      "[nltk_data]     C:\\Users\\SHRI\\AppData\\Roaming\\nltk_data...\n",
      "[nltk_data]   Unzipping corpora\\stopwords.zip.\n"
     ]
    },
    {
     "data": {
      "text/plain": [
       "True"
      ]
     },
     "execution_count": 71,
     "metadata": {},
     "output_type": "execute_result"
    }
   ],
   "source": [
    "nltk.download('stopwords')"
   ]
  },
  {
   "cell_type": "code",
   "execution_count": 73,
   "id": "e09ab19a-b1e3-4775-961e-f31ea3de0f56",
   "metadata": {},
   "outputs": [],
   "source": [
    "import string"
   ]
  },
  {
   "cell_type": "code",
   "execution_count": 76,
   "id": "526663a7-b604-48d1-8036-006b73991b84",
   "metadata": {},
   "outputs": [],
   "source": [
    "from nltk.stem.porter import PorterStemmer\n"
   ]
  },
  {
   "cell_type": "code",
   "execution_count": 77,
   "id": "a6c73bad-a64e-4cbf-8c30-92a16cd7405e",
   "metadata": {},
   "outputs": [
    {
     "data": {
      "text/plain": [
       "'exam found paper pretti easi'"
      ]
     },
     "execution_count": 77,
     "metadata": {},
     "output_type": "execute_result"
    }
   ],
   "source": [
    "transform_text(\"how did you do the exam?. i found the paper to be pretty easy.\")"
   ]
  },
  {
   "cell_type": "code",
   "execution_count": 78,
   "id": "52bcfa48-87d0-48fc-a6b4-fb775b9244a1",
   "metadata": {},
   "outputs": [],
   "source": [
    "df['transformed_text'] = df['text'].apply(transform_text)"
   ]
  },
  {
   "cell_type": "code",
   "execution_count": 81,
   "id": "2abf4bd3-238c-40ac-accd-dc7f852ae49e",
   "metadata": {},
   "outputs": [
    {
     "data": {
      "text/html": [
       "<div>\n",
       "<style scoped>\n",
       "    .dataframe tbody tr th:only-of-type {\n",
       "        vertical-align: middle;\n",
       "    }\n",
       "\n",
       "    .dataframe tbody tr th {\n",
       "        vertical-align: top;\n",
       "    }\n",
       "\n",
       "    .dataframe thead th {\n",
       "        text-align: right;\n",
       "    }\n",
       "</style>\n",
       "<table border=\"1\" class=\"dataframe\">\n",
       "  <thead>\n",
       "    <tr style=\"text-align: right;\">\n",
       "      <th></th>\n",
       "      <th>target</th>\n",
       "      <th>text</th>\n",
       "      <th>num_characters</th>\n",
       "      <th>num_words</th>\n",
       "      <th>num_sentences</th>\n",
       "      <th>transformed_text</th>\n",
       "    </tr>\n",
       "  </thead>\n",
       "  <tbody>\n",
       "    <tr>\n",
       "      <th>0</th>\n",
       "      <td>0</td>\n",
       "      <td>Go until jurong point, crazy.. Available only ...</td>\n",
       "      <td>111</td>\n",
       "      <td>24</td>\n",
       "      <td>2</td>\n",
       "      <td>go jurong point crazi avail bugi n great world...</td>\n",
       "    </tr>\n",
       "    <tr>\n",
       "      <th>1</th>\n",
       "      <td>0</td>\n",
       "      <td>Ok lar... Joking wif u oni...</td>\n",
       "      <td>29</td>\n",
       "      <td>8</td>\n",
       "      <td>2</td>\n",
       "      <td>ok lar joke wif u oni</td>\n",
       "    </tr>\n",
       "    <tr>\n",
       "      <th>2</th>\n",
       "      <td>1</td>\n",
       "      <td>Free entry in 2 a wkly comp to win FA Cup fina...</td>\n",
       "      <td>155</td>\n",
       "      <td>37</td>\n",
       "      <td>2</td>\n",
       "      <td>free entri 2 wkli comp win fa cup final tkt 21...</td>\n",
       "    </tr>\n",
       "    <tr>\n",
       "      <th>3</th>\n",
       "      <td>0</td>\n",
       "      <td>U dun say so early hor... U c already then say...</td>\n",
       "      <td>49</td>\n",
       "      <td>13</td>\n",
       "      <td>1</td>\n",
       "      <td>u dun say earli hor u c alreadi say</td>\n",
       "    </tr>\n",
       "    <tr>\n",
       "      <th>4</th>\n",
       "      <td>0</td>\n",
       "      <td>Nah I don't think he goes to usf, he lives aro...</td>\n",
       "      <td>61</td>\n",
       "      <td>15</td>\n",
       "      <td>1</td>\n",
       "      <td>nah think goe usf live around though</td>\n",
       "    </tr>\n",
       "  </tbody>\n",
       "</table>\n",
       "</div>"
      ],
      "text/plain": [
       "   target                                               text  num_characters  \\\n",
       "0       0  Go until jurong point, crazy.. Available only ...             111   \n",
       "1       0                      Ok lar... Joking wif u oni...              29   \n",
       "2       1  Free entry in 2 a wkly comp to win FA Cup fina...             155   \n",
       "3       0  U dun say so early hor... U c already then say...              49   \n",
       "4       0  Nah I don't think he goes to usf, he lives aro...              61   \n",
       "\n",
       "   num_words  num_sentences                                   transformed_text  \n",
       "0         24              2  go jurong point crazi avail bugi n great world...  \n",
       "1          8              2                              ok lar joke wif u oni  \n",
       "2         37              2  free entri 2 wkli comp win fa cup final tkt 21...  \n",
       "3         13              1                u dun say earli hor u c alreadi say  \n",
       "4         15              1               nah think goe usf live around though  "
      ]
     },
     "execution_count": 81,
     "metadata": {},
     "output_type": "execute_result"
    }
   ],
   "source": [
    "df.head()"
   ]
  },
  {
   "cell_type": "code",
   "execution_count": 82,
   "id": "4ddbf09a-abc7-4eaa-a5ab-994bbe5b27c6",
   "metadata": {},
   "outputs": [
    {
     "ename": "ModuleNotFoundError",
     "evalue": "No module named 'wordcloud'",
     "output_type": "error",
     "traceback": [
      "\u001b[1;31m---------------------------------------------------------------------------\u001b[0m",
      "\u001b[1;31mModuleNotFoundError\u001b[0m                       Traceback (most recent call last)",
      "Cell \u001b[1;32mIn[82], line 1\u001b[0m\n\u001b[1;32m----> 1\u001b[0m \u001b[38;5;28;01mfrom\u001b[39;00m \u001b[38;5;21;01mwordcloud\u001b[39;00m \u001b[38;5;28;01mimport\u001b[39;00m WordCloud\n\u001b[0;32m      2\u001b[0m wc \u001b[38;5;241m=\u001b[39m WordCloud(width\u001b[38;5;241m=\u001b[39m\u001b[38;5;241m500\u001b[39m,height\u001b[38;5;241m=\u001b[39m\u001b[38;5;241m500\u001b[39m,min_font_size\u001b[38;5;241m=\u001b[39m\u001b[38;5;241m12\u001b[39m,background_color\u001b[38;5;241m=\u001b[39m\u001b[38;5;124m'\u001b[39m\u001b[38;5;124mblack\u001b[39m\u001b[38;5;124m'\u001b[39m)\n",
      "\u001b[1;31mModuleNotFoundError\u001b[0m: No module named 'wordcloud'"
     ]
    }
   ],
   "source": [
    "from wordcloud import WordCloud\n",
    "wc = WordCloud(width=500,height=500,min_font_size=12,background_color='black')"
   ]
  },
  {
   "cell_type": "code",
   "execution_count": 83,
   "id": "b5bb4440-9705-417f-958a-3dc563e88cac",
   "metadata": {},
   "outputs": [
    {
     "name": "stdout",
     "output_type": "stream",
     "text": [
      "Collecting wordcloud\n",
      "  Downloading wordcloud-1.9.2-cp311-cp311-win_amd64.whl (151 kB)\n",
      "                                              0.0/151.4 kB ? eta -:--:--\n",
      "     ----------                            41.0/151.4 kB 653.6 kB/s eta 0:00:01\n",
      "     -----------------------                 92.2/151.4 kB 1.1 MB/s eta 0:00:01\n",
      "     -----------------------------        122.9/151.4 kB 798.9 kB/s eta 0:00:01\n",
      "     ----------------------------------   143.4/151.4 kB 847.9 kB/s eta 0:00:01\n",
      "     ------------------------------------ 151.4/151.4 kB 644.7 kB/s eta 0:00:00\n",
      "Requirement already satisfied: numpy>=1.6.1 in c:\\users\\shri\\appdata\\local\\programs\\python\\python311\\lib\\site-packages (from wordcloud) (1.25.1)\n",
      "Requirement already satisfied: pillow in c:\\users\\shri\\appdata\\local\\programs\\python\\python311\\lib\\site-packages (from wordcloud) (10.0.0)\n",
      "Requirement already satisfied: matplotlib in c:\\users\\shri\\appdata\\local\\programs\\python\\python311\\lib\\site-packages (from wordcloud) (3.7.2)\n",
      "Requirement already satisfied: contourpy>=1.0.1 in c:\\users\\shri\\appdata\\local\\programs\\python\\python311\\lib\\site-packages (from matplotlib->wordcloud) (1.1.0)\n",
      "Requirement already satisfied: cycler>=0.10 in c:\\users\\shri\\appdata\\local\\programs\\python\\python311\\lib\\site-packages (from matplotlib->wordcloud) (0.11.0)\n",
      "Requirement already satisfied: fonttools>=4.22.0 in c:\\users\\shri\\appdata\\local\\programs\\python\\python311\\lib\\site-packages (from matplotlib->wordcloud) (4.41.0)\n",
      "Requirement already satisfied: kiwisolver>=1.0.1 in c:\\users\\shri\\appdata\\local\\programs\\python\\python311\\lib\\site-packages (from matplotlib->wordcloud) (1.4.4)\n",
      "Requirement already satisfied: packaging>=20.0 in c:\\users\\shri\\appdata\\local\\programs\\python\\python311\\lib\\site-packages (from matplotlib->wordcloud) (23.1)\n",
      "Requirement already satisfied: pyparsing<3.1,>=2.3.1 in c:\\users\\shri\\appdata\\local\\programs\\python\\python311\\lib\\site-packages (from matplotlib->wordcloud) (3.0.9)\n",
      "Requirement already satisfied: python-dateutil>=2.7 in c:\\users\\shri\\appdata\\local\\programs\\python\\python311\\lib\\site-packages (from matplotlib->wordcloud) (2.8.2)\n",
      "Requirement already satisfied: six>=1.5 in c:\\users\\shri\\appdata\\local\\programs\\python\\python311\\lib\\site-packages (from python-dateutil>=2.7->matplotlib->wordcloud) (1.16.0)\n",
      "Installing collected packages: wordcloud\n",
      "Successfully installed wordcloud-1.9.2\n"
     ]
    },
    {
     "name": "stderr",
     "output_type": "stream",
     "text": [
      "\n",
      "[notice] A new release of pip is available: 23.1.2 -> 23.2\n",
      "[notice] To update, run: C:\\Users\\SHRI\\AppData\\Local\\Programs\\Python\\Python311\\python.exe -m pip install --upgrade pip\n"
     ]
    }
   ],
   "source": [
    "!pip install wordcloud"
   ]
  },
  {
   "cell_type": "code",
   "execution_count": 84,
   "id": "345b236a-de33-4c7c-8864-c462353f5fab",
   "metadata": {},
   "outputs": [],
   "source": [
    "from wordcloud import WordCloud\n",
    "wc = WordCloud(width=500,height=500,min_font_size=12,background_color='black')"
   ]
  },
  {
   "cell_type": "code",
   "execution_count": 85,
   "id": "0d4386f0-a495-4b5f-8f90-bfdb493039e6",
   "metadata": {},
   "outputs": [
    {
     "data": {
      "text/plain": [
       "<wordcloud.wordcloud.WordCloud at 0x20d78dbc410>"
      ]
     },
     "execution_count": 85,
     "metadata": {},
     "output_type": "execute_result"
    }
   ],
   "source": [
    "wc.generate(df[df['target'] == 1]['transformed_text'].str.cat(sep=\" \"))"
   ]
  },
  {
   "cell_type": "code",
   "execution_count": 86,
   "id": "4e9ccc74-9eb8-47f5-87d8-bc3af5d1edb3",
   "metadata": {},
   "outputs": [],
   "source": [
    "spam_wc=wc.generate(df[df['target'] == 1]['transformed_text'].str.cat(sep=\" \"))"
   ]
  },
  {
   "cell_type": "code",
   "execution_count": 89,
   "id": "1fb4dba6-6ed8-4382-abc3-5061f48b1f33",
   "metadata": {},
   "outputs": [
    {
     "data": {
      "text/plain": [
       "<matplotlib.image.AxesImage at 0x20d7941cfd0>"
      ]
     },
     "execution_count": 89,
     "metadata": {},
     "output_type": "execute_result"
    },
    {
     "data": {
      "image/png": "[encoded data removed]",
      "text/plain": [
       "<Figure size 1500x600 with 1 Axes>"
      ]
     },
     "metadata": {},
     "output_type": "display_data"
    }
   ],
   "source": [
    "plt.figure(figsize=(15,6))\n",
    "plt.imshow(spam_wc)"
   ]
  },
  {
   "cell_type": "code",
   "execution_count": 92,
   "id": "0aeef192-20eb-4841-bdfa-7842cd1918b6",
   "metadata": {},
   "outputs": [],
   "source": [
    "spam_words = []\n",
    "for msg in df[df['target'] == 1]['transformed_text'].tolist():\n",
    "    for w in msg.split():\n",
    "        spam_words.append(w)"
   ]
  },
  {
   "cell_type": "code",
   "execution_count": 93,
   "id": "f5dfdab8-d6d3-4298-a3c5-f7784c109228",
   "metadata": {},
   "outputs": [
    {
     "data": {
      "text/plain": [
       "9939"
      ]
     },
     "execution_count": 93,
     "metadata": {},
     "output_type": "execute_result"
    }
   ],
   "source": [
    "len(spam_words)"
   ]
  },
  {
   "cell_type": "code",
   "execution_count": 95,
   "id": "39b22864-80b7-463c-aed9-335373c3ec93",
   "metadata": {},
   "outputs": [],
   "source": [
    "from collections import Counter"
   ]
  },
  {
   "cell_type": "code",
   "execution_count": 96,
   "id": "cab61de8-df5c-47ec-a8be-cf3d2943a0ae",
   "metadata": {
    "scrolled": true
   },
   "outputs": [
    {
     "data": {
      "text/plain": [
       "Counter({'call': 320,\n",
       "         'free': 191,\n",
       "         '2': 155,\n",
       "         'txt': 141,\n",
       "         'text': 122,\n",
       "         'u': 119,\n",
       "         'ur': 119,\n",
       "         'mobil': 114,\n",
       "         'stop': 104,\n",
       "         'repli': 103,\n",
       "         'claim': 98,\n",
       "         '4': 97,\n",
       "         'prize': 82,\n",
       "         'get': 74,\n",
       "         'new': 64,\n",
       "         'servic': 64,\n",
       "         'tone': 63,\n",
       "         'send': 60,\n",
       "         'urgent': 57,\n",
       "         'nokia': 57,\n",
       "         'contact': 56,\n",
       "         'award': 55,\n",
       "         'phone': 52,\n",
       "         'cash': 51,\n",
       "         'pleas': 51,\n",
       "         'week': 49,\n",
       "         'win': 48,\n",
       "         'c': 45,\n",
       "         'collect': 45,\n",
       "         'min': 45,\n",
       "         'custom': 42,\n",
       "         'messag': 42,\n",
       "         'guarante': 42,\n",
       "         'per': 41,\n",
       "         'chat': 38,\n",
       "         'tri': 37,\n",
       "         'msg': 35,\n",
       "         'draw': 35,\n",
       "         'number': 35,\n",
       "         'cs': 35,\n",
       "         'show': 33,\n",
       "         'today': 33,\n",
       "         'offer': 33,\n",
       "         'line': 33,\n",
       "         'go': 32,\n",
       "         'receiv': 31,\n",
       "         'want': 31,\n",
       "         'latest': 30,\n",
       "         'rington': 30,\n",
       "         'landlin': 30,\n",
       "         '150ppm': 29,\n",
       "         'video': 29,\n",
       "         '1': 28,\n",
       "         'voucher': 28,\n",
       "         'code': 27,\n",
       "         'holiday': 27,\n",
       "         'rate': 26,\n",
       "         'network': 26,\n",
       "         'select': 26,\n",
       "         '150p': 26,\n",
       "         'date': 26,\n",
       "         'box': 26,\n",
       "         'day': 26,\n",
       "         'everi': 26,\n",
       "         'appli': 24,\n",
       "         'r': 24,\n",
       "         'cost': 24,\n",
       "         'end': 24,\n",
       "         'po': 24,\n",
       "         'orang': 24,\n",
       "         'await': 24,\n",
       "         'camera': 23,\n",
       "         'chanc': 22,\n",
       "         'charg': 22,\n",
       "         'sm': 22,\n",
       "         'live': 22,\n",
       "         'poli': 22,\n",
       "         'attempt': 22,\n",
       "         'entri': 21,\n",
       "         'word': 21,\n",
       "         'valid': 21,\n",
       "         'find': 21,\n",
       "         '3': 20,\n",
       "         'back': 20,\n",
       "         'uk': 20,\n",
       "         'mob': 20,\n",
       "         '18': 20,\n",
       "         'game': 20,\n",
       "         'weekli': 20,\n",
       "         'pound': 19,\n",
       "         'know': 19,\n",
       "         '500': 19,\n",
       "         'club': 19,\n",
       "         '1st': 19,\n",
       "         '2nd': 19,\n",
       "         '8007': 19,\n",
       "         'pic': 19,\n",
       "         'credit': 18,\n",
       "         'http': 18,\n",
       "         'deliveri': 18,\n",
       "         'account': 18,\n",
       "         'join': 18,\n",
       "         '16': 18,\n",
       "         'sae': 18,\n",
       "         'time': 18,\n",
       "         'bonu': 17,\n",
       "         'wait': 17,\n",
       "         'expir': 17,\n",
       "         'order': 17,\n",
       "         '750': 17,\n",
       "         'unsubscrib': 17,\n",
       "         'wk': 17,\n",
       "         'next': 16,\n",
       "         'thank': 16,\n",
       "         '08000930705': 16,\n",
       "         'special': 16,\n",
       "         '12hr': 16,\n",
       "         'privat': 16,\n",
       "         'see': 16,\n",
       "         'take': 16,\n",
       "         'land': 16,\n",
       "         'dear': 16,\n",
       "         'gift': 16,\n",
       "         'camcord': 15,\n",
       "         'statement': 15,\n",
       "         'point': 15,\n",
       "         'identifi': 15,\n",
       "         'name': 15,\n",
       "         'music': 15,\n",
       "         'xma': 15,\n",
       "         'price': 15,\n",
       "         'enter': 15,\n",
       "         'hi': 15,\n",
       "         'auction': 15,\n",
       "         'final': 14,\n",
       "         'freemsg': 14,\n",
       "         'updat': 14,\n",
       "         'colour': 14,\n",
       "         '100': 14,\n",
       "         'play': 14,\n",
       "         'match': 14,\n",
       "         'top': 14,\n",
       "         'yr': 14,\n",
       "         'sexi': 14,\n",
       "         'content': 14,\n",
       "         '86688': 14,\n",
       "         'winner': 13,\n",
       "         'weekend': 13,\n",
       "         'friend': 13,\n",
       "         'someon': 13,\n",
       "         '10p': 13,\n",
       "         'hot': 13,\n",
       "         'doubl': 13,\n",
       "         'mobileupd8': 13,\n",
       "         '2003': 13,\n",
       "         '800': 13,\n",
       "         'tell': 13,\n",
       "         'like': 12,\n",
       "         'use': 12,\n",
       "         'ye': 12,\n",
       "         'last': 12,\n",
       "         'caller': 12,\n",
       "         'real': 12,\n",
       "         'dog': 12,\n",
       "         'start': 12,\n",
       "         'reveal': 12,\n",
       "         'congratul': 12,\n",
       "         'anytim': 12,\n",
       "         'minut': 12,\n",
       "         'fanci': 12,\n",
       "         '08000839402': 12,\n",
       "         'half': 12,\n",
       "         'help': 12,\n",
       "         'good': 12,\n",
       "         'enjoy': 12,\n",
       "         'info': 11,\n",
       "         'pobox': 11,\n",
       "         'nation': 11,\n",
       "         'eg': 11,\n",
       "         'complimentari': 11,\n",
       "         'oper': 11,\n",
       "         'ltd': 11,\n",
       "         'make': 11,\n",
       "         'think': 11,\n",
       "         'cd': 11,\n",
       "         'current': 11,\n",
       "         'rental': 11,\n",
       "         'import': 11,\n",
       "         'need': 11,\n",
       "         'wan': 11,\n",
       "         'xxx': 10,\n",
       "         'tomorrow': 10,\n",
       "         'follow': 10,\n",
       "         'player': 10,\n",
       "         'sent': 10,\n",
       "         'direct': 10,\n",
       "         'invit': 10,\n",
       "         '87066': 10,\n",
       "         'unlimit': 10,\n",
       "         'easi': 10,\n",
       "         'babe': 10,\n",
       "         'motorola': 10,\n",
       "         'love': 10,\n",
       "         'ipod': 10,\n",
       "         'shop': 10,\n",
       "         'one': 10,\n",
       "         'opt': 10,\n",
       "         'sex': 10,\n",
       "         'na': 10,\n",
       "         'b': 10,\n",
       "         'wkli': 9,\n",
       "         'question': 9,\n",
       "         'reward': 9,\n",
       "         'wap': 9,\n",
       "         'dont': 9,\n",
       "         'year': 9,\n",
       "         '0800': 9,\n",
       "         'quiz': 9,\n",
       "         'age': 9,\n",
       "         'look': 9,\n",
       "         'choos': 9,\n",
       "         '1000': 9,\n",
       "         '150': 9,\n",
       "         'ts': 9,\n",
       "         'subscrib': 9,\n",
       "         'chariti': 9,\n",
       "         'girl': 9,\n",
       "         'inform': 9,\n",
       "         'great': 9,\n",
       "         'comp': 8,\n",
       "         'fun': 8,\n",
       "         'valu': 8,\n",
       "         'miss': 8,\n",
       "         'news': 8,\n",
       "         '87077': 8,\n",
       "         'access': 8,\n",
       "         'x': 8,\n",
       "         'welcom': 8,\n",
       "         'term': 8,\n",
       "         'worth': 8,\n",
       "         'savamob': 8,\n",
       "         'area': 8,\n",
       "         '5': 8,\n",
       "         'mate': 8,\n",
       "         'either': 8,\n",
       "         'bid': 8,\n",
       "         'pl': 8,\n",
       "         'user': 8,\n",
       "         '08712460324': 8,\n",
       "         'lucki': 8,\n",
       "         'give': 8,\n",
       "         'part': 8,\n",
       "         'fantasi': 8,\n",
       "         'england': 7,\n",
       "         '10': 7,\n",
       "         'inc': 7,\n",
       "         'speak': 7,\n",
       "         '2004': 7,\n",
       "         'txting': 7,\n",
       "         'download': 7,\n",
       "         'even': 7,\n",
       "         'secret': 7,\n",
       "         'admir': 7,\n",
       "         'tnc': 7,\n",
       "         'horni': 7,\n",
       "         'sport': 7,\n",
       "         'maxim': 7,\n",
       "         'bluetooth': 7,\n",
       "         'ldn': 7,\n",
       "         'tenerif': 7,\n",
       "         'tc': 7,\n",
       "         'us': 7,\n",
       "         'custcar': 7,\n",
       "         'remov': 7,\n",
       "         '25p': 7,\n",
       "         'gr8': 7,\n",
       "         'fantast': 7,\n",
       "         'best': 7,\n",
       "         'night': 7,\n",
       "         'could': 7,\n",
       "         'summer': 7,\n",
       "         'store': 7,\n",
       "         'ntt': 7,\n",
       "         'log': 7,\n",
       "         'onto': 7,\n",
       "         'n': 7,\n",
       "         'plu': 7,\n",
       "         'bill': 7,\n",
       "         'im': 7,\n",
       "         'detail': 7,\n",
       "         'may': 6,\n",
       "         'std': 6,\n",
       "         'entitl': 6,\n",
       "         'link': 6,\n",
       "         'congrat': 6,\n",
       "         'etc': 6,\n",
       "         'repres': 6,\n",
       "         'flight': 6,\n",
       "         '08712300220': 6,\n",
       "         'quot': 6,\n",
       "         'standard': 6,\n",
       "         'sp': 6,\n",
       "         'handset': 6,\n",
       "         'answer': 6,\n",
       "         'loyalti': 6,\n",
       "         'cc': 6,\n",
       "         'discount': 6,\n",
       "         'first': 6,\n",
       "         'logo': 6,\n",
       "         '40gb': 6,\n",
       "         'member': 6,\n",
       "         'age16': 6,\n",
       "         'spree': 6,\n",
       "         'holder': 6,\n",
       "         'pc': 6,\n",
       "         'b4': 6,\n",
       "         'book': 6,\n",
       "         'extra': 6,\n",
       "         'zed': 6,\n",
       "         'care': 6,\n",
       "         'record': 6,\n",
       "         'asap': 6,\n",
       "         'gay': 6,\n",
       "         'guess': 6,\n",
       "         'digit': 6,\n",
       "         'an': 6,\n",
       "         'luck': 6,\n",
       "         'got': 6,\n",
       "         '0870': 6,\n",
       "         'arriv': 6,\n",
       "         'titl': 6,\n",
       "         'del': 6,\n",
       "         'pick': 6,\n",
       "         'hey': 5,\n",
       "         'still': 5,\n",
       "         'ok': 5,\n",
       "         'month': 5,\n",
       "         'click': 5,\n",
       "         'subscript': 5,\n",
       "         'pass': 5,\n",
       "         'come': 5,\n",
       "         'voda': 5,\n",
       "         'sunshin': 5,\n",
       "         'soni': 5,\n",
       "         'dvd': 5,\n",
       "         'locat': 5,\n",
       "         'bt': 5,\n",
       "         'must': 5,\n",
       "         'local': 5,\n",
       "         'luv': 5,\n",
       "         'frnd': 5,\n",
       "         '62468': 5,\n",
       "         'goto': 5,\n",
       "         'meet': 5,\n",
       "         'partner': 5,\n",
       "         'flirt': 5,\n",
       "         'singl': 5,\n",
       "         'themob': 5,\n",
       "         'keep': 5,\n",
       "         'rcvd': 5,\n",
       "         'sonyericsson': 5,\n",
       "         'eve': 5,\n",
       "         'pobox36504w45wq': 5,\n",
       "         'activ': 5,\n",
       "         'visit': 5,\n",
       "         'mp3': 5,\n",
       "         'sub': 5,\n",
       "         'ring': 5,\n",
       "         'announc': 5,\n",
       "         'guy': 5,\n",
       "         'vodafon': 5,\n",
       "         '80062': 5,\n",
       "         'immedi': 5,\n",
       "         'alert': 5,\n",
       "         'txtauction': 5,\n",
       "         'break': 5,\n",
       "         'no1': 5,\n",
       "         'talk': 5,\n",
       "         '08718720201': 5,\n",
       "         '6': 5,\n",
       "         'regist': 5,\n",
       "         'ask': 5,\n",
       "         'xchat': 5,\n",
       "         'o2': 5,\n",
       "         'surpris': 5,\n",
       "         'readi': 5,\n",
       "         '20p': 5,\n",
       "         '1327': 5,\n",
       "         'croydon': 5,\n",
       "         'cr9': 5,\n",
       "         '5wb': 5,\n",
       "         'reach': 5,\n",
       "         '86021': 5,\n",
       "         'eeri': 5,\n",
       "         'rpli': 5,\n",
       "         'comput': 5,\n",
       "         'fone': 5,\n",
       "         'flag': 5,\n",
       "         'spook': 5,\n",
       "         'tariff': 5,\n",
       "         'cancel': 5,\n",
       "         '3510i': 5,\n",
       "         '300': 5,\n",
       "         'hour': 4,\n",
       "         'v': 4,\n",
       "         'ac': 4,\n",
       "         'correct': 4,\n",
       "         '150pm': 4,\n",
       "         'recent': 4,\n",
       "         'app': 4,\n",
       "         'laid': 4,\n",
       "         'largest': 4,\n",
       "         'ec2a': 4,\n",
       "         'noth': 4,\n",
       "         'netcollex': 4,\n",
       "         'freephon': 4,\n",
       "         '2optout': 4,\n",
       "         'hmv': 4,\n",
       "         'upgrad': 4,\n",
       "         'card': 4,\n",
       "         '4u': 4,\n",
       "         'check': 4,\n",
       "         'decemb': 4,\n",
       "         'refer': 4,\n",
       "         'ad': 4,\n",
       "         'vari': 4,\n",
       "         'post': 4,\n",
       "         '5000': 4,\n",
       "         'cw25wx': 4,\n",
       "         'condit': 4,\n",
       "         '83355': 4,\n",
       "         'mono': 4,\n",
       "         '85023': 4,\n",
       "         'within': 4,\n",
       "         'hello': 4,\n",
       "         'forward': 4,\n",
       "         'polyphon': 4,\n",
       "         'pobox84': 4,\n",
       "         '36504': 4,\n",
       "         'm8': 4,\n",
       "         'ibiza': 4,\n",
       "         'ppm': 4,\n",
       "         'vip': 4,\n",
       "         'sale': 4,\n",
       "         'money': 4,\n",
       "         'away': 4,\n",
       "         'sk38xh': 4,\n",
       "         'contract': 4,\n",
       "         'place': 4,\n",
       "         'deliv': 4,\n",
       "         '08712405020': 4,\n",
       "         'cum': 4,\n",
       "         'xx': 4,\n",
       "         '08707509020': 4,\n",
       "         'linerent': 4,\n",
       "         'optout': 4,\n",
       "         '2nite': 4,\n",
       "         'hope': 4,\n",
       "         'hotel': 4,\n",
       "         '2day': 4,\n",
       "         'brand': 4,\n",
       "         '250': 4,\n",
       "         'london': 4,\n",
       "         'mobi': 4,\n",
       "         'action': 4,\n",
       "         'arcad': 4,\n",
       "         '08001950382': 4,\n",
       "         'would': 4,\n",
       "         'costa': 4,\n",
       "         'sol': 4,\n",
       "         '87239': 4,\n",
       "         'inclus': 4,\n",
       "         'saturday': 4,\n",
       "         'ntwk': 4,\n",
       "         'hit': 4,\n",
       "         'crazi': 4,\n",
       "         'porn': 4,\n",
       "         'mth': 4,\n",
       "         'film': 4,\n",
       "         'santa': 4,\n",
       "         'cup': 3,\n",
       "         '12': 3,\n",
       "         '11': 3,\n",
       "         'co': 3,\n",
       "         'hl': 3,\n",
       "         'review': 3,\n",
       "         'trip': 3,\n",
       "         'hear': 3,\n",
       "         'k52': 3,\n",
       "         '786': 3,\n",
       "         'unredeem': 3,\n",
       "         'tonight': 3,\n",
       "         'tv': 3,\n",
       "         '89545': 3,\n",
       "         'star': 3,\n",
       "         '25': 3,\n",
       "         'recd': 3,\n",
       "         'penc': 3,\n",
       "         'chart': 3,\n",
       "         '0845': 3,\n",
       "         'newest': 3,\n",
       "         'm26': 3,\n",
       "         '3uz': 3,\n",
       "         '08002986906': 3,\n",
       "         'germani': 3,\n",
       "         'via': 3,\n",
       "         'valentin': 3,\n",
       "         '83600': 3,\n",
       "         '11mth': 3,\n",
       "         '87131': 3,\n",
       "         'heart': 3,\n",
       "         '3min': 3,\n",
       "         'close': 3,\n",
       "         'wc1n3xx': 3,\n",
       "         'loan': 3,\n",
       "         'notic': 3,\n",
       "         'ibhltd': 3,\n",
       "         'ldnw15h': 3,\n",
       "         'renew': 3,\n",
       "         'box95qu': 3,\n",
       "         'unsub': 3,\n",
       "         '08715705022': 3,\n",
       "         '542': 3,\n",
       "         'ladi': 3,\n",
       "         'kick': 3,\n",
       "         'euro2004': 3,\n",
       "         'daili': 3,\n",
       "         'postcod': 3,\n",
       "         '20': 3,\n",
       "         'work': 3,\n",
       "         'textoper': 3,\n",
       "         '50': 3,\n",
       "         'listen': 3,\n",
       "         '4t': 3,\n",
       "         'pari': 3,\n",
       "         'citi': 3,\n",
       "         'skilgm': 3,\n",
       "         'ever': 3,\n",
       "         'life': 3,\n",
       "         'w45wq': 3,\n",
       "         '3qxj9': 3,\n",
       "         '9ae': 3,\n",
       "         'alfi': 3,\n",
       "         'moon': 3,\n",
       "         'children': 3,\n",
       "         'song': 3,\n",
       "         '08701417012': 3,\n",
       "         'profit': 3,\n",
       "         'cust': 3,\n",
       "         'five': 3,\n",
       "         '434': 3,\n",
       "         'sk3': 3,\n",
       "         '8wp': 3,\n",
       "         'address': 3,\n",
       "         'male': 3,\n",
       "         'cheap': 3,\n",
       "         'compani': 3,\n",
       "         '3g': 3,\n",
       "         'videophon': 3,\n",
       "         'videochat': 3,\n",
       "         'wid': 3,\n",
       "         'java': 3,\n",
       "         'dload': 3,\n",
       "         'nolin': 3,\n",
       "         'rentl': 3,\n",
       "         'f': 3,\n",
       "         'peopl': 3,\n",
       "         'cant': 3,\n",
       "         'sipix': 3,\n",
       "         'receipt': 3,\n",
       "         'bore': 3,\n",
       "         'yesterday': 3,\n",
       "         'mani': 3,\n",
       "         'let': 3,\n",
       "         'futur': 3,\n",
       "         'jordan': 3,\n",
       "         '84128': 3,\n",
       "         'set': 3,\n",
       "         'jamster': 3,\n",
       "         'origin': 3,\n",
       "         '3gbp': 3,\n",
       "         'photo': 3,\n",
       "         'arsen': 3,\n",
       "         'pod': 3,\n",
       "         'alon': 3,\n",
       "         '09066362231': 3,\n",
       "         '07xxxxxxxxx': 3,\n",
       "         'high': 3,\n",
       "         'shortli': 3,\n",
       "         '7250i': 3,\n",
       "         'stay': 3,\n",
       "         '82242': 3,\n",
       "         'sorri': 3,\n",
       "         'connect': 3,\n",
       "         'ticket': 3,\n",
       "         '18yr': 3,\n",
       "         'abta': 3,\n",
       "         'right': 3,\n",
       "         'person': 3,\n",
       "         'well': 3,\n",
       "         '09050090044': 3,\n",
       "         'toclaim': 3,\n",
       "         'pobox334': 3,\n",
       "         'stockport': 3,\n",
       "         'max10min': 3,\n",
       "         'provid': 3,\n",
       "         'freefon': 3,\n",
       "         'box97n7qp': 3,\n",
       "         'men': 3,\n",
       "         'offici': 3,\n",
       "         'ip4': 3,\n",
       "         '5we': 3,\n",
       "         'cross': 3,\n",
       "         'also': 3,\n",
       "         '88066': 3,\n",
       "         '80082': 3,\n",
       "         'halloween': 3,\n",
       "         'sky': 3,\n",
       "         'adult': 3,\n",
       "         '09066612661': 3,\n",
       "         'sept': 3,\n",
       "         '28': 3,\n",
       "         'king': 3,\n",
       "         'super': 3,\n",
       "         'littl': 3,\n",
       "         '50p': 3,\n",
       "         'deliveredtomorrow': 3,\n",
       "         'save': 3,\n",
       "         'callback': 3,\n",
       "         '200': 3,\n",
       "         '7': 3,\n",
       "         'nat': 3,\n",
       "         'goal': 3,\n",
       "         '30': 3,\n",
       "         'fa': 2,\n",
       "         'tkt': 2,\n",
       "         '87121': 2,\n",
       "         'darl': 2,\n",
       "         'chg': 2,\n",
       "         'rcv': 2,\n",
       "         'six': 2,\n",
       "         'team': 2,\n",
       "         'sptv': 2,\n",
       "         'cinema': 2,\n",
       "         '09061209465': 2,\n",
       "         'suprman': 2,\n",
       "         'matrix3': 2,\n",
       "         'starwars3': 2,\n",
       "         'advis': 2,\n",
       "         'simpli': 2,\n",
       "         'password': 2,\n",
       "         'verifi': 2,\n",
       "         'gent': 2,\n",
       "         '45239': 2,\n",
       "         '350': 2,\n",
       "         'q': 2,\n",
       "         'countri': 2,\n",
       "         'ansr': 2,\n",
       "         'tyron': 2,\n",
       "         '69888': 2,\n",
       "         'hardcor': 2,\n",
       "         'randi': 2,\n",
       "         '08700621170150p': 2,\n",
       "         'arrang': 2,\n",
       "         'uniqu': 2,\n",
       "         'enough': 2,\n",
       "         'august': 2,\n",
       "         'dream': 2,\n",
       "         'soon': 2,\n",
       "         'horo': 2,\n",
       "         'sign': 2,\n",
       "         'sam': 2,\n",
       "         '125gift': 2,\n",
       "         '69698': 2,\n",
       "         'qualiti': 2,\n",
       "         'pay': 2,\n",
       "         'sim': 2,\n",
       "         '021': 2,\n",
       "         'blind': 2,\n",
       "         '82468': 2,\n",
       "         'smart': 2,\n",
       "         'fix': 2,\n",
       "         '0844': 2,\n",
       "         '861': 2,\n",
       "         '85': 2,\n",
       "         'prepay': 2,\n",
       "         'lifetim': 2,\n",
       "         'shag': 2,\n",
       "         'avail': 2,\n",
       "         '4mth': 2,\n",
       "         'mobilesdirect': 2,\n",
       "         '08000938767': 2,\n",
       "         'or2stoptxt': 2,\n",
       "         'true': 2,\n",
       "         'box334sk38ch': 2,\n",
       "         'competit': 2,\n",
       "         '80086': 2,\n",
       "         'lover': 2,\n",
       "         'name1': 2,\n",
       "         'name2': 2,\n",
       "         'mobno': 2,\n",
       "         'adam': 2,\n",
       "         '07123456789': 2,\n",
       "         'yahoo': 2,\n",
       "         'txtno': 2,\n",
       "         'ave': 2,\n",
       "         'purpos': 2,\n",
       "         'tenant': 2,\n",
       "         'refus': 2,\n",
       "         '0207': 2,\n",
       "         '153': 2,\n",
       "         'juli': 2,\n",
       "         'dave': 2,\n",
       "         '09061743806': 2,\n",
       "         'box326': 2,\n",
       "         'cha': 2,\n",
       "         '24hr': 2,\n",
       "         '08718738001': 2,\n",
       "         'web': 2,\n",
       "         'call09050000327': 2,\n",
       "         '2000': 2,\n",
       "         '08712402050': 2,\n",
       "         '10ppm': 2,\n",
       "         'ag': 2,\n",
       "         'promo': 2,\n",
       "         'kept': 2,\n",
       "         'result': 2,\n",
       "         '83222': 2,\n",
       "         'textbuddi': 2,\n",
       "         'search': 2,\n",
       "         '89693': 2,\n",
       "         '40533': 2,\n",
       "         'rstm': 2,\n",
       "         'sw7': 2,\n",
       "         '3ss': 2,\n",
       "         'premium': 2,\n",
       "         'sue': 2,\n",
       "         'old': 2,\n",
       "         '09071512433': 2,\n",
       "         '050703': 2,\n",
       "         'csbcm4235wc1n3xx': 2,\n",
       "         'callcost': 2,\n",
       "         'mobilesvari': 2,\n",
       "         'email': 2,\n",
       "         'nokia6650': 2,\n",
       "         '81151': 2,\n",
       "         'ctxt': 2,\n",
       "         'helplin': 2,\n",
       "         '08706091795': 2,\n",
       "         '40': 2,\n",
       "         'around': 2,\n",
       "         'premier': 2,\n",
       "         '88039': 2,\n",
       "         'tscs087147403231winawk': 2,\n",
       "         '0578': 2,\n",
       "         'commun': 2,\n",
       "         'subpoli': 2,\n",
       "         '08718727870': 2,\n",
       "         'm263uz': 2,\n",
       "         'cashto': 2,\n",
       "         '08000407165': 2,\n",
       "         'getstop': 2,\n",
       "         '88222': 2,\n",
       "         'php': 2,\n",
       "         '08002888812': 2,\n",
       "         'wed': 2,\n",
       "         '09066350750': 2,\n",
       "         'world': 2,\n",
       "         'discreet': 2,\n",
       "         'suppli': 2,\n",
       "         'virgin': 2,\n",
       "         '41685': 2,\n",
       "         'till': 2,\n",
       "         '10k': 2,\n",
       "         'liverpool': 2,\n",
       "         '09058094565': 2,\n",
       "         'remind': 2,\n",
       "         'cheaper': 2,\n",
       "         'peak': 2,\n",
       "         '88600': 2,\n",
       "         'lux': 2,\n",
       "         'filthi': 2,\n",
       "         'valid12hr': 2,\n",
       "         '09063458130': 2,\n",
       "         'polyph': 2,\n",
       "         'somebodi': 2,\n",
       "         'secretli': 2,\n",
       "         'datebox1282essexcm61xn': 2,\n",
       "         'ls15hb': 2,\n",
       "         'euro': 2,\n",
       "         'flower': 2,\n",
       "         '84025': 2,\n",
       "         'lot': 2,\n",
       "         '09050003091': 2,\n",
       "         'c52': 2,\n",
       "         'p': 2,\n",
       "         '09061790121': 2,\n",
       "         'speedchat': 2,\n",
       "         '08000776320': 2,\n",
       "         'wish': 2,\n",
       "         'forget': 2,\n",
       "         'request': 2,\n",
       "         '4fil': 2,\n",
       "         'ralli': 2,\n",
       "         'energi': 2,\n",
       "         'celeb': 2,\n",
       "         'voicemail': 2,\n",
       "         'choic': 2,\n",
       "         '87021': 2,\n",
       "         'txtin': 2,\n",
       "         '4info': 2,\n",
       "         'complet': 2,\n",
       "         'hungri': 2,\n",
       "         'feel': 2,\n",
       "         'lion': 2,\n",
       "         'lionm': 2,\n",
       "         'lionp': 2,\n",
       "         'potter': 2,\n",
       "         'phoenix': 2,\n",
       "         'harri': 2,\n",
       "         'among': 2,\n",
       "         'reader': 2,\n",
       "         'balanc': 2,\n",
       "         'sauci': 2,\n",
       "         'bear': 2,\n",
       "         'upload': 2,\n",
       "         '08718730666': 2,\n",
       "         'textpod': 2,\n",
       "         'clair': 2,\n",
       "         'luci': 2,\n",
       "         'hubbi': 2,\n",
       "         'fri': 2,\n",
       "         'leav': 2,\n",
       "         '80488': 2,\n",
       "         'jsco': 2,\n",
       "         'sing': 2,\n",
       "         '7250': 2,\n",
       "         'british': 2,\n",
       "         'sw73ss': 2,\n",
       "         'dracula': 2,\n",
       "         'ghost': 2,\n",
       "         'addamsfa': 2,\n",
       "         'munster': 2,\n",
       "         'exorcist': 2,\n",
       "         'twilight': 2,\n",
       "         'respons': 2,\n",
       "         'cam': 2,\n",
       "         'msg150p': 2,\n",
       "         '2rcv': 2,\n",
       "         'hlp': 2,\n",
       "         '08712317606': 2,\n",
       "         '08712405022': 2,\n",
       "         'wiv': 2,\n",
       "         'marri': 2,\n",
       "         '81303': 2,\n",
       "         'hard': 2,\n",
       "         '121': 2,\n",
       "         'biggest': 2,\n",
       "         'wow': 2,\n",
       "         'boy': 2,\n",
       "         '2007': 2,\n",
       "         'tour': 2,\n",
       "         'chosen': 2,\n",
       "         'bahama': 2,\n",
       "         'buy': 2,\n",
       "         'press': 2,\n",
       "         '0': 2,\n",
       "         'purchas': 2,\n",
       "         'big': 2,\n",
       "         'excit': 2,\n",
       "         '3100': 2,\n",
       "         'straight': 2,\n",
       "         'wet': 2,\n",
       "         '89555': 2,\n",
       "         'g696ga': 2,\n",
       "         'pm': 2,\n",
       "         'upto': 2,\n",
       "         '12mth': 2,\n",
       "         '0776xxxxxxx': 2,\n",
       "         '326': 2,\n",
       "         'total': 2,\n",
       "         '80182': 2,\n",
       "         '08452810073': 2,\n",
       "         '09066358152': 2,\n",
       "         'prompt': 2,\n",
       "         'mind': 2,\n",
       "         'done': 2,\n",
       "         '61610': 2,\n",
       "         'yo': 2,\n",
       "         'tsc': 2,\n",
       "         'aom': 2,\n",
       "         'gender': 2,\n",
       "         'yer': 2,\n",
       "         'eng': 2,\n",
       "         'box39822': 2,\n",
       "         'w111wx': 2,\n",
       "         'hol': 2,\n",
       "         'med': 2,\n",
       "         'satisfi': 2,\n",
       "         'home': 2,\n",
       "         'pix': 2,\n",
       "         'ref': 2,\n",
       "         'respond': 2,\n",
       "         '300p': 2,\n",
       "         'heard': 2,\n",
       "         'u4': 2,\n",
       "         'rude': 2,\n",
       "         '8552': 2,\n",
       "         '88877': 2,\n",
       "         'lost': 2,\n",
       "         'upd8': 2,\n",
       "         '21870000': 2,\n",
       "         'mailbox': 2,\n",
       "         '09056242159': 2,\n",
       "         'retriev': 2,\n",
       "         'pub': 2,\n",
       "         'street': 2,\n",
       "         'duchess': 2,\n",
       "         'cornwal': 2,\n",
       "         '008704050406': 2,\n",
       "         '08701417012150p': 2,\n",
       "         'score': 2,\n",
       "         'town': 2,\n",
       "         'babi': 2,\n",
       "         'thing': 2,\n",
       "         'slo': 2,\n",
       "         '24': 2,\n",
       "         'acl03530150pm': 2,\n",
       "         'brought': 2,\n",
       "         'bx420': 2,\n",
       "         'amaz': 2,\n",
       "         'picsfree1': 2,\n",
       "         'instruct': 2,\n",
       "         'knock': 2,\n",
       "         'norm': 2,\n",
       "         '69696': 2,\n",
       "         'nyt': 2,\n",
       "         '3lp': 2,\n",
       "         'includ': 2,\n",
       "         'fastest': 2,\n",
       "         'grow': 2,\n",
       "         '2stoptxt': 2,\n",
       "         'luxuri': 2,\n",
       "         'canari': 2,\n",
       "         'island': 2,\n",
       "         'burger': 2,\n",
       "         'interflora': 2,\n",
       "         'everyon': 2,\n",
       "         'sinc': 2,\n",
       "         'warm': 2,\n",
       "         'bring': 2,\n",
       "         'sound': 2,\n",
       "         '88888': 2,\n",
       "         'realiti': 2,\n",
       "         'yet': 2,\n",
       "         'drive': 2,\n",
       "         'improv': 2,\n",
       "         'lotr': 2,\n",
       "         '08708034412': 2,\n",
       "         'lookatm': 2,\n",
       "         '09061221066': 2,\n",
       "         'fromm': 2,\n",
       "         'pobox45w2tg150p': 2,\n",
       "         'truli': 2,\n",
       "         'wo': 2,\n",
       "         'movi': 2,\n",
       "         'bank': 2,\n",
       "         'granit': 2,\n",
       "         'issu': 2,\n",
       "         'explos': 2,\n",
       "         'nasdaq': 2,\n",
       "         'symbol': 2,\n",
       "         'cdgt': 2,\n",
       "         'thur': 2,\n",
       "         'sat': 2,\n",
       "         'unabl': 2,\n",
       "         'class': 2,\n",
       "         'iscom': 2,\n",
       "         'blu': 2,\n",
       "         'wml': 2,\n",
       "         '09061743386': 2,\n",
       "         'spanish': 2,\n",
       "         'indic': 2,\n",
       "         'accid': 2,\n",
       "         '2find': 2,\n",
       "         'anoth': 2,\n",
       "         'polo': 2,\n",
       "         'suit': 2,\n",
       "         '373': 2,\n",
       "         'w1j': 2,\n",
       "         '6hl': 2,\n",
       "         'busi': 2,\n",
       "         'explicit': 2,\n",
       "         'sec': 2,\n",
       "         '02073162414': 2,\n",
       "         '89070': 2,\n",
       "         'mnth': 2,\n",
       "         '86888': 2,\n",
       "         '3hr': 2,\n",
       "         'txtstop': 2,\n",
       "         ...})"
      ]
     },
     "execution_count": 96,
     "metadata": {},
     "output_type": "execute_result"
    }
   ],
   "source": [
    "Counter(spam_words)"
   ]
  },
  {
   "cell_type": "code",
   "execution_count": 97,
   "id": "75edad8e-bbe1-4415-a1b1-5a7e0b0b3ce5",
   "metadata": {},
   "outputs": [
    {
     "ename": "AttributeError",
     "evalue": "'Counter' object has no attribute 'mostcommon'",
     "output_type": "error",
     "traceback": [
      "\u001b[1;31m---------------------------------------------------------------------------\u001b[0m",
      "\u001b[1;31mAttributeError\u001b[0m                            Traceback (most recent call last)",
      "Cell \u001b[1;32mIn[97], line 1\u001b[0m\n\u001b[1;32m----> 1\u001b[0m \u001b[43mCounter\u001b[49m\u001b[43m(\u001b[49m\u001b[43mspam_words\u001b[49m\u001b[43m)\u001b[49m\u001b[38;5;241;43m.\u001b[39;49m\u001b[43mmostcommon\u001b[49m(\u001b[38;5;241m10\u001b[39m)\n",
      "\u001b[1;31mAttributeError\u001b[0m: 'Counter' object has no attribute 'mostcommon'"
     ]
    }
   ],
   "source": [
    "Counter(spam_words).mostcommon(10)"
   ]
  },
  {
   "cell_type": "code",
   "execution_count": 98,
   "id": "5e71f69f-4e3b-43bf-b416-94625d9332ae",
   "metadata": {},
   "outputs": [
    {
     "data": {
      "text/plain": [
       "[('call', 320),\n",
       " ('free', 191),\n",
       " ('2', 155),\n",
       " ('txt', 141),\n",
       " ('text', 122),\n",
       " ('u', 119),\n",
       " ('ur', 119),\n",
       " ('mobil', 114),\n",
       " ('stop', 104),\n",
       " ('repli', 103)]"
      ]
     },
     "execution_count": 98,
     "metadata": {},
     "output_type": "execute_result"
    }
   ],
   "source": [
    "Counter(spam_words).most_common(10)"
   ]
  },
  {
   "cell_type": "code",
   "execution_count": 102,
   "id": "81ffc893-1a3e-420e-8823-18774159b2eb",
   "metadata": {},
   "outputs": [
    {
     "data": {
      "text/plain": [
       "(array([0, 1, 2, 3, 4, 5, 6, 7, 8, 9]),\n",
       " [Text(0, 0, 'call'),\n",
       "  Text(1, 0, 'free'),\n",
       "  Text(2, 0, '2'),\n",
       "  Text(3, 0, 'txt'),\n",
       "  Text(4, 0, 'text'),\n",
       "  Text(5, 0, 'u'),\n",
       "  Text(6, 0, 'ur'),\n",
       "  Text(7, 0, 'mobil'),\n",
       "  Text(8, 0, 'stop'),\n",
       "  Text(9, 0, 'repli')])"
      ]
     },
     "execution_count": 102,
     "metadata": {},
     "output_type": "execute_result"
    },
    {
     "data": {
      "image/png": "[encoded data removed]",
      "text/plain": [
       "<Figure size 640x480 with 1 Axes>"
      ]
     },
     "metadata": {},
     "output_type": "display_data"
    }
   ],
   "source": [
    "sns.barplot(x=pd.DataFrame(Counter(spam_words).most_common(10))[0],y=pd.DataFrame(Counter(spam_words).most_common(10))[1])\n",
    "plt.xticks(rotation='vertical')"
   ]
  },
  {
   "cell_type": "code",
   "execution_count": 105,
   "id": "29cdacaa-2586-484a-b5d7-66269b79cdfd",
   "metadata": {},
   "outputs": [],
   "source": [
    "#to build model vectorize the input\n",
    "from sklearn.feature_extraction.text import CountVectorizer"
   ]
  },
  {
   "cell_type": "code",
   "execution_count": 106,
   "id": "c19cd25d-ad17-4fcb-b7c5-b00a6509fcd0",
   "metadata": {},
   "outputs": [],
   "source": [
    "cv = CountVectorizer()"
   ]
  },
  {
   "cell_type": "code",
   "execution_count": 107,
   "id": "88494408-7f52-4571-aafd-7b083a44d1ed",
   "metadata": {},
   "outputs": [],
   "source": [
    "X=cv.fit_transform(df['transformed_text']).toarray()"
   ]
  },
  {
   "cell_type": "code",
   "execution_count": 108,
   "id": "36f30deb-1cee-4b9e-bb24-24720ab4d346",
   "metadata": {},
   "outputs": [
    {
     "data": {
      "text/plain": [
       "array([[0, 0, 0, ..., 0, 0, 0],\n",
       "       [0, 0, 0, ..., 0, 0, 0],\n",
       "       [0, 0, 0, ..., 0, 0, 0],\n",
       "       ...,\n",
       "       [0, 0, 0, ..., 0, 0, 0],\n",
       "       [0, 0, 0, ..., 0, 0, 0],\n",
       "       [0, 0, 0, ..., 0, 0, 0]], dtype=int64)"
      ]
     },
     "execution_count": 108,
     "metadata": {},
     "output_type": "execute_result"
    }
   ],
   "source": [
    "X"
   ]
  },
  {
   "cell_type": "code",
   "execution_count": 109,
   "id": "11ba10ea-837d-462f-baee-683bfa9f7d34",
   "metadata": {},
   "outputs": [],
   "source": [
    "y = df['target'].values"
   ]
  },
  {
   "cell_type": "code",
   "execution_count": 110,
   "id": "2d8a0b43-b915-4e0f-8823-e83026f18789",
   "metadata": {},
   "outputs": [],
   "source": [
    "from sklearn.model_selection import train_test_split\n"
   ]
  },
  {
   "cell_type": "code",
   "execution_count": 111,
   "id": "52409e53-7468-4b2e-b645-81f4954c04e9",
   "metadata": {},
   "outputs": [],
   "source": [
    "X_train,X_test,y_train,y_test = train_test_split(X,y,test_size=0.2,random_state=2)"
   ]
  },
  {
   "cell_type": "code",
   "execution_count": 114,
   "id": "625b9dea-5cc4-4c87-a9f2-0bcdde7fe1c3",
   "metadata": {},
   "outputs": [],
   "source": [
    "from sklearn.naive_bayes import GaussianNB,MultinomialNB,BernoulliNB\n",
    "from sklearn.metrics import accuracy_score,confusion_matrix,precision_score"
   ]
  },
  {
   "cell_type": "code",
   "execution_count": 113,
   "id": "a947359c-f2d1-4950-9bc6-575cf5e98030",
   "metadata": {},
   "outputs": [],
   "source": [
    "gnb = GaussianNB()\n",
    "mnb = MultinomialNB()\n",
    "bnb = BernoulliNB()"
   ]
  },
  {
   "cell_type": "code",
   "execution_count": 115,
   "id": "cac84c0e-a57c-4e7b-9ea2-ced4ade8d01a",
   "metadata": {},
   "outputs": [
    {
     "name": "stdout",
     "output_type": "stream",
     "text": [
      "0.8800773694390716\n",
      "[[792 104]\n",
      " [ 20 118]]\n",
      "0.5315315315315315\n"
     ]
    }
   ],
   "source": [
    "gnb.fit(X_train,y_train)\n",
    "y_pred1 = gnb.predict(X_test)\n",
    "print(accuracy_score(y_test,y_pred1))\n",
    "print(confusion_matrix(y_test,y_pred1))\n",
    "print(precision_score(y_test,y_pred1))"
   ]
  },
  {
   "cell_type": "code",
   "execution_count": 116,
   "id": "f018b225-85cc-4a7a-8555-90a0ed0d7dbf",
   "metadata": {},
   "outputs": [
    {
     "name": "stdout",
     "output_type": "stream",
     "text": [
      "0.9642166344294004\n",
      "[[871  25]\n",
      " [ 12 126]]\n",
      "0.8344370860927153\n"
     ]
    }
   ],
   "source": [
    "mnb.fit(X_train,y_train)\n",
    "y_pred2 = mnb.predict(X_test)\n",
    "print(accuracy_score(y_test,y_pred2))\n",
    "print(confusion_matrix(y_test,y_pred2))\n",
    "print(precision_score(y_test,y_pred2))"
   ]
  },
  {
   "cell_type": "code",
   "execution_count": 117,
   "id": "8a19e588-9873-472a-b9a7-25fd5cafb9b3",
   "metadata": {},
   "outputs": [],
   "source": [
    "#more acc and presicion score\n"
   ]
  },
  {
   "cell_type": "code",
   "execution_count": 118,
   "id": "cd971bd4-0ff2-42a0-9298-dc1d24b73a18",
   "metadata": {},
   "outputs": [
    {
     "name": "stdout",
     "output_type": "stream",
     "text": [
      "0.9700193423597679\n",
      "[[893   3]\n",
      " [ 28 110]]\n",
      "0.9734513274336283\n"
     ]
    }
   ],
   "source": [
    "bnb.fit(X_train,y_train)\n",
    "y_pred3 = bnb.predict(X_test)\n",
    "print(accuracy_score(y_test,y_pred3))\n",
    "print(confusion_matrix(y_test,y_pred3))\n",
    "print(precision_score(y_test,y_pred3))"
   ]
  },
  {
   "cell_type": "code",
   "execution_count": 119,
   "id": "1a092ab8-f554-4e05-a517-417fee857729",
   "metadata": {},
   "outputs": [],
   "source": [
    "#more ideal"
   ]
  },
  {
   "cell_type": "code",
   "execution_count": 120,
   "id": "22480e36-8b8c-4681-ac8b-8d4647de8e38",
   "metadata": {},
   "outputs": [],
   "source": [
    "#can make the precision score as high as possible\n",
    "#trying with tf idf"
   ]
  },
  {
   "cell_type": "code",
   "execution_count": 121,
   "id": "e1f52ff8-e3e5-4bc7-b394-33ed9c6c9f29",
   "metadata": {},
   "outputs": [],
   "source": [
    "from sklearn.feature_extraction.text import TfidfVectorizer"
   ]
  },
  {
   "cell_type": "code",
   "execution_count": 131,
   "id": "848d079f-7adf-498f-89b6-5c73fd9ea664",
   "metadata": {},
   "outputs": [],
   "source": [
    "tfidf = TfidfVectorizer(max_features=3000) #maxfeatures specifies no of words most used n words\n",
    "x = tfidf.fit_transform(df['transformed_text']).toarray()"
   ]
  },
  {
   "cell_type": "code",
   "execution_count": 124,
   "id": "5bdecbdd-995a-4a5c-8dbe-6cc2220fdd8a",
   "metadata": {},
   "outputs": [],
   "source": [
    "X_train,X_test,y_train,y_test = train_test_split(x,y,test_size=0.2,random_state=2)"
   ]
  },
  {
   "cell_type": "code",
   "execution_count": 132,
   "id": "7e059436-7b02-4421-b127-53c09a52270d",
   "metadata": {},
   "outputs": [
    {
     "name": "stdout",
     "output_type": "stream",
     "text": [
      "0.8694390715667312\n",
      "[[788 108]\n",
      " [ 27 111]]\n",
      "0.5068493150684932\n"
     ]
    }
   ],
   "source": [
    "gnb.fit(X_train,y_train)\n",
    "y_pred1 = gnb.predict(X_test)\n",
    "print(accuracy_score(y_test,y_pred1))\n",
    "print(confusion_matrix(y_test,y_pred1))\n",
    "print(precision_score(y_test,y_pred1))"
   ]
  },
  {
   "cell_type": "code",
   "execution_count": 133,
   "id": "5404890c-6208-478e-a274-ce3d578187bc",
   "metadata": {},
   "outputs": [
    {
     "name": "stdout",
     "output_type": "stream",
     "text": [
      "0.9709864603481625\n",
      "[[896   0]\n",
      " [ 30 108]]\n",
      "1.0\n"
     ]
    }
   ],
   "source": [
    "mnb.fit(X_train,y_train)\n",
    "y_pred2 = mnb.predict(X_test)\n",
    "print(accuracy_score(y_test,y_pred2))\n",
    "print(confusion_matrix(y_test,y_pred2))\n",
    "print(precision_score(y_test,y_pred2))"
   ]
  },
  {
   "cell_type": "code",
   "execution_count": 127,
   "id": "034bd655-1eb1-4012-a3f1-a8f13a0ce034",
   "metadata": {},
   "outputs": [],
   "source": [
    "#presicion highest.\n"
   ]
  },
  {
   "cell_type": "code",
   "execution_count": 134,
   "id": "483d4093-b159-42c2-beb1-cde16c965554",
   "metadata": {},
   "outputs": [],
   "source": [
    "from sklearn.neighbors import KNeighborsClassifier"
   ]
  },
  {
   "cell_type": "code",
   "execution_count": 135,
   "id": "354d9bd9-afb6-444e-bd85-03f67ba98aae",
   "metadata": {},
   "outputs": [],
   "source": [
    "knc = KNeighborsClassifier()"
   ]
  },
  {
   "cell_type": "code",
   "execution_count": 138,
   "id": "51a1adbb-d7f4-4e76-b3fa-4575fd5682b3",
   "metadata": {},
   "outputs": [],
   "source": [
    "knc.fit(X_train,y_train)\n",
    "y_pred = knc.predict(X_test)\n",
    "accuracy = accuracy_score(y_test,y_pred)\n",
    "precision = precision_score(y_test,y_pred)"
   ]
  },
  {
   "cell_type": "code",
   "execution_count": 139,
   "id": "967ee0bd-2200-46f3-a1cd-e977187d8286",
   "metadata": {},
   "outputs": [
    {
     "data": {
      "text/plain": [
       "0.9052224371373307"
      ]
     },
     "execution_count": 139,
     "metadata": {},
     "output_type": "execute_result"
    }
   ],
   "source": [
    "accuracy"
   ]
  },
  {
   "cell_type": "code",
   "execution_count": 140,
   "id": "98dde1d1-34a1-4022-9bfd-491c806010ec",
   "metadata": {},
   "outputs": [
    {
     "data": {
      "text/plain": [
       "1.0"
      ]
     },
     "execution_count": 140,
     "metadata": {},
     "output_type": "execute_result"
    }
   ],
   "source": [
    "precision"
   ]
  },
  {
   "cell_type": "code",
   "execution_count": 141,
   "id": "2ebb3ec3-4d73-4205-b5b1-c58e7e15c2f9",
   "metadata": {},
   "outputs": [],
   "source": [
    "#even though precision is good acc is lower"
   ]
  },
  {
   "cell_type": "code",
   "execution_count": 142,
   "id": "762e6f1d-0af4-4485-b99e-d6096a982670",
   "metadata": {},
   "outputs": [],
   "source": [
    "from sklearn.ensemble import RandomForestClassifier\n",
    "rfc = RandomForestClassifier(n_estimators=50, random_state=2)"
   ]
  },
  {
   "cell_type": "code",
   "execution_count": 143,
   "id": "2ad2128c-bfac-4613-a057-b893d458f1be",
   "metadata": {},
   "outputs": [],
   "source": [
    "rfc.fit(X_train,y_train)\n",
    "y_pred = rfc.predict(X_test)\n",
    "accuracy = accuracy_score(y_test,y_pred)\n",
    "precision = precision_score(y_test,y_pred)"
   ]
  },
  {
   "cell_type": "code",
   "execution_count": 144,
   "id": "5a4d502b-f6dc-4ba0-a8b2-44545e3ffbe5",
   "metadata": {},
   "outputs": [
    {
     "data": {
      "text/plain": [
       "0.9758220502901354"
      ]
     },
     "execution_count": 144,
     "metadata": {},
     "output_type": "execute_result"
    }
   ],
   "source": [
    "accuracy"
   ]
  },
  {
   "cell_type": "code",
   "execution_count": 145,
   "id": "119b3a8a-d06e-4eef-95ec-156331ae0ebc",
   "metadata": {},
   "outputs": [
    {
     "data": {
      "text/plain": [
       "0.9829059829059829"
      ]
     },
     "execution_count": 145,
     "metadata": {},
     "output_type": "execute_result"
    }
   ],
   "source": [
    "precision"
   ]
  },
  {
   "cell_type": "code",
   "execution_count": 146,
   "id": "678d1201-8975-4a68-bc1b-e5a536721765",
   "metadata": {},
   "outputs": [],
   "source": [
    "#precision went down."
   ]
  },
  {
   "cell_type": "code",
   "execution_count": 147,
   "id": "88fddc48-de45-4c8f-8d0c-c219d2bc62f4",
   "metadata": {},
   "outputs": [],
   "source": [
    "#proceeding with mnb"
   ]
  },
  {
   "cell_type": "code",
   "execution_count": 148,
   "id": "cff19374-5cc4-46a0-8274-bf7ec67d1d69",
   "metadata": {},
   "outputs": [],
   "source": [
    "import pickle"
   ]
  },
  {
   "cell_type": "code",
   "execution_count": 149,
   "id": "0f5921f6-9dc1-446c-8297-39f791bf9a82",
   "metadata": {},
   "outputs": [],
   "source": [
    "pickle.dump(tfidf,open('vectorizer.pkl','wb'))\n",
    "pickle.dump(mnb,open('model.pkl','wb'))"
   ]
  },
  {
   "cell_type": "code",
   "execution_count": null,
   "id": "524b2b93-12b0-4d75-8c87-7d4d739c296a",
   "metadata": {},
   "outputs": [],
   "source": []
  }
 ],
 "metadata": {
  "kernelspec": {
   "display_name": "Python 3 (ipykernel)",
   "language": "python",
   "name": "python3"
  },
  "language_info": {
   "codemirror_mode": {
    "name": "ipython",
    "version": 3
   },
   "file_extension": ".py",
   "mimetype": "text/x-python",
   "name": "python",
   "nbconvert_exporter": "python",
   "pygments_lexer": "ipython3",
   "version": "3.11.4"
  }
 },
 "nbformat": 4,
 "nbformat_minor": 5
}
